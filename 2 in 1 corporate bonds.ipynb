{
 "cells": [
  {
   "cell_type": "markdown",
   "id": "6e1f7895",
   "metadata": {},
   "source": [
    "# VALUATION OF BONDS"
   ]
  },
  {
   "cell_type": "markdown",
   "id": "e048ca26",
   "metadata": {},
   "source": [
    "CORP BOND W A 5% P.A COUPON FOR NEXT 6 YEARS. PRICE YOU ARE WILLING TO PAY PER 100 USD IF BONDS W SIMILAR RISK HAVE 4.5% PA YTM"
   ]
  },
  {
   "cell_type": "code",
   "execution_count": 2,
   "id": "332c90ad",
   "metadata": {},
   "outputs": [],
   "source": [
    "import numpy as np\n",
    "import numpy_financial as npf"
   ]
  },
  {
   "cell_type": "code",
   "execution_count": 3,
   "id": "069f4d8b",
   "metadata": {},
   "outputs": [],
   "source": [
    "m=4\n",
    "coup=5/m\n",
    "r=0.045\n",
    "n=6\n",
    "fv=100"
   ]
  },
  {
   "cell_type": "code",
   "execution_count": 5,
   "id": "c6c9a0a9",
   "metadata": {},
   "outputs": [
    {
     "data": {
      "text/plain": [
       "-102.6163208657496"
      ]
     },
     "execution_count": 5,
     "metadata": {},
     "output_type": "execute_result"
    }
   ],
   "source": [
    "npf.pv(rate=r/m,pmt=coup,nper=n*m,fv=fv)"
   ]
  },
  {
   "cell_type": "code",
   "execution_count": null,
   "id": "f1b714b3",
   "metadata": {},
   "outputs": [],
   "source": []
  }
 ],
 "metadata": {
  "kernelspec": {
   "display_name": "Python 3 (ipykernel)",
   "language": "python",
   "name": "python3"
  },
  "language_info": {
   "codemirror_mode": {
    "name": "ipython",
    "version": 3
   },
   "file_extension": ".py",
   "mimetype": "text/x-python",
   "name": "python",
   "nbconvert_exporter": "python",
   "pygments_lexer": "ipython3",
   "version": "3.9.12"
  }
 },
 "nbformat": 4,
 "nbformat_minor": 5
}
