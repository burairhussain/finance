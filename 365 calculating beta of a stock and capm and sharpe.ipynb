{
 "cells": [
  {
   "cell_type": "code",
   "execution_count": 1,
   "id": "2da3532f",
   "metadata": {},
   "outputs": [],
   "source": [
    "import numpy as np\n",
    "import pandas as pd\n",
    "import matplotlib.pyplot as plt\n",
    "import yfinance as yf\n",
    "%matplotlib inline"
   ]
  },
  {
   "cell_type": "code",
   "execution_count": 2,
   "id": "b0d70198",
   "metadata": {},
   "outputs": [
    {
     "name": "stdout",
     "output_type": "stream",
     "text": [
      "[*********************100%***********************]  2 of 2 completed\n"
     ]
    }
   ],
   "source": [
    "assets= yf.download(['PG','^GSPC'], period='5Y')['Adj Close']"
   ]
  },
  {
   "cell_type": "markdown",
   "id": "b2dcf31b",
   "metadata": {},
   "source": [
    "beta is calculated on basis of last 5 years "
   ]
  },
  {
   "cell_type": "code",
   "execution_count": 3,
   "id": "e1289bb7",
   "metadata": {},
   "outputs": [
    {
     "data": {
      "text/html": [
       "<div>\n",
       "<style scoped>\n",
       "    .dataframe tbody tr th:only-of-type {\n",
       "        vertical-align: middle;\n",
       "    }\n",
       "\n",
       "    .dataframe tbody tr th {\n",
       "        vertical-align: top;\n",
       "    }\n",
       "\n",
       "    .dataframe thead th {\n",
       "        text-align: right;\n",
       "    }\n",
       "</style>\n",
       "<table border=\"1\" class=\"dataframe\">\n",
       "  <thead>\n",
       "    <tr style=\"text-align: right;\">\n",
       "      <th></th>\n",
       "      <th>PG</th>\n",
       "      <th>^GSPC</th>\n",
       "    </tr>\n",
       "    <tr>\n",
       "      <th>Date</th>\n",
       "      <th></th>\n",
       "      <th></th>\n",
       "    </tr>\n",
       "  </thead>\n",
       "  <tbody>\n",
       "    <tr>\n",
       "      <th>2018-04-16 00:00:00-04:00</th>\n",
       "      <td>68.696854</td>\n",
       "      <td>2677.840088</td>\n",
       "    </tr>\n",
       "    <tr>\n",
       "      <th>2018-04-17 00:00:00-04:00</th>\n",
       "      <td>68.539558</td>\n",
       "      <td>2706.389893</td>\n",
       "    </tr>\n",
       "    <tr>\n",
       "      <th>2018-04-18 00:00:00-04:00</th>\n",
       "      <td>68.338570</td>\n",
       "      <td>2708.639893</td>\n",
       "    </tr>\n",
       "    <tr>\n",
       "      <th>2018-04-19 00:00:00-04:00</th>\n",
       "      <td>66.104492</td>\n",
       "      <td>2693.129883</td>\n",
       "    </tr>\n",
       "    <tr>\n",
       "      <th>2018-04-20 00:00:00-04:00</th>\n",
       "      <td>65.090225</td>\n",
       "      <td>2670.139893</td>\n",
       "    </tr>\n",
       "  </tbody>\n",
       "</table>\n",
       "</div>"
      ],
      "text/plain": [
       "                                  PG        ^GSPC\n",
       "Date                                             \n",
       "2018-04-16 00:00:00-04:00  68.696854  2677.840088\n",
       "2018-04-17 00:00:00-04:00  68.539558  2706.389893\n",
       "2018-04-18 00:00:00-04:00  68.338570  2708.639893\n",
       "2018-04-19 00:00:00-04:00  66.104492  2693.129883\n",
       "2018-04-20 00:00:00-04:00  65.090225  2670.139893"
      ]
     },
     "execution_count": 3,
     "metadata": {},
     "output_type": "execute_result"
    }
   ],
   "source": [
    "assets.head()"
   ]
  },
  {
   "cell_type": "code",
   "execution_count": 4,
   "id": "fb10247c",
   "metadata": {},
   "outputs": [
    {
     "name": "stdout",
     "output_type": "stream",
     "text": [
      "<class 'pandas.core.frame.DataFrame'>\n",
      "DatetimeIndex: 1259 entries, 2018-04-16 00:00:00-04:00 to 2023-04-14 00:00:00-04:00\n",
      "Data columns (total 2 columns):\n",
      " #   Column  Non-Null Count  Dtype  \n",
      "---  ------  --------------  -----  \n",
      " 0   PG      1259 non-null   float64\n",
      " 1   ^GSPC   1259 non-null   float64\n",
      "dtypes: float64(2)\n",
      "memory usage: 29.5 KB\n"
     ]
    }
   ],
   "source": [
    "assets.info()"
   ]
  },
  {
   "cell_type": "code",
   "execution_count": 5,
   "id": "b568f3ab",
   "metadata": {},
   "outputs": [
    {
     "data": {
      "text/html": [
       "<div>\n",
       "<style scoped>\n",
       "    .dataframe tbody tr th:only-of-type {\n",
       "        vertical-align: middle;\n",
       "    }\n",
       "\n",
       "    .dataframe tbody tr th {\n",
       "        vertical-align: top;\n",
       "    }\n",
       "\n",
       "    .dataframe thead th {\n",
       "        text-align: right;\n",
       "    }\n",
       "</style>\n",
       "<table border=\"1\" class=\"dataframe\">\n",
       "  <thead>\n",
       "    <tr style=\"text-align: right;\">\n",
       "      <th></th>\n",
       "      <th>PG</th>\n",
       "      <th>^GSPC</th>\n",
       "    </tr>\n",
       "    <tr>\n",
       "      <th>Date</th>\n",
       "      <th></th>\n",
       "      <th></th>\n",
       "    </tr>\n",
       "  </thead>\n",
       "  <tbody>\n",
       "    <tr>\n",
       "      <th>2023-04-10 00:00:00-04:00</th>\n",
       "      <td>150.960007</td>\n",
       "      <td>4109.109863</td>\n",
       "    </tr>\n",
       "    <tr>\n",
       "      <th>2023-04-11 00:00:00-04:00</th>\n",
       "      <td>150.660004</td>\n",
       "      <td>4108.939941</td>\n",
       "    </tr>\n",
       "    <tr>\n",
       "      <th>2023-04-12 00:00:00-04:00</th>\n",
       "      <td>151.070007</td>\n",
       "      <td>4091.949951</td>\n",
       "    </tr>\n",
       "    <tr>\n",
       "      <th>2023-04-13 00:00:00-04:00</th>\n",
       "      <td>151.770004</td>\n",
       "      <td>4146.220215</td>\n",
       "    </tr>\n",
       "    <tr>\n",
       "      <th>2023-04-14 00:00:00-04:00</th>\n",
       "      <td>151.000000</td>\n",
       "      <td>4137.640137</td>\n",
       "    </tr>\n",
       "  </tbody>\n",
       "</table>\n",
       "</div>"
      ],
      "text/plain": [
       "                                   PG        ^GSPC\n",
       "Date                                              \n",
       "2023-04-10 00:00:00-04:00  150.960007  4109.109863\n",
       "2023-04-11 00:00:00-04:00  150.660004  4108.939941\n",
       "2023-04-12 00:00:00-04:00  151.070007  4091.949951\n",
       "2023-04-13 00:00:00-04:00  151.770004  4146.220215\n",
       "2023-04-14 00:00:00-04:00  151.000000  4137.640137"
      ]
     },
     "execution_count": 5,
     "metadata": {},
     "output_type": "execute_result"
    }
   ],
   "source": [
    "assets.tail()"
   ]
  },
  {
   "cell_type": "code",
   "execution_count": 6,
   "id": "a9d9bd63",
   "metadata": {},
   "outputs": [],
   "source": [
    "sec_return= np.log(assets/assets.shift(1))"
   ]
  },
  {
   "cell_type": "code",
   "execution_count": 7,
   "id": "1ef738eb",
   "metadata": {},
   "outputs": [
    {
     "data": {
      "text/html": [
       "<div>\n",
       "<style scoped>\n",
       "    .dataframe tbody tr th:only-of-type {\n",
       "        vertical-align: middle;\n",
       "    }\n",
       "\n",
       "    .dataframe tbody tr th {\n",
       "        vertical-align: top;\n",
       "    }\n",
       "\n",
       "    .dataframe thead th {\n",
       "        text-align: right;\n",
       "    }\n",
       "</style>\n",
       "<table border=\"1\" class=\"dataframe\">\n",
       "  <thead>\n",
       "    <tr style=\"text-align: right;\">\n",
       "      <th></th>\n",
       "      <th>PG</th>\n",
       "      <th>^GSPC</th>\n",
       "    </tr>\n",
       "    <tr>\n",
       "      <th>Date</th>\n",
       "      <th></th>\n",
       "      <th></th>\n",
       "    </tr>\n",
       "  </thead>\n",
       "  <tbody>\n",
       "    <tr>\n",
       "      <th>2018-04-16 00:00:00-04:00</th>\n",
       "      <td>NaN</td>\n",
       "      <td>NaN</td>\n",
       "    </tr>\n",
       "    <tr>\n",
       "      <th>2018-04-17 00:00:00-04:00</th>\n",
       "      <td>-0.002292</td>\n",
       "      <td>0.010605</td>\n",
       "    </tr>\n",
       "    <tr>\n",
       "      <th>2018-04-18 00:00:00-04:00</th>\n",
       "      <td>-0.002937</td>\n",
       "      <td>0.000831</td>\n",
       "    </tr>\n",
       "    <tr>\n",
       "      <th>2018-04-19 00:00:00-04:00</th>\n",
       "      <td>-0.033238</td>\n",
       "      <td>-0.005743</td>\n",
       "    </tr>\n",
       "    <tr>\n",
       "      <th>2018-04-20 00:00:00-04:00</th>\n",
       "      <td>-0.015462</td>\n",
       "      <td>-0.008573</td>\n",
       "    </tr>\n",
       "    <tr>\n",
       "      <th>...</th>\n",
       "      <td>...</td>\n",
       "      <td>...</td>\n",
       "    </tr>\n",
       "    <tr>\n",
       "      <th>2023-04-10 00:00:00-04:00</th>\n",
       "      <td>-0.008312</td>\n",
       "      <td>0.000996</td>\n",
       "    </tr>\n",
       "    <tr>\n",
       "      <th>2023-04-11 00:00:00-04:00</th>\n",
       "      <td>-0.001989</td>\n",
       "      <td>-0.000041</td>\n",
       "    </tr>\n",
       "    <tr>\n",
       "      <th>2023-04-12 00:00:00-04:00</th>\n",
       "      <td>0.002718</td>\n",
       "      <td>-0.004143</td>\n",
       "    </tr>\n",
       "    <tr>\n",
       "      <th>2023-04-13 00:00:00-04:00</th>\n",
       "      <td>0.004623</td>\n",
       "      <td>0.013176</td>\n",
       "    </tr>\n",
       "    <tr>\n",
       "      <th>2023-04-14 00:00:00-04:00</th>\n",
       "      <td>-0.005086</td>\n",
       "      <td>-0.002072</td>\n",
       "    </tr>\n",
       "  </tbody>\n",
       "</table>\n",
       "<p>1259 rows × 2 columns</p>\n",
       "</div>"
      ],
      "text/plain": [
       "                                 PG     ^GSPC\n",
       "Date                                         \n",
       "2018-04-16 00:00:00-04:00       NaN       NaN\n",
       "2018-04-17 00:00:00-04:00 -0.002292  0.010605\n",
       "2018-04-18 00:00:00-04:00 -0.002937  0.000831\n",
       "2018-04-19 00:00:00-04:00 -0.033238 -0.005743\n",
       "2018-04-20 00:00:00-04:00 -0.015462 -0.008573\n",
       "...                             ...       ...\n",
       "2023-04-10 00:00:00-04:00 -0.008312  0.000996\n",
       "2023-04-11 00:00:00-04:00 -0.001989 -0.000041\n",
       "2023-04-12 00:00:00-04:00  0.002718 -0.004143\n",
       "2023-04-13 00:00:00-04:00  0.004623  0.013176\n",
       "2023-04-14 00:00:00-04:00 -0.005086 -0.002072\n",
       "\n",
       "[1259 rows x 2 columns]"
      ]
     },
     "execution_count": 7,
     "metadata": {},
     "output_type": "execute_result"
    }
   ],
   "source": [
    "sec_return"
   ]
  },
  {
   "cell_type": "code",
   "execution_count": 8,
   "id": "f8cf9e76",
   "metadata": {},
   "outputs": [],
   "source": [
    "cov= sec_return.cov()*250"
   ]
  },
  {
   "cell_type": "code",
   "execution_count": 9,
   "id": "33bc3d3a",
   "metadata": {},
   "outputs": [
    {
     "data": {
      "text/html": [
       "<div>\n",
       "<style scoped>\n",
       "    .dataframe tbody tr th:only-of-type {\n",
       "        vertical-align: middle;\n",
       "    }\n",
       "\n",
       "    .dataframe tbody tr th {\n",
       "        vertical-align: top;\n",
       "    }\n",
       "\n",
       "    .dataframe thead th {\n",
       "        text-align: right;\n",
       "    }\n",
       "</style>\n",
       "<table border=\"1\" class=\"dataframe\">\n",
       "  <thead>\n",
       "    <tr style=\"text-align: right;\">\n",
       "      <th></th>\n",
       "      <th>PG</th>\n",
       "      <th>^GSPC</th>\n",
       "    </tr>\n",
       "  </thead>\n",
       "  <tbody>\n",
       "    <tr>\n",
       "      <th>PG</th>\n",
       "      <td>0.046716</td>\n",
       "      <td>0.027171</td>\n",
       "    </tr>\n",
       "    <tr>\n",
       "      <th>^GSPC</th>\n",
       "      <td>0.027171</td>\n",
       "      <td>0.047039</td>\n",
       "    </tr>\n",
       "  </tbody>\n",
       "</table>\n",
       "</div>"
      ],
      "text/plain": [
       "             PG     ^GSPC\n",
       "PG     0.046716  0.027171\n",
       "^GSPC  0.027171  0.047039"
      ]
     },
     "execution_count": 9,
     "metadata": {},
     "output_type": "execute_result"
    }
   ],
   "source": [
    "cov"
   ]
  },
  {
   "cell_type": "code",
   "execution_count": 10,
   "id": "c806113b",
   "metadata": {},
   "outputs": [
    {
     "data": {
      "text/plain": [
       "0.02717145918615179"
      ]
     },
     "execution_count": 10,
     "metadata": {},
     "output_type": "execute_result"
    }
   ],
   "source": [
    "cov_w_market = cov.iloc[0,1]\n",
    "cov_w_market"
   ]
  },
  {
   "cell_type": "code",
   "execution_count": 12,
   "id": "20c2a985",
   "metadata": {},
   "outputs": [],
   "source": [
    "market_var= sec_return['^GSPC'].var()*250"
   ]
  },
  {
   "cell_type": "code",
   "execution_count": 13,
   "id": "d19a83bb",
   "metadata": {},
   "outputs": [
    {
     "data": {
      "text/plain": [
       "0.04703899755258782"
      ]
     },
     "execution_count": 13,
     "metadata": {},
     "output_type": "execute_result"
    }
   ],
   "source": [
    "market_var"
   ]
  },
  {
   "cell_type": "markdown",
   "id": "61ad696f",
   "metadata": {},
   "source": [
    "# BETA"
   ]
  },
  {
   "cell_type": "code",
   "execution_count": 14,
   "id": "3a232211",
   "metadata": {},
   "outputs": [],
   "source": [
    "PG= cov_w_market/market_var"
   ]
  },
  {
   "cell_type": "code",
   "execution_count": 15,
   "id": "4e911567",
   "metadata": {},
   "outputs": [
    {
     "data": {
      "text/plain": [
       "0.5776368672775206"
      ]
     },
     "execution_count": 15,
     "metadata": {},
     "output_type": "execute_result"
    }
   ],
   "source": [
    "PG"
   ]
  },
  {
   "cell_type": "markdown",
   "id": "5250f27a",
   "metadata": {},
   "source": [
    "pg greater than zero and less than 1, this is a defensive stock "
   ]
  },
  {
   "cell_type": "code",
   "execution_count": 16,
   "id": "c06f75f3",
   "metadata": {},
   "outputs": [],
   "source": [
    "#check beta w market"
   ]
  },
  {
   "cell_type": "markdown",
   "id": "a51a2bdb",
   "metadata": {},
   "source": [
    "# expected return of pg(capm)\n",
    "\n",
    "Rpg= rf+Bim(rm-rf)"
   ]
  },
  {
   "cell_type": "code",
   "execution_count": 18,
   "id": "52cf3185",
   "metadata": {},
   "outputs": [
    {
     "data": {
      "text/plain": [
       "0.05388184336387603"
      ]
     },
     "execution_count": 18,
     "metadata": {},
     "output_type": "execute_result"
    }
   ],
   "source": [
    "pg_er= .025+ PG*.05\n",
    "pg_er"
   ]
  },
  {
   "cell_type": "markdown",
   "id": "841a63db",
   "metadata": {},
   "source": [
    "# SHARPE RATIO \n",
    "\n",
    "=(Rpg-Rf)/std(pg)"
   ]
  },
  {
   "cell_type": "code",
   "execution_count": 21,
   "id": "298029dc",
   "metadata": {},
   "outputs": [],
   "source": [
    "Sharpe = (pg_er - 0.025)/ (sec_return['PG'].std()*250**.05)"
   ]
  },
  {
   "cell_type": "code",
   "execution_count": 22,
   "id": "4dd6575c",
   "metadata": {},
   "outputs": [
    {
     "data": {
      "text/plain": [
       "1.6031167543563085"
      ]
     },
     "execution_count": 22,
     "metadata": {},
     "output_type": "execute_result"
    }
   ],
   "source": [
    "Sharpe"
   ]
  },
  {
   "cell_type": "code",
   "execution_count": null,
   "id": "92af3bae",
   "metadata": {},
   "outputs": [],
   "source": []
  }
 ],
 "metadata": {
  "kernelspec": {
   "display_name": "Python 3 (ipykernel)",
   "language": "python",
   "name": "python3"
  },
  "language_info": {
   "codemirror_mode": {
    "name": "ipython",
    "version": 3
   },
   "file_extension": ".py",
   "mimetype": "text/x-python",
   "name": "python",
   "nbconvert_exporter": "python",
   "pygments_lexer": "ipython3",
   "version": "3.9.12"
  }
 },
 "nbformat": 4,
 "nbformat_minor": 5
}
