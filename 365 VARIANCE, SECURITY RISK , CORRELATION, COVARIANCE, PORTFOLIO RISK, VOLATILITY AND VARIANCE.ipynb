{
 "cells": [
  {
   "cell_type": "code",
   "execution_count": 1,
   "id": "a64aceba",
   "metadata": {},
   "outputs": [],
   "source": [
    "import numpy as np\n",
    "import pandas as pd\n",
    "import matplotlib.pyplot as plt\n",
    "import yfinance as yf\n"
   ]
  },
  {
   "cell_type": "code",
   "execution_count": 64,
   "id": "89181bd4",
   "metadata": {},
   "outputs": [
    {
     "name": "stdout",
     "output_type": "stream",
     "text": [
      "[*********************100%***********************]  2 of 2 completed\n"
     ]
    }
   ],
   "source": [
    "tickers= yf.download(['PG','BEI.DE'], period='16Y')['Adj Close']"
   ]
  },
  {
   "cell_type": "code",
   "execution_count": 3,
   "id": "5812f743",
   "metadata": {},
   "outputs": [
    {
     "data": {
      "text/html": [
       "<div>\n",
       "<style scoped>\n",
       "    .dataframe tbody tr th:only-of-type {\n",
       "        vertical-align: middle;\n",
       "    }\n",
       "\n",
       "    .dataframe tbody tr th {\n",
       "        vertical-align: top;\n",
       "    }\n",
       "\n",
       "    .dataframe thead th {\n",
       "        text-align: right;\n",
       "    }\n",
       "</style>\n",
       "<table border=\"1\" class=\"dataframe\">\n",
       "  <thead>\n",
       "    <tr style=\"text-align: right;\">\n",
       "      <th></th>\n",
       "      <th>BEI.DE</th>\n",
       "      <th>PG</th>\n",
       "    </tr>\n",
       "    <tr>\n",
       "      <th>Date</th>\n",
       "      <th></th>\n",
       "      <th></th>\n",
       "    </tr>\n",
       "  </thead>\n",
       "  <tbody>\n",
       "    <tr>\n",
       "      <th>2007-04-10 22:00:00+00:00</th>\n",
       "      <td>42.434391</td>\n",
       "      <td>NaN</td>\n",
       "    </tr>\n",
       "    <tr>\n",
       "      <th>2007-04-11 22:00:00+00:00</th>\n",
       "      <td>42.386631</td>\n",
       "      <td>NaN</td>\n",
       "    </tr>\n",
       "    <tr>\n",
       "      <th>2007-04-12 04:00:00+00:00</th>\n",
       "      <td>NaN</td>\n",
       "      <td>39.882263</td>\n",
       "    </tr>\n",
       "    <tr>\n",
       "      <th>2007-04-12 22:00:00+00:00</th>\n",
       "      <td>42.705082</td>\n",
       "      <td>NaN</td>\n",
       "    </tr>\n",
       "    <tr>\n",
       "      <th>2007-04-13 04:00:00+00:00</th>\n",
       "      <td>NaN</td>\n",
       "      <td>39.794357</td>\n",
       "    </tr>\n",
       "  </tbody>\n",
       "</table>\n",
       "</div>"
      ],
      "text/plain": [
       "                              BEI.DE         PG\n",
       "Date                                           \n",
       "2007-04-10 22:00:00+00:00  42.434391        NaN\n",
       "2007-04-11 22:00:00+00:00  42.386631        NaN\n",
       "2007-04-12 04:00:00+00:00        NaN  39.882263\n",
       "2007-04-12 22:00:00+00:00  42.705082        NaN\n",
       "2007-04-13 04:00:00+00:00        NaN  39.794357"
      ]
     },
     "execution_count": 3,
     "metadata": {},
     "output_type": "execute_result"
    }
   ],
   "source": [
    "tickers.head()"
   ]
  },
  {
   "cell_type": "code",
   "execution_count": 4,
   "id": "d13b7e3c",
   "metadata": {},
   "outputs": [],
   "source": [
    "ticker_returns=np.log(tickers/tickers.shift(1))"
   ]
  },
  {
   "cell_type": "code",
   "execution_count": 21,
   "id": "79ea774b",
   "metadata": {},
   "outputs": [
    {
     "data": {
      "text/html": [
       "<div>\n",
       "<style scoped>\n",
       "    .dataframe tbody tr th:only-of-type {\n",
       "        vertical-align: middle;\n",
       "    }\n",
       "\n",
       "    .dataframe tbody tr th {\n",
       "        vertical-align: top;\n",
       "    }\n",
       "\n",
       "    .dataframe thead th {\n",
       "        text-align: right;\n",
       "    }\n",
       "</style>\n",
       "<table border=\"1\" class=\"dataframe\">\n",
       "  <thead>\n",
       "    <tr style=\"text-align: right;\">\n",
       "      <th></th>\n",
       "      <th>BEI.DE</th>\n",
       "      <th>PG</th>\n",
       "    </tr>\n",
       "    <tr>\n",
       "      <th>Date</th>\n",
       "      <th></th>\n",
       "      <th></th>\n",
       "    </tr>\n",
       "  </thead>\n",
       "  <tbody>\n",
       "    <tr>\n",
       "      <th>2007-04-10 22:00:00+00:00</th>\n",
       "      <td>NaN</td>\n",
       "      <td>NaN</td>\n",
       "    </tr>\n",
       "    <tr>\n",
       "      <th>2007-04-11 22:00:00+00:00</th>\n",
       "      <td>-0.001126</td>\n",
       "      <td>NaN</td>\n",
       "    </tr>\n",
       "    <tr>\n",
       "      <th>2007-04-12 04:00:00+00:00</th>\n",
       "      <td>NaN</td>\n",
       "      <td>NaN</td>\n",
       "    </tr>\n",
       "    <tr>\n",
       "      <th>2007-04-12 22:00:00+00:00</th>\n",
       "      <td>NaN</td>\n",
       "      <td>NaN</td>\n",
       "    </tr>\n",
       "    <tr>\n",
       "      <th>2007-04-13 04:00:00+00:00</th>\n",
       "      <td>NaN</td>\n",
       "      <td>NaN</td>\n",
       "    </tr>\n",
       "    <tr>\n",
       "      <th>...</th>\n",
       "      <td>...</td>\n",
       "      <td>...</td>\n",
       "    </tr>\n",
       "    <tr>\n",
       "      <th>2023-04-05 22:00:00+00:00</th>\n",
       "      <td>NaN</td>\n",
       "      <td>NaN</td>\n",
       "    </tr>\n",
       "    <tr>\n",
       "      <th>2023-04-06 04:00:00+00:00</th>\n",
       "      <td>NaN</td>\n",
       "      <td>NaN</td>\n",
       "    </tr>\n",
       "    <tr>\n",
       "      <th>2023-04-10 04:00:00+00:00</th>\n",
       "      <td>NaN</td>\n",
       "      <td>-0.008312</td>\n",
       "    </tr>\n",
       "    <tr>\n",
       "      <th>2023-04-10 22:00:00+00:00</th>\n",
       "      <td>NaN</td>\n",
       "      <td>NaN</td>\n",
       "    </tr>\n",
       "    <tr>\n",
       "      <th>2023-04-11 04:00:00+00:00</th>\n",
       "      <td>NaN</td>\n",
       "      <td>NaN</td>\n",
       "    </tr>\n",
       "  </tbody>\n",
       "</table>\n",
       "<p>8093 rows × 2 columns</p>\n",
       "</div>"
      ],
      "text/plain": [
       "                             BEI.DE        PG\n",
       "Date                                         \n",
       "2007-04-10 22:00:00+00:00       NaN       NaN\n",
       "2007-04-11 22:00:00+00:00 -0.001126       NaN\n",
       "2007-04-12 04:00:00+00:00       NaN       NaN\n",
       "2007-04-12 22:00:00+00:00       NaN       NaN\n",
       "2007-04-13 04:00:00+00:00       NaN       NaN\n",
       "...                             ...       ...\n",
       "2023-04-05 22:00:00+00:00       NaN       NaN\n",
       "2023-04-06 04:00:00+00:00       NaN       NaN\n",
       "2023-04-10 04:00:00+00:00       NaN -0.008312\n",
       "2023-04-10 22:00:00+00:00       NaN       NaN\n",
       "2023-04-11 04:00:00+00:00       NaN       NaN\n",
       "\n",
       "[8093 rows x 2 columns]"
      ]
     },
     "execution_count": 21,
     "metadata": {},
     "output_type": "execute_result"
    }
   ],
   "source": [
    "ticker_returns"
   ]
  },
  {
   "cell_type": "code",
   "execution_count": 30,
   "id": "0a9a8688",
   "metadata": {},
   "outputs": [
    {
     "data": {
      "text/html": [
       "<div>\n",
       "<style scoped>\n",
       "    .dataframe tbody tr th:only-of-type {\n",
       "        vertical-align: middle;\n",
       "    }\n",
       "\n",
       "    .dataframe tbody tr th {\n",
       "        vertical-align: top;\n",
       "    }\n",
       "\n",
       "    .dataframe thead th {\n",
       "        text-align: right;\n",
       "    }\n",
       "</style>\n",
       "<table border=\"1\" class=\"dataframe\">\n",
       "  <thead>\n",
       "    <tr style=\"text-align: right;\">\n",
       "      <th></th>\n",
       "      <th>BEI.DE</th>\n",
       "      <th>PG</th>\n",
       "    </tr>\n",
       "    <tr>\n",
       "      <th>Date</th>\n",
       "      <th></th>\n",
       "      <th></th>\n",
       "    </tr>\n",
       "  </thead>\n",
       "  <tbody>\n",
       "    <tr>\n",
       "      <th>2023-04-05 22:00:00+00:00</th>\n",
       "      <td>121.300003</td>\n",
       "      <td>NaN</td>\n",
       "    </tr>\n",
       "    <tr>\n",
       "      <th>2023-04-06 04:00:00+00:00</th>\n",
       "      <td>NaN</td>\n",
       "      <td>152.220001</td>\n",
       "    </tr>\n",
       "    <tr>\n",
       "      <th>2023-04-10 04:00:00+00:00</th>\n",
       "      <td>NaN</td>\n",
       "      <td>150.960007</td>\n",
       "    </tr>\n",
       "    <tr>\n",
       "      <th>2023-04-10 22:00:00+00:00</th>\n",
       "      <td>121.400002</td>\n",
       "      <td>NaN</td>\n",
       "    </tr>\n",
       "    <tr>\n",
       "      <th>2023-04-11 04:00:00+00:00</th>\n",
       "      <td>NaN</td>\n",
       "      <td>150.660004</td>\n",
       "    </tr>\n",
       "  </tbody>\n",
       "</table>\n",
       "</div>"
      ],
      "text/plain": [
       "                               BEI.DE          PG\n",
       "Date                                             \n",
       "2023-04-05 22:00:00+00:00  121.300003         NaN\n",
       "2023-04-06 04:00:00+00:00         NaN  152.220001\n",
       "2023-04-10 04:00:00+00:00         NaN  150.960007\n",
       "2023-04-10 22:00:00+00:00  121.400002         NaN\n",
       "2023-04-11 04:00:00+00:00         NaN  150.660004"
      ]
     },
     "execution_count": 30,
     "metadata": {},
     "output_type": "execute_result"
    }
   ],
   "source": [
    "tickers.tail()"
   ]
  },
  {
   "cell_type": "markdown",
   "id": "937219e8",
   "metadata": {},
   "source": [
    "# PG SD"
   ]
  },
  {
   "cell_type": "code",
   "execution_count": 18,
   "id": "0af40013",
   "metadata": {},
   "outputs": [
    {
     "data": {
      "text/plain": [
       "-0.0007781704254786595"
      ]
     },
     "execution_count": 18,
     "metadata": {},
     "output_type": "execute_result"
    }
   ],
   "source": [
    "ticker_returns['PG'].mean()"
   ]
  },
  {
   "cell_type": "code",
   "execution_count": 19,
   "id": "42ee2502",
   "metadata": {},
   "outputs": [
    {
     "data": {
      "text/plain": [
       "-0.19454260636966486"
      ]
     },
     "execution_count": 19,
     "metadata": {},
     "output_type": "execute_result"
    }
   ],
   "source": [
    "ticker_returns['PG'].mean()*250"
   ]
  },
  {
   "cell_type": "code",
   "execution_count": 20,
   "id": "6defa9cb",
   "metadata": {},
   "outputs": [
    {
     "data": {
      "text/plain": [
       "0.010739093336613553"
      ]
     },
     "execution_count": 20,
     "metadata": {},
     "output_type": "execute_result"
    }
   ],
   "source": [
    "ticker_returns['PG'].std()"
   ]
  },
  {
   "cell_type": "code",
   "execution_count": 44,
   "id": "0958c6e4",
   "metadata": {},
   "outputs": [
    {
     "data": {
      "text/plain": [
       "0.16979997474418068"
      ]
     },
     "execution_count": 44,
     "metadata": {},
     "output_type": "execute_result"
    }
   ],
   "source": [
    "ticker_returns['PG'].std()*250**0.5\n",
    "#taking square root of 250(variance)"
   ]
  },
  {
   "cell_type": "markdown",
   "id": "d6d55b7b",
   "metadata": {},
   "source": [
    "# BEI"
   ]
  },
  {
   "cell_type": "code",
   "execution_count": 42,
   "id": "1d93fd04",
   "metadata": {},
   "outputs": [
    {
     "data": {
      "text/plain": [
       "0.15436518109633657"
      ]
     },
     "execution_count": 42,
     "metadata": {},
     "output_type": "execute_result"
    }
   ],
   "source": [
    "ticker_returns['BEI.DE'].mean()\n",
    "ticker_returns['BEI.DE'].mean()*250\n",
    "ticker_returns['BEI.DE'].std()\n",
    "ticker_returns['BEI.DE'].std()*250**0.5"
   ]
  },
  {
   "cell_type": "code",
   "execution_count": 43,
   "id": "06a7272c",
   "metadata": {},
   "outputs": [
    {
     "data": {
      "text/plain": [
       "0.15436518109633657"
      ]
     },
     "execution_count": 43,
     "metadata": {},
     "output_type": "execute_result"
    }
   ],
   "source": [
    "ticker_returns['BEI.DE'].std()*250**0.5"
   ]
  },
  {
   "cell_type": "code",
   "execution_count": 29,
   "id": "940ccef8",
   "metadata": {},
   "outputs": [
    {
     "data": {
      "text/plain": [
       "0.11634284508984864"
      ]
     },
     "execution_count": 29,
     "metadata": {},
     "output_type": "execute_result"
    }
   ],
   "source": [
    "ticker_returns['BEI.DE'].mean()*250"
   ]
  },
  {
   "cell_type": "markdown",
   "id": "a13023ac",
   "metadata": {},
   "source": [
    "# COMPARING BOTH"
   ]
  },
  {
   "cell_type": "markdown",
   "id": "74f0d170",
   "metadata": {},
   "source": [
    "mean of both values"
   ]
  },
  {
   "cell_type": "code",
   "execution_count": 57,
   "id": "0cd63e52",
   "metadata": {},
   "outputs": [
    {
     "data": {
      "text/plain": [
       "PG       -0.194543\n",
       "BEI.DE    0.116343\n",
       "dtype: float64"
      ]
     },
     "execution_count": 57,
     "metadata": {},
     "output_type": "execute_result"
    }
   ],
   "source": [
    "ticker_returns[['PG','BEI.DE']].mean()*250"
   ]
  },
  {
   "cell_type": "markdown",
   "id": "828c0cc6",
   "metadata": {},
   "source": [
    "risk of both stocks/values"
   ]
  },
  {
   "cell_type": "code",
   "execution_count": 58,
   "id": "da26ee9e",
   "metadata": {},
   "outputs": [
    {
     "data": {
      "text/plain": [
       "PG        0.169800\n",
       "BEI.DE    0.154365\n",
       "dtype: float64"
      ]
     },
     "execution_count": 58,
     "metadata": {},
     "output_type": "execute_result"
    }
   ],
   "source": [
    "ticker_returns[['PG','BEI.DE']].std()*250**.5"
   ]
  },
  {
   "cell_type": "code",
   "execution_count": 50,
   "id": "83c9549f",
   "metadata": {},
   "outputs": [
    {
     "name": "stdout",
     "output_type": "stream",
     "text": [
      "[*********************100%***********************]  2 of 2 completed\n"
     ]
    },
    {
     "data": {
      "text/html": [
       "<div>\n",
       "<style scoped>\n",
       "    .dataframe tbody tr th:only-of-type {\n",
       "        vertical-align: middle;\n",
       "    }\n",
       "\n",
       "    .dataframe tbody tr th {\n",
       "        vertical-align: top;\n",
       "    }\n",
       "\n",
       "    .dataframe thead th {\n",
       "        text-align: right;\n",
       "    }\n",
       "</style>\n",
       "<table border=\"1\" class=\"dataframe\">\n",
       "  <thead>\n",
       "    <tr style=\"text-align: right;\">\n",
       "      <th></th>\n",
       "      <th>BEI.DE</th>\n",
       "      <th>PG</th>\n",
       "    </tr>\n",
       "    <tr>\n",
       "      <th>Date</th>\n",
       "      <th></th>\n",
       "      <th></th>\n",
       "    </tr>\n",
       "  </thead>\n",
       "  <tbody>\n",
       "    <tr>\n",
       "      <th>2016-04-10 22:00:00+00:00</th>\n",
       "      <td>73.122917</td>\n",
       "      <td>NaN</td>\n",
       "    </tr>\n",
       "    <tr>\n",
       "      <th>2016-04-11 22:00:00+00:00</th>\n",
       "      <td>73.801300</td>\n",
       "      <td>NaN</td>\n",
       "    </tr>\n",
       "    <tr>\n",
       "      <th>2016-04-12 04:00:00+00:00</th>\n",
       "      <td>NaN</td>\n",
       "      <td>68.029594</td>\n",
       "    </tr>\n",
       "    <tr>\n",
       "      <th>2016-04-12 22:00:00+00:00</th>\n",
       "      <td>74.393707</td>\n",
       "      <td>NaN</td>\n",
       "    </tr>\n",
       "    <tr>\n",
       "      <th>2016-04-13 04:00:00+00:00</th>\n",
       "      <td>NaN</td>\n",
       "      <td>67.725700</td>\n",
       "    </tr>\n",
       "    <tr>\n",
       "      <th>2016-04-13 22:00:00+00:00</th>\n",
       "      <td>75.301407</td>\n",
       "      <td>NaN</td>\n",
       "    </tr>\n",
       "    <tr>\n",
       "      <th>2016-04-14 04:00:00+00:00</th>\n",
       "      <td>NaN</td>\n",
       "      <td>67.907860</td>\n",
       "    </tr>\n",
       "    <tr>\n",
       "      <th>2016-04-14 22:00:00+00:00</th>\n",
       "      <td>75.406509</td>\n",
       "      <td>NaN</td>\n",
       "    </tr>\n",
       "    <tr>\n",
       "      <th>2016-04-15 04:00:00+00:00</th>\n",
       "      <td>NaN</td>\n",
       "      <td>68.148003</td>\n",
       "    </tr>\n",
       "    <tr>\n",
       "      <th>2016-04-17 22:00:00+00:00</th>\n",
       "      <td>75.798256</td>\n",
       "      <td>NaN</td>\n",
       "    </tr>\n",
       "    <tr>\n",
       "      <th>2016-04-18 04:00:00+00:00</th>\n",
       "      <td>NaN</td>\n",
       "      <td>68.586884</td>\n",
       "    </tr>\n",
       "    <tr>\n",
       "      <th>2016-04-18 22:00:00+00:00</th>\n",
       "      <td>78.578705</td>\n",
       "      <td>NaN</td>\n",
       "    </tr>\n",
       "    <tr>\n",
       "      <th>2016-04-19 04:00:00+00:00</th>\n",
       "      <td>NaN</td>\n",
       "      <td>68.959473</td>\n",
       "    </tr>\n",
       "    <tr>\n",
       "      <th>2016-04-19 22:00:00+00:00</th>\n",
       "      <td>78.301613</td>\n",
       "      <td>NaN</td>\n",
       "    </tr>\n",
       "    <tr>\n",
       "      <th>2016-04-20 04:00:00+00:00</th>\n",
       "      <td>NaN</td>\n",
       "      <td>67.526978</td>\n",
       "    </tr>\n",
       "  </tbody>\n",
       "</table>\n",
       "</div>"
      ],
      "text/plain": [
       "                              BEI.DE         PG\n",
       "Date                                           \n",
       "2016-04-10 22:00:00+00:00  73.122917        NaN\n",
       "2016-04-11 22:00:00+00:00  73.801300        NaN\n",
       "2016-04-12 04:00:00+00:00        NaN  68.029594\n",
       "2016-04-12 22:00:00+00:00  74.393707        NaN\n",
       "2016-04-13 04:00:00+00:00        NaN  67.725700\n",
       "2016-04-13 22:00:00+00:00  75.301407        NaN\n",
       "2016-04-14 04:00:00+00:00        NaN  67.907860\n",
       "2016-04-14 22:00:00+00:00  75.406509        NaN\n",
       "2016-04-15 04:00:00+00:00        NaN  68.148003\n",
       "2016-04-17 22:00:00+00:00  75.798256        NaN\n",
       "2016-04-18 04:00:00+00:00        NaN  68.586884\n",
       "2016-04-18 22:00:00+00:00  78.578705        NaN\n",
       "2016-04-19 04:00:00+00:00        NaN  68.959473\n",
       "2016-04-19 22:00:00+00:00  78.301613        NaN\n",
       "2016-04-20 04:00:00+00:00        NaN  67.526978"
      ]
     },
     "execution_count": 50,
     "metadata": {},
     "output_type": "execute_result"
    }
   ],
   "source": [
    "pg= yf.download(['PG','BEI.DE'], period='7Y')['Adj Close']\n",
    "pg.head(15)"
   ]
  },
  {
   "cell_type": "markdown",
   "id": "8793007f",
   "metadata": {},
   "source": [
    "# COVARIANCE\n"
   ]
  },
  {
   "cell_type": "code",
   "execution_count": 65,
   "id": "29342dc5",
   "metadata": {},
   "outputs": [
    {
     "data": {
      "text/plain": [
       "0.0001153281256924976"
      ]
     },
     "execution_count": 65,
     "metadata": {},
     "output_type": "execute_result"
    }
   ],
   "source": [
    "PG_var=ticker_returns['PG'].var()\n",
    "PG_var"
   ]
  },
  {
   "cell_type": "code",
   "execution_count": 66,
   "id": "fe4ef8a7",
   "metadata": {},
   "outputs": [
    {
     "data": {
      "text/plain": [
       "9.531443653961915e-05"
      ]
     },
     "execution_count": 66,
     "metadata": {},
     "output_type": "execute_result"
    }
   ],
   "source": [
    "BEI_var=ticker_returns['BEI.DE'].var()\n",
    "BEI_var"
   ]
  },
  {
   "cell_type": "code",
   "execution_count": 68,
   "id": "44ab87c5",
   "metadata": {},
   "outputs": [
    {
     "data": {
      "text/plain": [
       "0.0288320314231244"
      ]
     },
     "execution_count": 68,
     "metadata": {},
     "output_type": "execute_result"
    }
   ],
   "source": [
    "PG_vara= PG_var*250\n",
    "PG_vara"
   ]
  },
  {
   "cell_type": "code",
   "execution_count": 70,
   "id": "1635abab",
   "metadata": {},
   "outputs": [
    {
     "data": {
      "text/plain": [
       "0.02382860913490479"
      ]
     },
     "execution_count": 70,
     "metadata": {},
     "output_type": "execute_result"
    }
   ],
   "source": [
    "BEI_vara=BEI_var*250\n",
    "BEI_vara"
   ]
  },
  {
   "cell_type": "code",
   "execution_count": 72,
   "id": "32af33de",
   "metadata": {},
   "outputs": [
    {
     "data": {
      "text/html": [
       "<div>\n",
       "<style scoped>\n",
       "    .dataframe tbody tr th:only-of-type {\n",
       "        vertical-align: middle;\n",
       "    }\n",
       "\n",
       "    .dataframe tbody tr th {\n",
       "        vertical-align: top;\n",
       "    }\n",
       "\n",
       "    .dataframe thead th {\n",
       "        text-align: right;\n",
       "    }\n",
       "</style>\n",
       "<table border=\"1\" class=\"dataframe\">\n",
       "  <thead>\n",
       "    <tr style=\"text-align: right;\">\n",
       "      <th></th>\n",
       "      <th>BEI.DE</th>\n",
       "      <th>PG</th>\n",
       "    </tr>\n",
       "  </thead>\n",
       "  <tbody>\n",
       "    <tr>\n",
       "      <th>BEI.DE</th>\n",
       "      <td>0.000095</td>\n",
       "      <td>NaN</td>\n",
       "    </tr>\n",
       "    <tr>\n",
       "      <th>PG</th>\n",
       "      <td>NaN</td>\n",
       "      <td>0.000115</td>\n",
       "    </tr>\n",
       "  </tbody>\n",
       "</table>\n",
       "</div>"
      ],
      "text/plain": [
       "          BEI.DE        PG\n",
       "BEI.DE  0.000095       NaN\n",
       "PG           NaN  0.000115"
      ]
     },
     "execution_count": 72,
     "metadata": {},
     "output_type": "execute_result"
    }
   ],
   "source": [
    "cov_matrix= ticker_returns.cov()\n",
    "cov_matrix"
   ]
  },
  {
   "cell_type": "code",
   "execution_count": 74,
   "id": "c2e505e4",
   "metadata": {},
   "outputs": [
    {
     "data": {
      "text/html": [
       "<div>\n",
       "<style scoped>\n",
       "    .dataframe tbody tr th:only-of-type {\n",
       "        vertical-align: middle;\n",
       "    }\n",
       "\n",
       "    .dataframe tbody tr th {\n",
       "        vertical-align: top;\n",
       "    }\n",
       "\n",
       "    .dataframe thead th {\n",
       "        text-align: right;\n",
       "    }\n",
       "</style>\n",
       "<table border=\"1\" class=\"dataframe\">\n",
       "  <thead>\n",
       "    <tr style=\"text-align: right;\">\n",
       "      <th></th>\n",
       "      <th>BEI.DE</th>\n",
       "      <th>PG</th>\n",
       "    </tr>\n",
       "  </thead>\n",
       "  <tbody>\n",
       "    <tr>\n",
       "      <th>BEI.DE</th>\n",
       "      <td>0.023829</td>\n",
       "      <td>NaN</td>\n",
       "    </tr>\n",
       "    <tr>\n",
       "      <th>PG</th>\n",
       "      <td>NaN</td>\n",
       "      <td>0.028832</td>\n",
       "    </tr>\n",
       "  </tbody>\n",
       "</table>\n",
       "</div>"
      ],
      "text/plain": [
       "          BEI.DE        PG\n",
       "BEI.DE  0.023829       NaN\n",
       "PG           NaN  0.028832"
      ]
     },
     "execution_count": 74,
     "metadata": {},
     "output_type": "execute_result"
    }
   ],
   "source": [
    "cov_matrixa= cov_matrix*250\n",
    "cov_matrixa"
   ]
  },
  {
   "cell_type": "code",
   "execution_count": 75,
   "id": "9dd2b63f",
   "metadata": {},
   "outputs": [
    {
     "data": {
      "text/html": [
       "<div>\n",
       "<style scoped>\n",
       "    .dataframe tbody tr th:only-of-type {\n",
       "        vertical-align: middle;\n",
       "    }\n",
       "\n",
       "    .dataframe tbody tr th {\n",
       "        vertical-align: top;\n",
       "    }\n",
       "\n",
       "    .dataframe thead th {\n",
       "        text-align: right;\n",
       "    }\n",
       "</style>\n",
       "<table border=\"1\" class=\"dataframe\">\n",
       "  <thead>\n",
       "    <tr style=\"text-align: right;\">\n",
       "      <th></th>\n",
       "      <th>BEI.DE</th>\n",
       "      <th>PG</th>\n",
       "    </tr>\n",
       "  </thead>\n",
       "  <tbody>\n",
       "    <tr>\n",
       "      <th>BEI.DE</th>\n",
       "      <td>0.023829</td>\n",
       "      <td>NaN</td>\n",
       "    </tr>\n",
       "    <tr>\n",
       "      <th>PG</th>\n",
       "      <td>NaN</td>\n",
       "      <td>0.028832</td>\n",
       "    </tr>\n",
       "  </tbody>\n",
       "</table>\n",
       "</div>"
      ],
      "text/plain": [
       "          BEI.DE        PG\n",
       "BEI.DE  0.023829       NaN\n",
       "PG           NaN  0.028832"
      ]
     },
     "execution_count": 75,
     "metadata": {},
     "output_type": "execute_result"
    }
   ],
   "source": [
    "cov_matrixx= ticker_returns.cov()*250\n",
    "cov_matrixx"
   ]
  },
  {
   "cell_type": "markdown",
   "id": "89e9ab4d",
   "metadata": {},
   "source": [
    "# correlation"
   ]
  },
  {
   "cell_type": "code",
   "execution_count": 76,
   "id": "7f0ee548",
   "metadata": {},
   "outputs": [
    {
     "data": {
      "text/html": [
       "<div>\n",
       "<style scoped>\n",
       "    .dataframe tbody tr th:only-of-type {\n",
       "        vertical-align: middle;\n",
       "    }\n",
       "\n",
       "    .dataframe tbody tr th {\n",
       "        vertical-align: top;\n",
       "    }\n",
       "\n",
       "    .dataframe thead th {\n",
       "        text-align: right;\n",
       "    }\n",
       "</style>\n",
       "<table border=\"1\" class=\"dataframe\">\n",
       "  <thead>\n",
       "    <tr style=\"text-align: right;\">\n",
       "      <th></th>\n",
       "      <th>BEI.DE</th>\n",
       "      <th>PG</th>\n",
       "    </tr>\n",
       "  </thead>\n",
       "  <tbody>\n",
       "    <tr>\n",
       "      <th>BEI.DE</th>\n",
       "      <td>1.0</td>\n",
       "      <td>NaN</td>\n",
       "    </tr>\n",
       "    <tr>\n",
       "      <th>PG</th>\n",
       "      <td>NaN</td>\n",
       "      <td>1.0</td>\n",
       "    </tr>\n",
       "  </tbody>\n",
       "</table>\n",
       "</div>"
      ],
      "text/plain": [
       "        BEI.DE   PG\n",
       "BEI.DE     1.0  NaN\n",
       "PG         NaN  1.0"
      ]
     },
     "execution_count": 76,
     "metadata": {},
     "output_type": "execute_result"
    }
   ],
   "source": [
    "corr_matrix= ticker_returns.corr()\n",
    "corr_matrix"
   ]
  },
  {
   "cell_type": "markdown",
   "id": "de669c82",
   "metadata": {},
   "source": [
    "# AAPL & F"
   ]
  },
  {
   "cell_type": "code",
   "execution_count": 2,
   "id": "99b25be1",
   "metadata": {},
   "outputs": [
    {
     "name": "stdout",
     "output_type": "stream",
     "text": [
      "[*********************100%***********************]  2 of 2 completed\n"
     ]
    }
   ],
   "source": [
    "data= yf.download(['F','AAPL'], period='16Y')['Adj Close']"
   ]
  },
  {
   "cell_type": "code",
   "execution_count": 3,
   "id": "fcce8149",
   "metadata": {},
   "outputs": [
    {
     "data": {
      "text/html": [
       "<div>\n",
       "<style scoped>\n",
       "    .dataframe tbody tr th:only-of-type {\n",
       "        vertical-align: middle;\n",
       "    }\n",
       "\n",
       "    .dataframe tbody tr th {\n",
       "        vertical-align: top;\n",
       "    }\n",
       "\n",
       "    .dataframe thead th {\n",
       "        text-align: right;\n",
       "    }\n",
       "</style>\n",
       "<table border=\"1\" class=\"dataframe\">\n",
       "  <thead>\n",
       "    <tr style=\"text-align: right;\">\n",
       "      <th></th>\n",
       "      <th>AAPL</th>\n",
       "      <th>F</th>\n",
       "    </tr>\n",
       "    <tr>\n",
       "      <th>Date</th>\n",
       "      <th></th>\n",
       "      <th></th>\n",
       "    </tr>\n",
       "  </thead>\n",
       "  <tbody>\n",
       "    <tr>\n",
       "      <th>2007-04-16 00:00:00-04:00</th>\n",
       "      <td>2.779206</td>\n",
       "      <td>4.934010</td>\n",
       "    </tr>\n",
       "    <tr>\n",
       "      <th>2007-04-17 00:00:00-04:00</th>\n",
       "      <td>2.746377</td>\n",
       "      <td>4.823409</td>\n",
       "    </tr>\n",
       "    <tr>\n",
       "      <th>2007-04-18 00:00:00-04:00</th>\n",
       "      <td>2.747897</td>\n",
       "      <td>4.804976</td>\n",
       "    </tr>\n",
       "    <tr>\n",
       "      <th>2007-04-19 00:00:00-04:00</th>\n",
       "      <td>2.743945</td>\n",
       "      <td>4.755819</td>\n",
       "    </tr>\n",
       "    <tr>\n",
       "      <th>2007-04-20 00:00:00-04:00</th>\n",
       "      <td>2.765222</td>\n",
       "      <td>4.761964</td>\n",
       "    </tr>\n",
       "  </tbody>\n",
       "</table>\n",
       "</div>"
      ],
      "text/plain": [
       "                               AAPL         F\n",
       "Date                                         \n",
       "2007-04-16 00:00:00-04:00  2.779206  4.934010\n",
       "2007-04-17 00:00:00-04:00  2.746377  4.823409\n",
       "2007-04-18 00:00:00-04:00  2.747897  4.804976\n",
       "2007-04-19 00:00:00-04:00  2.743945  4.755819\n",
       "2007-04-20 00:00:00-04:00  2.765222  4.761964"
      ]
     },
     "execution_count": 3,
     "metadata": {},
     "output_type": "execute_result"
    }
   ],
   "source": [
    "data.head()"
   ]
  },
  {
   "cell_type": "code",
   "execution_count": 9,
   "id": "595fdf73",
   "metadata": {},
   "outputs": [
    {
     "data": {
      "text/html": [
       "<div>\n",
       "<style scoped>\n",
       "    .dataframe tbody tr th:only-of-type {\n",
       "        vertical-align: middle;\n",
       "    }\n",
       "\n",
       "    .dataframe tbody tr th {\n",
       "        vertical-align: top;\n",
       "    }\n",
       "\n",
       "    .dataframe thead th {\n",
       "        text-align: right;\n",
       "    }\n",
       "</style>\n",
       "<table border=\"1\" class=\"dataframe\">\n",
       "  <thead>\n",
       "    <tr style=\"text-align: right;\">\n",
       "      <th></th>\n",
       "      <th>AAPL</th>\n",
       "      <th>F</th>\n",
       "    </tr>\n",
       "    <tr>\n",
       "      <th>Date</th>\n",
       "      <th></th>\n",
       "      <th></th>\n",
       "    </tr>\n",
       "  </thead>\n",
       "  <tbody>\n",
       "    <tr>\n",
       "      <th>2007-04-16 00:00:00-04:00</th>\n",
       "      <td>NaN</td>\n",
       "      <td>NaN</td>\n",
       "    </tr>\n",
       "    <tr>\n",
       "      <th>2007-04-17 00:00:00-04:00</th>\n",
       "      <td>-0.011883</td>\n",
       "      <td>-0.022671</td>\n",
       "    </tr>\n",
       "    <tr>\n",
       "      <th>2007-04-18 00:00:00-04:00</th>\n",
       "      <td>0.000553</td>\n",
       "      <td>-0.003829</td>\n",
       "    </tr>\n",
       "    <tr>\n",
       "      <th>2007-04-19 00:00:00-04:00</th>\n",
       "      <td>-0.001439</td>\n",
       "      <td>-0.010283</td>\n",
       "    </tr>\n",
       "    <tr>\n",
       "      <th>2007-04-20 00:00:00-04:00</th>\n",
       "      <td>0.007724</td>\n",
       "      <td>0.001291</td>\n",
       "    </tr>\n",
       "  </tbody>\n",
       "</table>\n",
       "</div>"
      ],
      "text/plain": [
       "                               AAPL         F\n",
       "Date                                         \n",
       "2007-04-16 00:00:00-04:00       NaN       NaN\n",
       "2007-04-17 00:00:00-04:00 -0.011883 -0.022671\n",
       "2007-04-18 00:00:00-04:00  0.000553 -0.003829\n",
       "2007-04-19 00:00:00-04:00 -0.001439 -0.010283\n",
       "2007-04-20 00:00:00-04:00  0.007724  0.001291"
      ]
     },
     "execution_count": 9,
     "metadata": {},
     "output_type": "execute_result"
    }
   ],
   "source": [
    "data_returns=np.log(data/data.shift(1))\n",
    "data_returns.head()"
   ]
  },
  {
   "cell_type": "code",
   "execution_count": null,
   "id": "ec51a0a5",
   "metadata": {},
   "outputs": [],
   "source": []
  },
  {
   "cell_type": "code",
   "execution_count": 98,
   "id": "13d95ac4",
   "metadata": {},
   "outputs": [
    {
     "data": {
      "text/html": [
       "<div>\n",
       "<style scoped>\n",
       "    .dataframe tbody tr th:only-of-type {\n",
       "        vertical-align: middle;\n",
       "    }\n",
       "\n",
       "    .dataframe tbody tr th {\n",
       "        vertical-align: top;\n",
       "    }\n",
       "\n",
       "    .dataframe thead th {\n",
       "        text-align: right;\n",
       "    }\n",
       "</style>\n",
       "<table border=\"1\" class=\"dataframe\">\n",
       "  <thead>\n",
       "    <tr style=\"text-align: right;\">\n",
       "      <th></th>\n",
       "      <th>AAPL</th>\n",
       "      <th>F</th>\n",
       "    </tr>\n",
       "  </thead>\n",
       "  <tbody>\n",
       "    <tr>\n",
       "      <th>AAPL</th>\n",
       "      <td>0.103373</td>\n",
       "      <td>0.054241</td>\n",
       "    </tr>\n",
       "    <tr>\n",
       "      <th>F</th>\n",
       "      <td>0.054241</td>\n",
       "      <td>0.189828</td>\n",
       "    </tr>\n",
       "  </tbody>\n",
       "</table>\n",
       "</div>"
      ],
      "text/plain": [
       "          AAPL         F\n",
       "AAPL  0.103373  0.054241\n",
       "F     0.054241  0.189828"
      ]
     },
     "execution_count": 98,
     "metadata": {},
     "output_type": "execute_result"
    }
   ],
   "source": [
    "c= data_returns.cov()*250\n",
    "c"
   ]
  },
  {
   "cell_type": "code",
   "execution_count": 94,
   "id": "16ac9ea3",
   "metadata": {},
   "outputs": [
    {
     "data": {
      "text/plain": [
       "0.00041349206610689855"
      ]
     },
     "execution_count": 94,
     "metadata": {},
     "output_type": "execute_result"
    }
   ],
   "source": [
    "aapl_var=data_returns['AAPL'].var()\n",
    "aapl_var"
   ]
  },
  {
   "cell_type": "code",
   "execution_count": 95,
   "id": "77c5fb45",
   "metadata": {},
   "outputs": [
    {
     "data": {
      "text/plain": [
       "0.10337301652672463"
      ]
     },
     "execution_count": 95,
     "metadata": {},
     "output_type": "execute_result"
    }
   ],
   "source": [
    "aapl_vara= aapl_var*250\n",
    "aapl_vara"
   ]
  },
  {
   "cell_type": "code",
   "execution_count": 100,
   "id": "265e52da",
   "metadata": {},
   "outputs": [
    {
     "data": {
      "text/plain": [
       "0.000759311839586807"
      ]
     },
     "execution_count": 100,
     "metadata": {},
     "output_type": "execute_result"
    }
   ],
   "source": [
    "f_var= data_returns['F'].var()\n",
    "f_var"
   ]
  },
  {
   "cell_type": "code",
   "execution_count": 102,
   "id": "e19e5b5f",
   "metadata": {},
   "outputs": [
    {
     "data": {
      "text/plain": [
       "0.18982795989670176"
      ]
     },
     "execution_count": 102,
     "metadata": {},
     "output_type": "execute_result"
    }
   ],
   "source": [
    "f_vara= f_var*250\n",
    "f_vara"
   ]
  },
  {
   "cell_type": "code",
   "execution_count": 103,
   "id": "d5330455",
   "metadata": {},
   "outputs": [
    {
     "data": {
      "text/plain": [
       "0.10337301652672463"
      ]
     },
     "execution_count": 103,
     "metadata": {},
     "output_type": "execute_result"
    }
   ],
   "source": [
    "a=(data_returns['AAPL'].var())*250\n",
    "a"
   ]
  },
  {
   "cell_type": "code",
   "execution_count": 104,
   "id": "a5db1d54",
   "metadata": {},
   "outputs": [
    {
     "data": {
      "text/plain": [
       "0.18982795989670176"
      ]
     },
     "execution_count": 104,
     "metadata": {},
     "output_type": "execute_result"
    }
   ],
   "source": [
    "f= (data_returns['F'].var())*250\n",
    "f"
   ]
  },
  {
   "cell_type": "code",
   "execution_count": 14,
   "id": "2ec95422",
   "metadata": {},
   "outputs": [
    {
     "data": {
      "text/html": [
       "<div>\n",
       "<style scoped>\n",
       "    .dataframe tbody tr th:only-of-type {\n",
       "        vertical-align: middle;\n",
       "    }\n",
       "\n",
       "    .dataframe tbody tr th {\n",
       "        vertical-align: top;\n",
       "    }\n",
       "\n",
       "    .dataframe thead th {\n",
       "        text-align: right;\n",
       "    }\n",
       "</style>\n",
       "<table border=\"1\" class=\"dataframe\">\n",
       "  <thead>\n",
       "    <tr style=\"text-align: right;\">\n",
       "      <th></th>\n",
       "      <th>AAPL</th>\n",
       "      <th>F</th>\n",
       "    </tr>\n",
       "  </thead>\n",
       "  <tbody>\n",
       "    <tr>\n",
       "      <th>AAPL</th>\n",
       "      <td>250.000000</td>\n",
       "      <td>96.705401</td>\n",
       "    </tr>\n",
       "    <tr>\n",
       "      <th>F</th>\n",
       "      <td>96.705401</td>\n",
       "      <td>250.000000</td>\n",
       "    </tr>\n",
       "  </tbody>\n",
       "</table>\n",
       "</div>"
      ],
      "text/plain": [
       "            AAPL           F\n",
       "AAPL  250.000000   96.705401\n",
       "F      96.705401  250.000000"
      ]
     },
     "execution_count": 14,
     "metadata": {},
     "output_type": "execute_result"
    }
   ],
   "source": [
    "m= data_returns.corr()*250\n",
    "m"
   ]
  },
  {
   "cell_type": "code",
   "execution_count": 13,
   "id": "6e20d397",
   "metadata": {},
   "outputs": [
    {
     "data": {
      "text/html": [
       "<div>\n",
       "<style scoped>\n",
       "    .dataframe tbody tr th:only-of-type {\n",
       "        vertical-align: middle;\n",
       "    }\n",
       "\n",
       "    .dataframe tbody tr th {\n",
       "        vertical-align: top;\n",
       "    }\n",
       "\n",
       "    .dataframe thead th {\n",
       "        text-align: right;\n",
       "    }\n",
       "</style>\n",
       "<table border=\"1\" class=\"dataframe\">\n",
       "  <thead>\n",
       "    <tr style=\"text-align: right;\">\n",
       "      <th></th>\n",
       "      <th>AAPL</th>\n",
       "      <th>F</th>\n",
       "    </tr>\n",
       "  </thead>\n",
       "  <tbody>\n",
       "    <tr>\n",
       "      <th>AAPL</th>\n",
       "      <td>0.103375</td>\n",
       "      <td>0.054185</td>\n",
       "    </tr>\n",
       "    <tr>\n",
       "      <th>F</th>\n",
       "      <td>0.054185</td>\n",
       "      <td>0.189811</td>\n",
       "    </tr>\n",
       "  </tbody>\n",
       "</table>\n",
       "</div>"
      ],
      "text/plain": [
       "          AAPL         F\n",
       "AAPL  0.103375  0.054185\n",
       "F     0.054185  0.189811"
      ]
     },
     "execution_count": 13,
     "metadata": {},
     "output_type": "execute_result"
    }
   ],
   "source": [
    "c= data_returns.cov()*250\n",
    "c"
   ]
  },
  {
   "cell_type": "markdown",
   "id": "ed752067",
   "metadata": {},
   "source": [
    "# PORTFOLIO RISK"
   ]
  },
  {
   "cell_type": "code",
   "execution_count": 108,
   "id": "f9d3a7c3",
   "metadata": {},
   "outputs": [],
   "source": [
    "w = np.array([0.5,0.5])"
   ]
  },
  {
   "cell_type": "markdown",
   "id": "9d9db32a",
   "metadata": {},
   "source": [
    "PORTFOLIO VARIANCE"
   ]
  },
  {
   "cell_type": "code",
   "execution_count": 15,
   "id": "c431a02f",
   "metadata": {},
   "outputs": [
    {
     "data": {
      "text/plain": [
       "0.10038899605884372"
      ]
     },
     "execution_count": 15,
     "metadata": {},
     "output_type": "execute_result"
    }
   ],
   "source": [
    "pfolio_var= (np.dot(w.T, np.dot(c,w)))\n",
    "pfolio_var"
   ]
  },
  {
   "cell_type": "markdown",
   "id": "7508cbba",
   "metadata": {},
   "source": [
    "portfolio volatility"
   ]
  },
  {
   "cell_type": "code",
   "execution_count": 16,
   "id": "cef4cc3f",
   "metadata": {},
   "outputs": [
    {
     "data": {
      "text/plain": [
       "0.3168422258141167"
      ]
     },
     "execution_count": 16,
     "metadata": {},
     "output_type": "execute_result"
    }
   ],
   "source": [
    "pfolio_vol= (np.dot(w.T, np.dot(c,w)))**0.5\n",
    "pfolio_vol"
   ]
  },
  {
   "cell_type": "code",
   "execution_count": 114,
   "id": "253ba834",
   "metadata": {},
   "outputs": [
    {
     "name": "stdout",
     "output_type": "stream",
     "text": [
      "31.689%\n"
     ]
    }
   ],
   "source": [
    "print(str(round(pfolio_vol,5)*100)+ '%')"
   ]
  },
  {
   "cell_type": "markdown",
   "id": "55fce7bb",
   "metadata": {},
   "source": [
    "# CALCULATING DIVERSIFIABLE AND UNDIVERSIFIABLE RISK"
   ]
  },
  {
   "cell_type": "code",
   "execution_count": 4,
   "id": "ec78631b",
   "metadata": {},
   "outputs": [],
   "source": [
    "w = np.array([0.5,0.5])"
   ]
  },
  {
   "cell_type": "code",
   "execution_count": 5,
   "id": "5c9b16a8",
   "metadata": {
    "scrolled": true
   },
   "outputs": [
    {
     "data": {
      "text/plain": [
       "0.5"
      ]
     },
     "execution_count": 5,
     "metadata": {},
     "output_type": "execute_result"
    }
   ],
   "source": [
    "w[0]"
   ]
  },
  {
   "cell_type": "code",
   "execution_count": 6,
   "id": "5c1a364a",
   "metadata": {},
   "outputs": [
    {
     "data": {
      "text/plain": [
       "0.5"
      ]
     },
     "execution_count": 6,
     "metadata": {},
     "output_type": "execute_result"
    }
   ],
   "source": [
    "w[1]"
   ]
  },
  {
   "cell_type": "code",
   "execution_count": 10,
   "id": "1be955b2",
   "metadata": {},
   "outputs": [
    {
     "data": {
      "text/plain": [
       "0.10337527118697369"
      ]
     },
     "execution_count": 10,
     "metadata": {},
     "output_type": "execute_result"
    }
   ],
   "source": [
    "var_a=data_returns['AAPL'].var()*250\n",
    "var_a"
   ]
  },
  {
   "cell_type": "code",
   "execution_count": 11,
   "id": "800807f4",
   "metadata": {},
   "outputs": [
    {
     "data": {
      "text/plain": [
       "0.18981064790265417"
      ]
     },
     "execution_count": 11,
     "metadata": {},
     "output_type": "execute_result"
    }
   ],
   "source": [
    "var_f=data_returns['F'].var()*250\n",
    "var_f"
   ]
  },
  {
   "cell_type": "code",
   "execution_count": 17,
   "id": "5de5b38d",
   "metadata": {},
   "outputs": [
    {
     "data": {
      "text/plain": [
       "0.027092516286436746"
      ]
     },
     "execution_count": 17,
     "metadata": {},
     "output_type": "execute_result"
    }
   ],
   "source": [
    "d_risk= pfolio_var -(w[0]**2*var_a)-(w[1]**2*var_f)\n",
    "d_risk"
   ]
  },
  {
   "cell_type": "code",
   "execution_count": 18,
   "id": "1d652b04",
   "metadata": {},
   "outputs": [
    {
     "name": "stdout",
     "output_type": "stream",
     "text": [
      "2.709%\n"
     ]
    }
   ],
   "source": [
    "print(str(round(d_risk*100,3))+'%')"
   ]
  },
  {
   "cell_type": "markdown",
   "id": "1d287995",
   "metadata": {},
   "source": [
    "NON DIVERSIFIABLE RISK"
   ]
  },
  {
   "cell_type": "code",
   "execution_count": 20,
   "id": "ca3e6ac3",
   "metadata": {},
   "outputs": [
    {
     "data": {
      "text/plain": [
       "0.07329647977240697"
      ]
     },
     "execution_count": 20,
     "metadata": {},
     "output_type": "execute_result"
    }
   ],
   "source": [
    "n_dr1= pfolio_var- d_risk\n",
    "n_dr1"
   ]
  },
  {
   "cell_type": "code",
   "execution_count": 23,
   "id": "3796fbff",
   "metadata": {},
   "outputs": [
    {
     "data": {
      "text/plain": [
       "0.07329647977240697"
      ]
     },
     "execution_count": 23,
     "metadata": {},
     "output_type": "execute_result"
    }
   ],
   "source": [
    "n_dr2= (w[0]**2*var_a)+(w[1]**2*var_f)\n",
    "n_dr2"
   ]
  },
  {
   "cell_type": "code",
   "execution_count": 24,
   "id": "599bc62c",
   "metadata": {},
   "outputs": [
    {
     "data": {
      "text/plain": [
       "True"
      ]
     },
     "execution_count": 24,
     "metadata": {},
     "output_type": "execute_result"
    }
   ],
   "source": [
    "n_dr1==n_dr2"
   ]
  },
  {
   "cell_type": "code",
   "execution_count": 25,
   "id": "8662cacf",
   "metadata": {},
   "outputs": [],
   "source": [
    "#if we subtract d_Risk from the whole variance or we sum the weighted annual variance our outcome shall b same"
   ]
  },
  {
   "cell_type": "code",
   "execution_count": null,
   "id": "b11d11c4",
   "metadata": {},
   "outputs": [],
   "source": []
  }
 ],
 "metadata": {
  "kernelspec": {
   "display_name": "Python 3 (ipykernel)",
   "language": "python",
   "name": "python3"
  },
  "language_info": {
   "codemirror_mode": {
    "name": "ipython",
    "version": 3
   },
   "file_extension": ".py",
   "mimetype": "text/x-python",
   "name": "python",
   "nbconvert_exporter": "python",
   "pygments_lexer": "ipython3",
   "version": "3.9.12"
  }
 },
 "nbformat": 4,
 "nbformat_minor": 5
}
