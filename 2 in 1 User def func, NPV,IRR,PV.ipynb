{
 "cells": [
  {
   "cell_type": "code",
   "execution_count": 24,
   "id": "c6642e62",
   "metadata": {},
   "outputs": [],
   "source": [
    "pv=100\n",
    "r=0.04\n",
    "n=6"
   ]
  },
  {
   "cell_type": "code",
   "execution_count": 37,
   "id": "dba5bd36",
   "metadata": {},
   "outputs": [],
   "source": [
    "def fv(pv,rate,nper):\n",
    "    fv=pv*(1+rate)**nper\n",
    "    return fv"
   ]
  },
  {
   "cell_type": "code",
   "execution_count": 32,
   "id": "5024b8fd",
   "metadata": {},
   "outputs": [],
   "source": [
    "futurev= fv(100,0.04,5)"
   ]
  },
  {
   "cell_type": "code",
   "execution_count": 33,
   "id": "3b8fe6ce",
   "metadata": {},
   "outputs": [
    {
     "data": {
      "text/plain": [
       "121.66529024000002"
      ]
     },
     "execution_count": 33,
     "metadata": {},
     "output_type": "execute_result"
    }
   ],
   "source": [
    "futurev"
   ]
  },
  {
   "cell_type": "code",
   "execution_count": 34,
   "id": "0b5eff6f",
   "metadata": {},
   "outputs": [],
   "source": [
    "fv=fv(pv=pv,rate=r,nper=n)"
   ]
  },
  {
   "cell_type": "code",
   "execution_count": 35,
   "id": "bf79683a",
   "metadata": {},
   "outputs": [
    {
     "data": {
      "text/plain": [
       "126.53190184960003"
      ]
     },
     "execution_count": 35,
     "metadata": {},
     "output_type": "execute_result"
    }
   ],
   "source": [
    "fv"
   ]
  },
  {
   "cell_type": "markdown",
   "id": "39d10efe",
   "metadata": {},
   "source": [
    "# POSITIONAL VS KEYWORD ARGUMENTS:"
   ]
  },
  {
   "cell_type": "markdown",
   "id": "84d958c6",
   "metadata": {},
   "source": [
    "POSITIONAL ARGUMENT TAKES INPUT BASED ON VARIABLE POSITION IN FUNCTION, WHILE KEYWORD TAKES IT ON BASIS OF SPECIFIED KEYWORD"
   ]
  },
  {
   "cell_type": "code",
   "execution_count": 40,
   "id": "915eefc2",
   "metadata": {},
   "outputs": [
    {
     "data": {
      "text/plain": [
       "112.55088100000002"
      ]
     },
     "execution_count": 40,
     "metadata": {},
     "output_type": "execute_result"
    }
   ],
   "source": [
    "value=fv(100,0.03,4) #positional\n",
    "value"
   ]
  },
  {
   "cell_type": "code",
   "execution_count": 41,
   "id": "697ba9a8",
   "metadata": {},
   "outputs": [
    {
     "data": {
      "text/plain": [
       "109.2727"
      ]
     },
     "execution_count": 41,
     "metadata": {},
     "output_type": "execute_result"
    }
   ],
   "source": [
    "value=fv(nper=3,rate=0.03,pv=100) #keyword\n",
    "value"
   ]
  },
  {
   "cell_type": "code",
   "execution_count": 45,
   "id": "1add6126",
   "metadata": {},
   "outputs": [
    {
     "data": {
      "text/plain": [
       "115.92740743"
      ]
     },
     "execution_count": 45,
     "metadata": {},
     "output_type": "execute_result"
    }
   ],
   "source": [
    "value=fv(100,0.03,nper=5) #combination, once we start w keyword in combo then we have to continue with keyword\n",
    "value"
   ]
  },
  {
   "cell_type": "markdown",
   "id": "f781a370",
   "metadata": {},
   "source": [
    "# DEFAULT ARGUMENTS"
   ]
  },
  {
   "cell_type": "code",
   "execution_count": 46,
   "id": "f4f4e7dc",
   "metadata": {},
   "outputs": [],
   "source": [
    "def fv2(pv,rate,nyears,m=1):\n",
    "    fv=pv*(1+rate/m)**(nyears*m)\n",
    "    return fv"
   ]
  },
  {
   "cell_type": "markdown",
   "id": "0ca93f5a",
   "metadata": {},
   "source": [
    "now if we leave m empty python will assume it 1, else whatever value we put in it"
   ]
  },
  {
   "cell_type": "code",
   "execution_count": 48,
   "id": "7393e06c",
   "metadata": {},
   "outputs": [
    {
     "data": {
      "text/plain": [
       "112.4864"
      ]
     },
     "execution_count": 48,
     "metadata": {},
     "output_type": "execute_result"
    }
   ],
   "source": [
    "fv2(100,0.04,3)"
   ]
  },
  {
   "cell_type": "code",
   "execution_count": 49,
   "id": "e37501da",
   "metadata": {},
   "outputs": [
    {
     "data": {
      "text/plain": [
       "112.68250301319698"
      ]
     },
     "execution_count": 49,
     "metadata": {},
     "output_type": "execute_result"
    }
   ],
   "source": [
    "fv2(100,0.04,3,4)"
   ]
  },
  {
   "cell_type": "code",
   "execution_count": 50,
   "id": "41c0a9e6",
   "metadata": {},
   "outputs": [
    {
     "data": {
      "text/plain": [
       "112.72718745179145"
      ]
     },
     "execution_count": 50,
     "metadata": {},
     "output_type": "execute_result"
    }
   ],
   "source": [
    "fv2(100,0.04,3,12)"
   ]
  },
  {
   "cell_type": "markdown",
   "id": "d10abf02",
   "metadata": {},
   "source": [
    "# DEFAULT ARGUMENT NONE"
   ]
  },
  {
   "cell_type": "code",
   "execution_count": 73,
   "id": "fa5cff0b",
   "metadata": {},
   "outputs": [],
   "source": [
    "compounding=12"
   ]
  },
  {
   "cell_type": "code",
   "execution_count": 66,
   "id": "17a72d8a",
   "metadata": {},
   "outputs": [],
   "source": [
    "def fv3(pv,rate,nyears, m= None):\n",
    "    if not m:\n",
    "        m=compounding\n",
    "    fv=pv*(1+rate/m)**(nyears*m)\n",
    "    return fv\n",
    "        "
   ]
  },
  {
   "cell_type": "code",
   "execution_count": 74,
   "id": "81e369ac",
   "metadata": {},
   "outputs": [
    {
     "data": {
      "text/plain": [
       "122.09965939421214"
      ]
     },
     "execution_count": 74,
     "metadata": {},
     "output_type": "execute_result"
    }
   ],
   "source": [
    "fv3(100,0.04,5)"
   ]
  },
  {
   "cell_type": "code",
   "execution_count": 75,
   "id": "46913246",
   "metadata": {},
   "outputs": [],
   "source": [
    "compounding=1"
   ]
  },
  {
   "cell_type": "code",
   "execution_count": 76,
   "id": "ee6a84bc",
   "metadata": {},
   "outputs": [
    {
     "data": {
      "text/plain": [
       "121.66529024000002"
      ]
     },
     "execution_count": 76,
     "metadata": {},
     "output_type": "execute_result"
    }
   ],
   "source": [
    "fv3(100,0.04,5)"
   ]
  },
  {
   "cell_type": "markdown",
   "id": "e90d5a5f",
   "metadata": {},
   "source": [
    "# TUPLES UNPACKING"
   ]
  },
  {
   "cell_type": "code",
   "execution_count": 77,
   "id": "22a3c5cd",
   "metadata": {},
   "outputs": [
    {
     "data": {
      "text/plain": [
       "112.68250301319698"
      ]
     },
     "execution_count": 77,
     "metadata": {},
     "output_type": "execute_result"
    }
   ],
   "source": [
    "fv2(100,0.04,3,4)"
   ]
  },
  {
   "cell_type": "code",
   "execution_count": 82,
   "id": "0c40128a",
   "metadata": {},
   "outputs": [],
   "source": [
    "tup=(100,0.04,3,4)"
   ]
  },
  {
   "cell_type": "code",
   "execution_count": 83,
   "id": "9367fe11",
   "metadata": {},
   "outputs": [],
   "source": [
    "pv,rate,nyear,m=tup"
   ]
  },
  {
   "cell_type": "code",
   "execution_count": 84,
   "id": "d05cfc76",
   "metadata": {},
   "outputs": [
    {
     "data": {
      "text/plain": [
       "(100, 0.04, 3, 4)"
      ]
     },
     "execution_count": 84,
     "metadata": {},
     "output_type": "execute_result"
    }
   ],
   "source": [
    "tup"
   ]
  },
  {
   "cell_type": "code",
   "execution_count": 85,
   "id": "be51125f",
   "metadata": {},
   "outputs": [
    {
     "data": {
      "text/plain": [
       "100"
      ]
     },
     "execution_count": 85,
     "metadata": {},
     "output_type": "execute_result"
    }
   ],
   "source": [
    "pv"
   ]
  },
  {
   "cell_type": "code",
   "execution_count": 86,
   "id": "450a7840",
   "metadata": {},
   "outputs": [
    {
     "data": {
      "text/plain": [
       "3"
      ]
     },
     "execution_count": 86,
     "metadata": {},
     "output_type": "execute_result"
    }
   ],
   "source": [
    "nyear"
   ]
  },
  {
   "cell_type": "code",
   "execution_count": 87,
   "id": "8a63f74b",
   "metadata": {},
   "outputs": [
    {
     "data": {
      "text/plain": [
       "4"
      ]
     },
     "execution_count": 87,
     "metadata": {},
     "output_type": "execute_result"
    }
   ],
   "source": [
    "m"
   ]
  },
  {
   "cell_type": "code",
   "execution_count": 88,
   "id": "7347917e",
   "metadata": {},
   "outputs": [
    {
     "data": {
      "text/plain": [
       "0.04"
      ]
     },
     "execution_count": 88,
     "metadata": {},
     "output_type": "execute_result"
    }
   ],
   "source": [
    "rate"
   ]
  },
  {
   "cell_type": "code",
   "execution_count": 90,
   "id": "4ca1070b",
   "metadata": {},
   "outputs": [],
   "source": [
    "tup=(1,2,3,4)\n"
   ]
  },
  {
   "cell_type": "code",
   "execution_count": 91,
   "id": "36d4ed75",
   "metadata": {},
   "outputs": [],
   "source": [
    "a,*b=tup"
   ]
  },
  {
   "cell_type": "code",
   "execution_count": 92,
   "id": "36681481",
   "metadata": {},
   "outputs": [
    {
     "data": {
      "text/plain": [
       "1"
      ]
     },
     "execution_count": 92,
     "metadata": {},
     "output_type": "execute_result"
    }
   ],
   "source": [
    "a"
   ]
  },
  {
   "cell_type": "code",
   "execution_count": 94,
   "id": "b6e42578",
   "metadata": {},
   "outputs": [
    {
     "data": {
      "text/plain": [
       "[2, 3, 4]"
      ]
     },
     "execution_count": 94,
     "metadata": {},
     "output_type": "execute_result"
    }
   ],
   "source": [
    "b"
   ]
  },
  {
   "cell_type": "code",
   "execution_count": 95,
   "id": "4de84096",
   "metadata": {},
   "outputs": [],
   "source": [
    "a=[5,6,7,8]"
   ]
  },
  {
   "cell_type": "code",
   "execution_count": 96,
   "id": "00bd033a",
   "metadata": {},
   "outputs": [],
   "source": [
    "*args,c,d=a"
   ]
  },
  {
   "cell_type": "code",
   "execution_count": 97,
   "id": "42ab5dd4",
   "metadata": {},
   "outputs": [
    {
     "data": {
      "text/plain": [
       "[5, 6]"
      ]
     },
     "execution_count": 97,
     "metadata": {},
     "output_type": "execute_result"
    }
   ],
   "source": [
    "args"
   ]
  },
  {
   "cell_type": "code",
   "execution_count": 98,
   "id": "7bffd255",
   "metadata": {},
   "outputs": [
    {
     "data": {
      "text/plain": [
       "7"
      ]
     },
     "execution_count": 98,
     "metadata": {},
     "output_type": "execute_result"
    }
   ],
   "source": [
    "c"
   ]
  },
  {
   "cell_type": "code",
   "execution_count": 99,
   "id": "b56b5f99",
   "metadata": {},
   "outputs": [
    {
     "data": {
      "text/plain": [
       "8"
      ]
     },
     "execution_count": 99,
     "metadata": {},
     "output_type": "execute_result"
    }
   ],
   "source": [
    "d"
   ]
  },
  {
   "cell_type": "code",
   "execution_count": 100,
   "id": "aab5ad04",
   "metadata": {},
   "outputs": [],
   "source": [
    "cf=[-200,20,50,70,100,50]\n",
    "r=0.06"
   ]
  },
  {
   "cell_type": "code",
   "execution_count": 109,
   "id": "4f3810b2",
   "metadata": {},
   "outputs": [],
   "source": [
    "def npv(rate,values):\n",
    "    npv=0\n",
    "    for i in range(len(values)):\n",
    "        npv += values[i]/(1+rate)**(i)\n",
    "    return npv\n"
   ]
  },
  {
   "cell_type": "code",
   "execution_count": 128,
   "id": "db2fdcbd",
   "metadata": {},
   "outputs": [
    {
     "data": {
      "text/plain": [
       "38.71337130837991"
      ]
     },
     "execution_count": 128,
     "metadata": {},
     "output_type": "execute_result"
    }
   ],
   "source": [
    "npv(rate=r,values=cf)"
   ]
  },
  {
   "cell_type": "code",
   "execution_count": 113,
   "id": "7074b826",
   "metadata": {},
   "outputs": [],
   "source": [
    "def npv2(rate,*args):\n",
    "    npv=0\n",
    "    for i in range(len(args)):\n",
    "        npv += args[i]/(1+rate)**(i)\n",
    "    return npv"
   ]
  },
  {
   "cell_type": "code",
   "execution_count": 114,
   "id": "59dc14b6",
   "metadata": {},
   "outputs": [
    {
     "data": {
      "text/plain": [
       "38.71337130837991"
      ]
     },
     "execution_count": 114,
     "metadata": {},
     "output_type": "execute_result"
    }
   ],
   "source": [
    "npv2(r,-200,20,50,70,100,50)"
   ]
  },
  {
   "cell_type": "markdown",
   "id": "50722c69",
   "metadata": {},
   "source": [
    "# RETURNING MANY RESULTS:"
   ]
  },
  {
   "cell_type": "code",
   "execution_count": 123,
   "id": "37a027c9",
   "metadata": {},
   "outputs": [
    {
     "data": {
      "text/plain": [
       "[-200, 20, 50, 70, 100, 50]"
      ]
     },
     "execution_count": 123,
     "metadata": {},
     "output_type": "execute_result"
    }
   ],
   "source": [
    "cf = [-200, 20, 50, 70, 100, 50]\n",
    "cf"
   ]
  },
  {
   "cell_type": "code",
   "execution_count": 116,
   "id": "d7e524f1",
   "metadata": {},
   "outputs": [
    {
     "data": {
      "text/plain": [
       "0.06"
      ]
     },
     "execution_count": 116,
     "metadata": {},
     "output_type": "execute_result"
    }
   ],
   "source": [
    "r"
   ]
  },
  {
   "cell_type": "code",
   "execution_count": 135,
   "id": "10bd0a6a",
   "metadata": {},
   "outputs": [],
   "source": [
    "def npv_irr(rate,values,guess=0.05):\n",
    "    NPV=0\n",
    "    for i in range(len(values)):\n",
    "        NPV += values[i]/(1+rate)**(i)\n",
    "    \n",
    "    step=0.0000001\n",
    "    targetnpv=0\n",
    "    tolerance=0.001\n",
    "    \n",
    "    while True:\n",
    "        f=1+guess\n",
    "        npv=0\n",
    "        for i in range(len(values)):\n",
    "            npv+=values[i]/f**(i)\n",
    "        diff=npv-targetnpv\n",
    "        \n",
    "        if abs(diff)>tolerance:\n",
    "            if diff<0:\n",
    "                guess-=step\n",
    "            elif diff>0:\n",
    "                guess+=step\n",
    "        else:\n",
    "            break\n",
    "    return NPV,guess"
   ]
  },
  {
   "cell_type": "code",
   "execution_count": 136,
   "id": "595f6bb4",
   "metadata": {},
   "outputs": [
    {
     "data": {
      "text/plain": [
       "(38.71337130837991, 0.11906770000169853)"
      ]
     },
     "execution_count": 136,
     "metadata": {},
     "output_type": "execute_result"
    }
   ],
   "source": [
    "npv_irr(rate=r,values=cf,guess=0.06)"
   ]
  },
  {
   "cell_type": "code",
   "execution_count": 137,
   "id": "831f1a16",
   "metadata": {},
   "outputs": [
    {
     "data": {
      "text/plain": [
       "(38.71337130837991, 0.11906770000198609)"
      ]
     },
     "execution_count": 137,
     "metadata": {},
     "output_type": "execute_result"
    }
   ],
   "source": [
    "npv_irr(r,cf,0.05)"
   ]
  },
  {
   "cell_type": "code",
   "execution_count": 125,
   "id": "5b6beece",
   "metadata": {},
   "outputs": [
    {
     "data": {
      "text/plain": [
       "(38.71337130837991, 0.11906770000169853)"
      ]
     },
     "execution_count": 125,
     "metadata": {},
     "output_type": "execute_result"
    }
   ],
   "source": [
    "npv_irr(r,cf,0.06)"
   ]
  },
  {
   "cell_type": "markdown",
   "id": "c946e74f",
   "metadata": {},
   "source": [
    "# NESTED FUNCTIONS:"
   ]
  },
  {
   "cell_type": "code",
   "execution_count": 138,
   "id": "4c746229",
   "metadata": {},
   "outputs": [],
   "source": [
    "def npv(values, rate):\n",
    "    NPV = 0\n",
    "    for i in range(len(values)):\n",
    "        NPV += values[i] / (1 + rate)**(i)\n",
    "    return NPV"
   ]
  },
  {
   "cell_type": "code",
   "execution_count": 139,
   "id": "9a9086cb",
   "metadata": {},
   "outputs": [],
   "source": [
    "def irr3(values, rate = None):    \n",
    "    guess = 0.06\n",
    "    step = 0.0000001\n",
    "    target_npv = 0\n",
    "    tolerance = 0.001  \n",
    "\n",
    "    while True:\n",
    "        f = 1 + guess\n",
    "        NPV = 0\n",
    "        for i in range(len(values)):\n",
    "            NPV += values[i] / f**(i)\n",
    "        diff = NPV - target_npv\n",
    "\n",
    "        if abs(diff) > tolerance:\n",
    "            if diff < 0:\n",
    "                guess -= step\n",
    "            elif diff > 0:\n",
    "                guess += step\n",
    "        else:\n",
    "            break\n",
    "    return guess"
   ]
  },
  {
   "cell_type": "code",
   "execution_count": 140,
   "id": "94dad909",
   "metadata": {},
   "outputs": [
    {
     "data": {
      "text/plain": [
       "0.11906770000169853"
      ]
     },
     "execution_count": 140,
     "metadata": {},
     "output_type": "execute_result"
    }
   ],
   "source": [
    "irr3(cf)"
   ]
  },
  {
   "cell_type": "code",
   "execution_count": 141,
   "id": "41e1c15b",
   "metadata": {},
   "outputs": [],
   "source": [
    "def break_even(values, rate = None):\n",
    "    cum_cf = 0\n",
    "    for i in range(len(values)):\n",
    "        cum_cf += values[i]\n",
    "        #print(cum_cf)\n",
    "        if cum_cf > 0:\n",
    "            return \"The Project´s Payback Period is {} Years!\".format(i)\n",
    "            break\n",
    "        elif cum_cf <= 0 and i == len(cf)-1:\n",
    "            return \"The Project does not break even!\""
   ]
  },
  {
   "cell_type": "code",
   "execution_count": 142,
   "id": "aab5c2dd",
   "metadata": {},
   "outputs": [
    {
     "data": {
      "text/plain": [
       "'The Project´s Payback Period is 4 Years!'"
      ]
     },
     "execution_count": 142,
     "metadata": {},
     "output_type": "execute_result"
    }
   ],
   "source": [
    "break_even(cf)"
   ]
  },
  {
   "cell_type": "code",
   "execution_count": 143,
   "id": "82b65df1",
   "metadata": {},
   "outputs": [],
   "source": [
    "def capital_budgeting(values, rate, function):    \n",
    "    return function(values, rate)    "
   ]
  },
  {
   "cell_type": "code",
   "execution_count": 144,
   "id": "f7c4b57a",
   "metadata": {},
   "outputs": [
    {
     "data": {
      "text/plain": [
       "'The Project´s Payback Period is 4 Years!'"
      ]
     },
     "execution_count": 144,
     "metadata": {},
     "output_type": "execute_result"
    }
   ],
   "source": [
    "capital_budgeting(values = cf, rate = r, function = break_even)"
   ]
  },
  {
   "cell_type": "markdown",
   "id": "af74a773",
   "metadata": {},
   "source": [
    "\n",
    "# WORD PROBLEM:"
   ]
  },
  {
   "cell_type": "markdown",
   "id": "fed524b9",
   "metadata": {},
   "source": [
    "Assume a 30-year-old investor wants to retire in __35 years__ at the age of 65. He will earn __4.0% p.a.__ on his Investment during the __Funding Phase__ (already fixed) and he expects to earn __3.0% p.a.__ on his Investment during the __Payout Phase__ (fixed upon retirement). How much must he __deposit__ at the __end of each month__ for the next 35 years in order to be able to withdraw __2,500 USD__ per month (at the beginning of each month) for __25 years__? The Annuity Contract´s final Value shall be __100,000 USD__ when he is 90 years old (to cover some more years).  "
   ]
  },
  {
   "cell_type": "code",
   "execution_count": 161,
   "id": "af7b6691",
   "metadata": {},
   "outputs": [],
   "source": [
    "import numpy_financial as npf\n",
    "import numpy as np"
   ]
  },
  {
   "cell_type": "markdown",
   "id": "816c2a3b",
   "metadata": {},
   "source": [
    "Step 1: __Payout Phase__"
   ]
  },
  {
   "cell_type": "code",
   "execution_count": 146,
   "id": "a470984c",
   "metadata": {},
   "outputs": [],
   "source": [
    "m = 12\n",
    "cf_2 = 2500\n",
    "n_2 = 25\n",
    "FV_2 = 100000\n",
    "r_2 = 0.03"
   ]
  },
  {
   "cell_type": "code",
   "execution_count": 147,
   "id": "7bc6b724",
   "metadata": {},
   "outputs": [
    {
     "data": {
      "text/plain": [
       "-575789.9978483317"
      ]
     },
     "execution_count": 147,
     "metadata": {},
     "output_type": "execute_result"
    }
   ],
   "source": [
    "PV_2 = npf.pv(rate = r_2/m, nper = n_2*m, pmt = cf_2, fv = FV_2, when = \"begin\")\n",
    "PV_2"
   ]
  },
  {
   "cell_type": "markdown",
   "id": "284f547a",
   "metadata": {},
   "source": [
    "__FUNDING PHASE__:"
   ]
  },
  {
   "cell_type": "code",
   "execution_count": 148,
   "id": "4d05edc9",
   "metadata": {},
   "outputs": [],
   "source": [
    "m = 12\n",
    "n_1 = 35\n",
    "FV_1 = -PV_2\n",
    "r_1 = 0.04\n",
    "PV_1 = 0"
   ]
  },
  {
   "cell_type": "code",
   "execution_count": 149,
   "id": "2ba72b65",
   "metadata": {},
   "outputs": [
    {
     "data": {
      "text/plain": [
       "-630.1526790408823"
      ]
     },
     "execution_count": 149,
     "metadata": {},
     "output_type": "execute_result"
    }
   ],
   "source": [
    "cf_1 = npf.pmt(rate = r_1/m, nper = n_1*m, pv = PV_1, fv = FV_1)\n",
    "cf_1"
   ]
  },
  {
   "cell_type": "markdown",
   "id": "c9c0383c",
   "metadata": {},
   "source": [
    "__WRITING A FUNCTION__"
   ]
  },
  {
   "cell_type": "code",
   "execution_count": 156,
   "id": "9de86213",
   "metadata": {},
   "outputs": [],
   "source": [
    "def funding(ret_income, ret_years, end_value, initial_funds,\n",
    "               funding_years, rate_funding, rate_payout = None, m = 12, \n",
    "               payout_when = \"begin\", funding_when = \"end\"):\n",
    "    \n",
    "    if not rate_payout:\n",
    "        rate_payout = rate_funding   \n",
    "\n",
    "    PV_2 = npf.pv(rate = rate_payout/m, nper = ret_years * m, \n",
    "                 pmt = ret_income, fv = end_value, when = payout_when)\n",
    "    \n",
    "        \n",
    "    cf_1 = npf.pmt(rate = rate_funding/m, nper = funding_years * m,\n",
    "                  pv = -initial_funds, fv = -PV_2, when = funding_when)\n",
    "    \n",
    "    return cf_1"
   ]
  },
  {
   "cell_type": "code",
   "execution_count": 157,
   "id": "2b1ef1a1",
   "metadata": {},
   "outputs": [
    {
     "data": {
      "text/plain": [
       "-630.1526790408823"
      ]
     },
     "execution_count": 157,
     "metadata": {},
     "output_type": "execute_result"
    }
   ],
   "source": [
    "funding(ret_income= 2500, ret_years= 25, end_value= 100000, \n",
    "           initial_funds= 0, funding_years= 35, rate_funding = 0.04, \n",
    "           rate_payout = 0.03)"
   ]
  },
  {
   "cell_type": "code",
   "execution_count": 158,
   "id": "322cc1ee",
   "metadata": {},
   "outputs": [],
   "source": [
    "def payout(funding_amount, funding_years, initial_funds, \n",
    "                ret_years, end_value, rate_funding, rate_payout, \n",
    "                m = 12, payout_when = \"begin\", funding_when = \"end\"):\n",
    "      \n",
    "    FV_1 = npf.fv(rate = rate_funding/m, nper = funding_years * m, \n",
    "                 pmt = -funding_amount, pv = -initial_funds, when = funding_when)\n",
    "    \n",
    "        \n",
    "    cf_2 = npf.pmt(rate = rate_payout/m, nper = ret_years * m, \n",
    "                  pv = -FV_1, fv = end_value, when = payout_when)\n",
    "    \n",
    "    return cf_2"
   ]
  },
  {
   "cell_type": "code",
   "execution_count": 159,
   "id": "0f96d70b",
   "metadata": {},
   "outputs": [
    {
     "data": {
      "text/plain": [
       "2400.0000000000005"
      ]
     },
     "execution_count": 159,
     "metadata": {},
     "output_type": "execute_result"
    }
   ],
   "source": [
    "payout(funding_amount = 504.89878895963534, funding_years = 36, initial_funds = 7500,\n",
    "            ret_years = 24, end_value = 50000, rate_funding = 0.04, \n",
    "            rate_payout = 0.03)"
   ]
  },
  {
   "cell_type": "code",
   "execution_count": 162,
   "id": "b1c54d4e",
   "metadata": {},
   "outputs": [
    {
     "data": {
      "text/plain": [
       "array([1624.6152508 , 1868.14322971, 2126.71301059, 2400.00567238,\n",
       "       2687.54175667, 2988.69936767])"
      ]
     },
     "execution_count": 162,
     "metadata": {},
     "output_type": "execute_result"
    }
   ],
   "source": [
    "payout(funding_amount = 504.90, funding_years = 36, initial_funds = 7500,\n",
    "            ret_years = 24, end_value = 50000, rate_funding = 0.04, \n",
    "            rate_payout = np.arange(0, 0.06, 0.01))"
   ]
  },
  {
   "cell_type": "code",
   "execution_count": 163,
   "id": "3c2df7c2",
   "metadata": {},
   "outputs": [
    {
     "data": {
      "text/plain": [
       "array([1884.63738583, 2129.5119252 , 2390.44512518, 2667.11947945,\n",
       "       2959.05925093, 3265.64700202])"
      ]
     },
     "execution_count": 163,
     "metadata": {},
     "output_type": "execute_result"
    }
   ],
   "source": [
    "payout(funding_amount = 504.90, funding_years = 37, initial_funds = 7500,\n",
    "            ret_years = 23, end_value = 25000, rate_funding = 0.04, \n",
    "            rate_payout = np.arange(0, 0.06, 0.01))"
   ]
  },
  {
   "cell_type": "code",
   "execution_count": null,
   "id": "4f228c59",
   "metadata": {},
   "outputs": [],
   "source": []
  }
 ],
 "metadata": {
  "kernelspec": {
   "display_name": "Python 3 (ipykernel)",
   "language": "python",
   "name": "python3"
  },
  "language_info": {
   "codemirror_mode": {
    "name": "ipython",
    "version": 3
   },
   "file_extension": ".py",
   "mimetype": "text/x-python",
   "name": "python",
   "nbconvert_exporter": "python",
   "pygments_lexer": "ipython3",
   "version": "3.9.12"
  }
 },
 "nbformat": 4,
 "nbformat_minor": 5
}
