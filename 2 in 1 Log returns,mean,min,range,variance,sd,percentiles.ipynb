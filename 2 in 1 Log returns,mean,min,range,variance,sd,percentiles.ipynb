{
 "cells": [
  {
   "cell_type": "code",
   "execution_count": 2,
   "id": "d8b7422f",
   "metadata": {},
   "outputs": [],
   "source": [
    "import numpy as np\n",
    "np.set_printoptions(suppress=True,precision=4)"
   ]
  },
  {
   "cell_type": "code",
   "execution_count": 3,
   "id": "c6c523aa",
   "metadata": {},
   "outputs": [],
   "source": [
    "price=np.array([100,107,102,110])"
   ]
  },
  {
   "cell_type": "code",
   "execution_count": 4,
   "id": "9f30e309",
   "metadata": {},
   "outputs": [],
   "source": [
    "ret=price[1:]/price[:-1]-1"
   ]
  },
  {
   "cell_type": "code",
   "execution_count": 5,
   "id": "772cc068",
   "metadata": {},
   "outputs": [
    {
     "data": {
      "text/plain": [
       "array([ 0.07  , -0.0467,  0.0784])"
      ]
     },
     "execution_count": 5,
     "metadata": {},
     "output_type": "execute_result"
    }
   ],
   "source": [
    "ret"
   ]
  },
  {
   "cell_type": "code",
   "execution_count": 6,
   "id": "b889dd98",
   "metadata": {},
   "outputs": [
    {
     "data": {
      "text/plain": [
       "109.99999999999999"
      ]
     },
     "execution_count": 6,
     "metadata": {},
     "output_type": "execute_result"
    }
   ],
   "source": [
    "100*(ret+1).prod()"
   ]
  },
  {
   "cell_type": "code",
   "execution_count": 8,
   "id": "d15aae51",
   "metadata": {},
   "outputs": [
    {
     "data": {
      "text/plain": [
       "array([ 0.0677, -0.0479,  0.0755])"
      ]
     },
     "execution_count": 8,
     "metadata": {},
     "output_type": "execute_result"
    }
   ],
   "source": [
    "log_return=np.log(price[1:]/price[:-1])\n",
    "log_return"
   ]
  },
  {
   "cell_type": "code",
   "execution_count": 10,
   "id": "768d9e14",
   "metadata": {},
   "outputs": [],
   "source": [
    "meanlog=log_return.mean()"
   ]
  },
  {
   "cell_type": "code",
   "execution_count": 11,
   "id": "531ffdfc",
   "metadata": {},
   "outputs": [
    {
     "data": {
      "text/plain": [
       "0.031770059934774955"
      ]
     },
     "execution_count": 11,
     "metadata": {},
     "output_type": "execute_result"
    }
   ],
   "source": [
    "meanlog"
   ]
  },
  {
   "cell_type": "code",
   "execution_count": 14,
   "id": "a3ca2e6c",
   "metadata": {},
   "outputs": [
    {
     "data": {
      "text/plain": [
       "110.00000000000001"
      ]
     },
     "execution_count": 14,
     "metadata": {},
     "output_type": "execute_result"
    }
   ],
   "source": [
    "100*np.exp(meanlog*3)"
   ]
  },
  {
   "cell_type": "code",
   "execution_count": 15,
   "id": "a26c71ac",
   "metadata": {},
   "outputs": [
    {
     "data": {
      "text/plain": [
       "0.09531017980432487"
      ]
     },
     "execution_count": 15,
     "metadata": {},
     "output_type": "execute_result"
    }
   ],
   "source": [
    "add=log_return.sum()\n",
    "add"
   ]
  },
  {
   "cell_type": "code",
   "execution_count": 16,
   "id": "f98cf79d",
   "metadata": {},
   "outputs": [
    {
     "data": {
      "text/plain": [
       "110.00000000000001"
      ]
     },
     "execution_count": 16,
     "metadata": {},
     "output_type": "execute_result"
    }
   ],
   "source": [
    "100*np.exp(add)"
   ]
  },
  {
   "cell_type": "code",
   "execution_count": 17,
   "id": "c889c835",
   "metadata": {},
   "outputs": [],
   "source": [
    "pop=np.loadtxt('C:/Users/aheed/Desktop/SP500.csv', delimiter=\",\",usecols=1)"
   ]
  },
  {
   "cell_type": "code",
   "execution_count": 18,
   "id": "d88f44d5",
   "metadata": {},
   "outputs": [
    {
     "data": {
      "text/plain": [
       "500"
      ]
     },
     "execution_count": 18,
     "metadata": {},
     "output_type": "execute_result"
    }
   ],
   "source": [
    "pop.size"
   ]
  },
  {
   "cell_type": "code",
   "execution_count": 20,
   "id": "f482c0e5",
   "metadata": {},
   "outputs": [],
   "source": [
    "pop=pop*100"
   ]
  },
  {
   "cell_type": "code",
   "execution_count": 21,
   "id": "edc27eb9",
   "metadata": {},
   "outputs": [
    {
     "data": {
      "text/plain": [
       "386.7155664221679"
      ]
     },
     "execution_count": 21,
     "metadata": {},
     "output_type": "execute_result"
    }
   ],
   "source": [
    "pop.max()"
   ]
  },
  {
   "cell_type": "code",
   "execution_count": 22,
   "id": "0e4fffec",
   "metadata": {},
   "outputs": [
    {
     "data": {
      "text/plain": [
       "-51.30060027705095"
      ]
     },
     "execution_count": 22,
     "metadata": {},
     "output_type": "execute_result"
    }
   ],
   "source": [
    "pop.min()"
   ]
  },
  {
   "cell_type": "code",
   "execution_count": 24,
   "id": "222c9964",
   "metadata": {},
   "outputs": [
    {
     "data": {
      "text/plain": [
       "438.01616669921884"
      ]
     },
     "execution_count": 24,
     "metadata": {},
     "output_type": "execute_result"
    }
   ],
   "source": [
    "range=pop.ptp()\n",
    "range"
   ]
  },
  {
   "cell_type": "code",
   "execution_count": 25,
   "id": "aa5ddc75",
   "metadata": {},
   "outputs": [
    {
     "data": {
      "text/plain": [
       "438.01616669921884"
      ]
     },
     "execution_count": 25,
     "metadata": {},
     "output_type": "execute_result"
    }
   ],
   "source": [
    "pop.max()-pop.min()"
   ]
  },
  {
   "cell_type": "code",
   "execution_count": 26,
   "id": "c9c77d3f",
   "metadata": {},
   "outputs": [],
   "source": [
    "sample=np.loadtxt('C:/Users/aheed/Desktop/sample.csv', delimiter=\",\",usecols=1)"
   ]
  },
  {
   "cell_type": "code",
   "execution_count": 27,
   "id": "4a837f42",
   "metadata": {},
   "outputs": [],
   "source": [
    "sample=sample*100"
   ]
  },
  {
   "cell_type": "code",
   "execution_count": 28,
   "id": "44ab3e74",
   "metadata": {},
   "outputs": [
    {
     "data": {
      "text/plain": [
       "132.30016313213704"
      ]
     },
     "execution_count": 28,
     "metadata": {},
     "output_type": "execute_result"
    }
   ],
   "source": [
    "np.max(sample)"
   ]
  },
  {
   "cell_type": "code",
   "execution_count": 29,
   "id": "5070ce58",
   "metadata": {},
   "outputs": [
    {
     "data": {
      "text/plain": [
       "-12.747464992757129"
      ]
     },
     "execution_count": 29,
     "metadata": {},
     "output_type": "execute_result"
    }
   ],
   "source": [
    "np.min(sample)"
   ]
  },
  {
   "cell_type": "code",
   "execution_count": 30,
   "id": "08877a34",
   "metadata": {},
   "outputs": [
    {
     "data": {
      "text/plain": [
       "145.04762812489417"
      ]
     },
     "execution_count": 30,
     "metadata": {},
     "output_type": "execute_result"
    }
   ],
   "source": [
    "np.max(sample)-np.min(sample)"
   ]
  },
  {
   "cell_type": "code",
   "execution_count": 31,
   "id": "ed2cc247",
   "metadata": {},
   "outputs": [
    {
     "data": {
      "text/plain": [
       "145.04762812489417"
      ]
     },
     "execution_count": 31,
     "metadata": {},
     "output_type": "execute_result"
    }
   ],
   "source": [
    "s=sample.ptp()\n",
    "s"
   ]
  },
  {
   "cell_type": "markdown",
   "id": "01142264",
   "metadata": {},
   "source": [
    "# VARIANCE AND STANDARD DEVIATION"
   ]
  },
  {
   "cell_type": "markdown",
   "id": "069b6ff2",
   "metadata": {},
   "source": [
    "VARIANCE"
   ]
  },
  {
   "cell_type": "code",
   "execution_count": 33,
   "id": "545acd44",
   "metadata": {},
   "outputs": [
    {
     "data": {
      "text/plain": [
       "962.631408916871"
      ]
     },
     "execution_count": 33,
     "metadata": {},
     "output_type": "execute_result"
    }
   ],
   "source": [
    "pop.var()"
   ]
  },
  {
   "cell_type": "code",
   "execution_count": 34,
   "id": "474b4a20",
   "metadata": {},
   "outputs": [
    {
     "data": {
      "text/plain": [
       "911.4389576826238"
      ]
     },
     "execution_count": 34,
     "metadata": {},
     "output_type": "execute_result"
    }
   ],
   "source": [
    "np.var(sample)"
   ]
  },
  {
   "cell_type": "code",
   "execution_count": 35,
   "id": "ce597be5",
   "metadata": {},
   "outputs": [
    {
     "data": {
      "text/plain": [
       "930.0397527373713"
      ]
     },
     "execution_count": 35,
     "metadata": {},
     "output_type": "execute_result"
    }
   ],
   "source": [
    "np.var(sample,ddof=1)"
   ]
  },
  {
   "cell_type": "markdown",
   "id": "ccbdda5c",
   "metadata": {},
   "source": [
    "STANDARD DEVIATION"
   ]
  },
  {
   "cell_type": "code",
   "execution_count": 37,
   "id": "bb7f533b",
   "metadata": {},
   "outputs": [
    {
     "data": {
      "text/plain": [
       "31.026301889153192"
      ]
     },
     "execution_count": 37,
     "metadata": {},
     "output_type": "execute_result"
    }
   ],
   "source": [
    "pop.std()"
   ]
  },
  {
   "cell_type": "code",
   "execution_count": 39,
   "id": "8ab3014b",
   "metadata": {},
   "outputs": [
    {
     "data": {
      "text/plain": [
       "30.496553128794265"
      ]
     },
     "execution_count": 39,
     "metadata": {},
     "output_type": "execute_result"
    }
   ],
   "source": [
    "sample.std(ddof=1)"
   ]
  },
  {
   "cell_type": "markdown",
   "id": "b389141e",
   "metadata": {},
   "source": [
    "# PERCENTILES"
   ]
  },
  {
   "cell_type": "markdown",
   "id": "bfd72a4e",
   "metadata": {},
   "source": [
    "VALUE BELOW WHICH GIVEN % OF OBSERVATIONS FALL\n",
    "\n",
    "FOR EG 20TH PERCENTILE: 20% OF OBSERVATION FOUND IN THIS "
   ]
  },
  {
   "cell_type": "raw",
   "id": "945815d0",
   "metadata": {},
   "source": [
    "np.percentile(pop,50)"
   ]
  },
  {
   "cell_type": "markdown",
   "id": "0fd7a890",
   "metadata": {},
   "source": [
    "interpretation: 50% of returns are below 18.15"
   ]
  },
  {
   "cell_type": "code",
   "execution_count": 41,
   "id": "792d17fb",
   "metadata": {},
   "outputs": [
    {
     "data": {
      "text/plain": [
       "18.158807954190955"
      ]
     },
     "execution_count": 41,
     "metadata": {},
     "output_type": "execute_result"
    }
   ],
   "source": [
    "np.median(pop)"
   ]
  },
  {
   "cell_type": "code",
   "execution_count": 43,
   "id": "c84750b6",
   "metadata": {},
   "outputs": [
    {
     "data": {
      "text/plain": [
       "65.84576599196505"
      ]
     },
     "execution_count": 43,
     "metadata": {},
     "output_type": "execute_result"
    }
   ],
   "source": [
    "np.percentile(pop,95)"
   ]
  },
  {
   "cell_type": "code",
   "execution_count": 44,
   "id": "6e042f65",
   "metadata": {},
   "outputs": [
    {
     "data": {
      "text/plain": [
       "array([ 4.2101, 35.5532])"
      ]
     },
     "execution_count": 44,
     "metadata": {},
     "output_type": "execute_result"
    }
   ],
   "source": [
    "np.percentile(pop,[25,75])"
   ]
  },
  {
   "cell_type": "markdown",
   "id": "d63580f0",
   "metadata": {},
   "source": [
    "4.2% and 35.5% returns lie in range of 25th and 75th percentile, aka 50% fall in this range and 25% are below 4.2 and 25% are above 35.2"
   ]
  },
  {
   "cell_type": "code",
   "execution_count": 45,
   "id": "a0316c29",
   "metadata": {},
   "outputs": [
    {
     "data": {
      "text/plain": [
       "array([-14.4503,  65.8458])"
      ]
     },
     "execution_count": 45,
     "metadata": {},
     "output_type": "execute_result"
    }
   ],
   "source": [
    "np.percentile(pop,[5,95])"
   ]
  },
  {
   "cell_type": "markdown",
   "id": "02ff48e3",
   "metadata": {},
   "source": [
    "90% observations are in this range"
   ]
  },
  {
   "cell_type": "code",
   "execution_count": 46,
   "id": "dd8a0617",
   "metadata": {},
   "outputs": [
    {
     "data": {
      "text/plain": [
       "array([-23.4189,  81.1018])"
      ]
     },
     "execution_count": 46,
     "metadata": {},
     "output_type": "execute_result"
    }
   ],
   "source": [
    "np.percentile(pop,[2.5,97.5])"
   ]
  },
  {
   "cell_type": "markdown",
   "id": "0e9f753f",
   "metadata": {},
   "source": [
    "95% values lie in this"
   ]
  },
  {
   "cell_type": "code",
   "execution_count": null,
   "id": "dd2d11ba",
   "metadata": {},
   "outputs": [],
   "source": []
  }
 ],
 "metadata": {
  "kernelspec": {
   "display_name": "Python 3 (ipykernel)",
   "language": "python",
   "name": "python3"
  },
  "language_info": {
   "codemirror_mode": {
    "name": "ipython",
    "version": 3
   },
   "file_extension": ".py",
   "mimetype": "text/x-python",
   "name": "python",
   "nbconvert_exporter": "python",
   "pygments_lexer": "ipython3",
   "version": "3.9.12"
  }
 },
 "nbformat": 4,
 "nbformat_minor": 5
}
