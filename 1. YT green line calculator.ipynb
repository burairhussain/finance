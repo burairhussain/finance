{
 "cells": [
  {
   "cell_type": "code",
   "execution_count": 9,
   "id": "0d5e719c",
   "metadata": {},
   "outputs": [],
   "source": [
    "import yfinance as yf\n",
    "import pandas as pd\n",
    "import datetime as dt"
   ]
  },
  {
   "cell_type": "code",
   "execution_count": null,
   "id": "936a9240",
   "metadata": {},
   "outputs": [
    {
     "name": "stdout",
     "output_type": "stream",
     "text": [
      "Enter the stock symbol: AAPL\n",
      "[*********************100%***********************]  1 of 1 completed\n",
      "0.44660699367523193\n",
      "1.6228569746017456\n",
      "3.085714101791382\n",
      "7.248570919036865\n",
      "13.032142639160156\n",
      "23.0\n",
      "25.18107032775879\n",
      "33.6349983215332\n",
      "58.36750030517578\n",
      "81.9625015258789\n",
      "145.08999633789062\n",
      "182.94000244140625\n",
      "Last green line: 182.94000244140625 on 2022-01-31 00:00:00-05:00\n"
     ]
    }
   ],
   "source": [
    "\n",
    "now= dt.datetime.now()\n",
    "stock= input('Enter the stock symbol: ')\n",
    "while stock != 'quit':\n",
    "    df=yf.download(stock, period='20Y')\n",
    "    df.drop(df[df['Volume']<1000].index, inplace= True)\n",
    "    dfmonth= df.groupby(pd.Grouper(freq='M'))['High'].max()\n",
    "    gldate=0\n",
    "    lastglv=0\n",
    "    currentdate=''\n",
    "    currentglv=0\n",
    "    \n",
    "    \n",
    "    for index, value in dfmonth.items():\n",
    "        if value>currentglv:\n",
    "            currentglv=value\n",
    "            counter=0\n",
    "            currentdate=index\n",
    "        if value<currentglv:\n",
    "            counter+=1\n",
    "            if counter==3 and ((index.month !=now.month) or (index.year!=now.year)):\n",
    "                if currentglv!=lastglv:\n",
    "                    print(currentglv)\n",
    "                gldate=currentdate\n",
    "                lastglv=currentglv\n",
    "                counter=0\n",
    "        \n",
    "    if lastglv==0:\n",
    "        message= (f' {stock} has not formed green line')\n",
    "    else:\n",
    "        message=(f'Last green line: {lastglv} on {gldate}')\n",
    "    \n",
    "    print(message)\n",
    "    stock= input('Enter the stock symbol: ')\n",
    "    "
   ]
  },
  {
   "cell_type": "markdown",
   "id": "ee43845c",
   "metadata": {},
   "source": [
    "Green Line Level Trading is a trading strategy that uses a technical analysis indicator called the Green Line to make buy and sell decisions. The Green Line is a moving average of the stock's price that is drawn when the stock hits a new high and then rests for at least three months without making a new high.\n",
    "\n",
    "The Green Line is calculated by taking the average of the highest price of the stock over the past 250 trading days and adding that to the lowest price of the stock over the past 250 trading days. The resulting number is then divided by two. The Green Line serves as a support level, indicating a price at which the stock may be considered undervalued.\n",
    "\n",
    "The strategy is to buy the stock when it crosses above the Green Line, and then hold onto the stock until it falls back below the Green Line. This can help traders capture gains during an uptrend and avoid losses during a downtrend. The three-month waiting period after the stock hits a new high is intended to help ensure that the new high is not just a temporary spike, but a true indication of the stock's long-term potential.\n",
    "\n",
    "It is important to note that like any trading strategy, Green Line Level Trading has its own limitations and risks. Traders must still perform their own due diligence and analyze other factors, such as company fundamentals and market conditions, before making any investment decisions."
   ]
  },
  {
   "cell_type": "code",
   "execution_count": null,
   "id": "0e4882a2",
   "metadata": {},
   "outputs": [],
   "source": []
  }
 ],
 "metadata": {
  "kernelspec": {
   "display_name": "Python 3 (ipykernel)",
   "language": "python",
   "name": "python3"
  },
  "language_info": {
   "codemirror_mode": {
    "name": "ipython",
    "version": 3
   },
   "file_extension": ".py",
   "mimetype": "text/x-python",
   "name": "python",
   "nbconvert_exporter": "python",
   "pygments_lexer": "ipython3",
   "version": "3.9.12"
  }
 },
 "nbformat": 4,
 "nbformat_minor": 5
}
