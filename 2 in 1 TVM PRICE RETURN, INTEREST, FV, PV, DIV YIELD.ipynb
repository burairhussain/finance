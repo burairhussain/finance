{
 "cells": [
  {
   "cell_type": "markdown",
   "id": "5211243c",
   "metadata": {},
   "source": [
    "FUTURE VALUES \n",
    "($100 today at 3% interest rate for 1 year)"
   ]
  },
  {
   "cell_type": "code",
   "execution_count": 1,
   "id": "0d2d8957",
   "metadata": {},
   "outputs": [
    {
     "data": {
      "text/plain": [
       "103.0"
      ]
     },
     "execution_count": 1,
     "metadata": {},
     "output_type": "execute_result"
    }
   ],
   "source": [
    "100*(1+0.03)"
   ]
  },
  {
   "cell_type": "markdown",
   "id": "edf5a9f0",
   "metadata": {},
   "source": [
    "now 3 years"
   ]
  },
  {
   "cell_type": "code",
   "execution_count": 4,
   "id": "3f68298e",
   "metadata": {},
   "outputs": [
    {
     "data": {
      "text/plain": [
       "109.2727"
      ]
     },
     "execution_count": 4,
     "metadata": {},
     "output_type": "execute_result"
    }
   ],
   "source": [
    "100*(1+0.03)**3"
   ]
  },
  {
   "cell_type": "code",
   "execution_count": 7,
   "id": "75c34d56",
   "metadata": {},
   "outputs": [
    {
     "data": {
      "text/plain": [
       "5849.292800000001"
      ]
     },
     "execution_count": 7,
     "metadata": {},
     "output_type": "execute_result"
    }
   ],
   "source": [
    "5000*(1+.04)**4 "
   ]
  },
  {
   "cell_type": "markdown",
   "id": "f4a81d7c",
   "metadata": {},
   "source": [
    "calculating PV"
   ]
  },
  {
   "cell_type": "markdown",
   "id": "6ff12a98",
   "metadata": {},
   "source": [
    "how many dollar saved today at 4.35% interest to have 110, 1 year from now"
   ]
  },
  {
   "cell_type": "code",
   "execution_count": 9,
   "id": "5cbca371",
   "metadata": {},
   "outputs": [
    {
     "data": {
      "text/plain": [
       "105.26315789473685"
      ]
     },
     "execution_count": 9,
     "metadata": {},
     "output_type": "execute_result"
    }
   ],
   "source": [
    "pv=110/(1+.045)\n",
    "pv"
   ]
  },
  {
   "cell_type": "markdown",
   "id": "b991828b",
   "metadata": {},
   "source": [
    "now 3 years"
   ]
  },
  {
   "cell_type": "code",
   "execution_count": 12,
   "id": "2347249a",
   "metadata": {},
   "outputs": [
    {
     "data": {
      "text/plain": [
       "96.39262644604003"
      ]
     },
     "execution_count": 12,
     "metadata": {},
     "output_type": "execute_result"
    }
   ],
   "source": [
    "pv=110/((1+0.045)**3)\n",
    "pv"
   ]
  },
  {
   "cell_type": "code",
   "execution_count": 13,
   "id": "f0d368e4",
   "metadata": {},
   "outputs": [
    {
     "name": "stdout",
     "output_type": "stream",
     "text": [
      "7742.647319937532\n"
     ]
    }
   ],
   "source": [
    "print(10000/(1.0525)**5)"
   ]
  },
  {
   "cell_type": "markdown",
   "id": "f1360eb6",
   "metadata": {},
   "source": [
    "INTEREST RATES"
   ]
  },
  {
   "cell_type": "markdown",
   "id": "caedec48",
   "metadata": {},
   "source": [
    "INVEST 90 AND GET 93.5 1 YEAR LATER"
   ]
  },
  {
   "cell_type": "code",
   "execution_count": 14,
   "id": "19f18564",
   "metadata": {},
   "outputs": [
    {
     "data": {
      "text/plain": [
       "0.03888888888888897"
      ]
     },
     "execution_count": 14,
     "metadata": {},
     "output_type": "execute_result"
    }
   ],
   "source": [
    "r=(93.5/90)-1\n",
    "r"
   ]
  },
  {
   "cell_type": "markdown",
   "id": "1c5e7cc1",
   "metadata": {},
   "source": [
    "3 years"
   ]
  },
  {
   "cell_type": "code",
   "execution_count": 16,
   "id": "64c5ab05",
   "metadata": {},
   "outputs": [
    {
     "data": {
      "text/plain": [
       "0.012798463496144663"
      ]
     },
     "execution_count": 16,
     "metadata": {},
     "output_type": "execute_result"
    }
   ],
   "source": [
    "r=(93.5/90)**(1/3)-1\n",
    "r"
   ]
  },
  {
   "cell_type": "code",
   "execution_count": 19,
   "id": "27656f82",
   "metadata": {},
   "outputs": [
    {
     "data": {
      "text/plain": [
       "93.27903552"
      ]
     },
     "execution_count": 19,
     "metadata": {},
     "output_type": "execute_result"
    }
   ],
   "source": [
    "90*(1.012)**3"
   ]
  },
  {
   "cell_type": "markdown",
   "id": "6314c4be",
   "metadata": {},
   "source": [
    "price returns\n",
    "invest 50 today get 56.5 1 year"
   ]
  },
  {
   "cell_type": "code",
   "execution_count": 20,
   "id": "ddb7ae5c",
   "metadata": {},
   "outputs": [
    {
     "data": {
      "text/plain": [
       "0.1299999999999999"
      ]
     },
     "execution_count": 20,
     "metadata": {},
     "output_type": "execute_result"
    }
   ],
   "source": [
    "56.5/50-1"
   ]
  },
  {
   "cell_type": "markdown",
   "id": "593a1b49",
   "metadata": {},
   "source": [
    "also a dividend of $2"
   ]
  },
  {
   "cell_type": "code",
   "execution_count": 24,
   "id": "596d37f7",
   "metadata": {},
   "outputs": [
    {
     "data": {
      "text/plain": [
       "0.16999999999999993"
      ]
     },
     "execution_count": 24,
     "metadata": {},
     "output_type": "execute_result"
    }
   ],
   "source": [
    "((56.5+2)/50)-1"
   ]
  },
  {
   "cell_type": "markdown",
   "id": "6a6855c0",
   "metadata": {},
   "source": [
    "total return = 16.9%\n",
    "\n",
    "price return = 12.9%\n",
    "\n",
    "yield = total - price = 16.9-12.9\n",
    "\n",
    "yield return = 4%"
   ]
  },
  {
   "cell_type": "code",
   "execution_count": 25,
   "id": "fd9ef841",
   "metadata": {},
   "outputs": [
    {
     "data": {
      "text/plain": [
       "0.04"
      ]
     },
     "execution_count": 25,
     "metadata": {},
     "output_type": "execute_result"
    }
   ],
   "source": [
    "div_yield = 2/50\n",
    "div_yield"
   ]
  },
  {
   "cell_type": "markdown",
   "id": "d8f72877",
   "metadata": {},
   "source": [
    "confirmation of dividend yield"
   ]
  },
  {
   "cell_type": "code",
   "execution_count": 30,
   "id": "fbb10ce7",
   "metadata": {},
   "outputs": [
    {
     "name": "stdout",
     "output_type": "stream",
     "text": [
      "0.02411368908444511\n"
     ]
    }
   ],
   "source": [
    "print((5500/5000)**(1/4)-1)"
   ]
  },
  {
   "cell_type": "code",
   "execution_count": 31,
   "id": "156ddbc5",
   "metadata": {},
   "outputs": [
    {
     "name": "stdout",
     "output_type": "stream",
     "text": [
      "15000\n"
     ]
    }
   ],
   "source": [
    "pv = 10000\n",
    "pv+=5000\n",
    "print(pv)"
   ]
  },
  {
   "cell_type": "code",
   "execution_count": null,
   "id": "8ba4531c",
   "metadata": {},
   "outputs": [],
   "source": []
  }
 ],
 "metadata": {
  "kernelspec": {
   "display_name": "Python 3 (ipykernel)",
   "language": "python",
   "name": "python3"
  },
  "language_info": {
   "codemirror_mode": {
    "name": "ipython",
    "version": 3
   },
   "file_extension": ".py",
   "mimetype": "text/x-python",
   "name": "python",
   "nbconvert_exporter": "python",
   "pygments_lexer": "ipython3",
   "version": "3.9.12"
  }
 },
 "nbformat": 4,
 "nbformat_minor": 5
}
