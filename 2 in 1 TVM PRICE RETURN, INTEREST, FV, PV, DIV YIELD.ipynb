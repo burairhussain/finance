{
 "cells": [
  {
   "cell_type": "markdown",
   "id": "5211243c",
   "metadata": {},
   "source": [
    "FUTURE VALUES \n",
    "($100 today at 3% interest rate for 1 year)"
   ]
  },
  {
   "cell_type": "code",
   "execution_count": 1,
   "id": "0d2d8957",
   "metadata": {},
   "outputs": [
    {
     "data": {
      "text/plain": [
       "103.0"
      ]
     },
     "execution_count": 1,
     "metadata": {},
     "output_type": "execute_result"
    }
   ],
   "source": [
    "100*(1+0.03)"
   ]
  },
  {
   "cell_type": "markdown",
   "id": "edf5a9f0",
   "metadata": {},
   "source": [
    "now 3 years"
   ]
  },
  {
   "cell_type": "code",
   "execution_count": 4,
   "id": "3f68298e",
   "metadata": {},
   "outputs": [
    {
     "data": {
      "text/plain": [
       "109.2727"
      ]
     },
     "execution_count": 4,
     "metadata": {},
     "output_type": "execute_result"
    }
   ],
   "source": [
    "100*(1+0.03)**3"
   ]
  },
  {
   "cell_type": "code",
   "execution_count": 7,
   "id": "75c34d56",
   "metadata": {},
   "outputs": [
    {
     "data": {
      "text/plain": [
       "5849.292800000001"
      ]
     },
     "execution_count": 7,
     "metadata": {},
     "output_type": "execute_result"
    }
   ],
   "source": [
    "5000*(1+.04)**4 "
   ]
  },
  {
   "cell_type": "markdown",
   "id": "f4a81d7c",
   "metadata": {},
   "source": [
    "calculating PV"
   ]
  },
  {
   "cell_type": "markdown",
   "id": "6ff12a98",
   "metadata": {},
   "source": [
    "how many dollar saved today at 4.35% interest to have 110, 1 year from now"
   ]
  },
  {
   "cell_type": "code",
   "execution_count": 9,
   "id": "5cbca371",
   "metadata": {},
   "outputs": [
    {
     "data": {
      "text/plain": [
       "105.26315789473685"
      ]
     },
     "execution_count": 9,
     "metadata": {},
     "output_type": "execute_result"
    }
   ],
   "source": [
    "pv=110/(1+.045)\n",
    "pv"
   ]
  },
  {
   "cell_type": "markdown",
   "id": "b991828b",
   "metadata": {},
   "source": [
    "now 3 years"
   ]
  },
  {
   "cell_type": "code",
   "execution_count": 12,
   "id": "2347249a",
   "metadata": {},
   "outputs": [
    {
     "data": {
      "text/plain": [
       "96.39262644604003"
      ]
     },
     "execution_count": 12,
     "metadata": {},
     "output_type": "execute_result"
    }
   ],
   "source": [
    "pv=110/((1+0.045)**3)\n",
    "pv"
   ]
  },
  {
   "cell_type": "code",
   "execution_count": 13,
   "id": "f0d368e4",
   "metadata": {},
   "outputs": [
    {
     "name": "stdout",
     "output_type": "stream",
     "text": [
      "7742.647319937532\n"
     ]
    }
   ],
   "source": [
    "print(10000/(1.0525)**5)"
   ]
  },
  {
   "cell_type": "markdown",
   "id": "f1360eb6",
   "metadata": {},
   "source": [
    "INTEREST RATES"
   ]
  },
  {
   "cell_type": "markdown",
   "id": "caedec48",
   "metadata": {},
   "source": [
    "INVEST 90 AND GET 93.5 1 YEAR LATER"
   ]
  },
  {
   "cell_type": "code",
   "execution_count": 14,
   "id": "19f18564",
   "metadata": {},
   "outputs": [
    {
     "data": {
      "text/plain": [
       "0.03888888888888897"
      ]
     },
     "execution_count": 14,
     "metadata": {},
     "output_type": "execute_result"
    }
   ],
   "source": [
    "r=(93.5/90)-1\n",
    "r"
   ]
  },
  {
   "cell_type": "markdown",
   "id": "1c5e7cc1",
   "metadata": {},
   "source": [
    "3 years"
   ]
  },
  {
   "cell_type": "code",
   "execution_count": 16,
   "id": "64c5ab05",
   "metadata": {},
   "outputs": [
    {
     "data": {
      "text/plain": [
       "0.012798463496144663"
      ]
     },
     "execution_count": 16,
     "metadata": {},
     "output_type": "execute_result"
    }
   ],
   "source": [
    "r=(93.5/90)**(1/3)-1\n",
    "r"
   ]
  },
  {
   "cell_type": "code",
   "execution_count": 19,
   "id": "27656f82",
   "metadata": {},
   "outputs": [
    {
     "data": {
      "text/plain": [
       "93.27903552"
      ]
     },
     "execution_count": 19,
     "metadata": {},
     "output_type": "execute_result"
    }
   ],
   "source": [
    "90*(1.012)**3"
   ]
  },
  {
   "cell_type": "markdown",
   "id": "6314c4be",
   "metadata": {},
   "source": [
    "price returns\n",
    "invest 50 today get 56.5 1 year"
   ]
  },
  {
   "cell_type": "code",
   "execution_count": 20,
   "id": "ddb7ae5c",
   "metadata": {},
   "outputs": [
    {
     "data": {
      "text/plain": [
       "0.1299999999999999"
      ]
     },
     "execution_count": 20,
     "metadata": {},
     "output_type": "execute_result"
    }
   ],
   "source": [
    "56.5/50-1"
   ]
  },
  {
   "cell_type": "markdown",
   "id": "593a1b49",
   "metadata": {},
   "source": [
    "also a dividend of $2"
   ]
  },
  {
   "cell_type": "code",
   "execution_count": 24,
   "id": "596d37f7",
   "metadata": {},
   "outputs": [
    {
     "data": {
      "text/plain": [
       "0.16999999999999993"
      ]
     },
     "execution_count": 24,
     "metadata": {},
     "output_type": "execute_result"
    }
   ],
   "source": [
    "((56.5+2)/50)-1"
   ]
  },
  {
   "cell_type": "markdown",
   "id": "6a6855c0",
   "metadata": {},
   "source": [
    "total return = 16.9%\n",
    "\n",
    "price return = 12.9%\n",
    "\n",
    "yield = total - price = 16.9-12.9\n",
    "\n",
    "yield return = 4%"
   ]
  },
  {
   "cell_type": "code",
   "execution_count": 25,
   "id": "fd9ef841",
   "metadata": {},
   "outputs": [
    {
     "data": {
      "text/plain": [
       "0.04"
      ]
     },
     "execution_count": 25,
     "metadata": {},
     "output_type": "execute_result"
    }
   ],
   "source": [
    "div_yield = 2/50\n",
    "div_yield"
   ]
  },
  {
   "cell_type": "markdown",
   "id": "d8f72877",
   "metadata": {},
   "source": [
    "confirmation of dividend yield"
   ]
  },
  {
   "cell_type": "code",
   "execution_count": 30,
   "id": "fbb10ce7",
   "metadata": {},
   "outputs": [
    {
     "name": "stdout",
     "output_type": "stream",
     "text": [
      "0.02411368908444511\n"
     ]
    }
   ],
   "source": [
    "print((5500/5000)**(1/4)-1)"
   ]
  },
  {
   "cell_type": "code",
   "execution_count": 31,
   "id": "156ddbc5",
   "metadata": {},
   "outputs": [
    {
     "name": "stdout",
     "output_type": "stream",
     "text": [
      "15000\n"
     ]
    }
   ],
   "source": [
    "pv = 10000\n",
    "pv+=5000\n",
    "print(pv)"
   ]
  },
  {
   "cell_type": "markdown",
   "id": "b1e9f50f",
   "metadata": {},
   "source": [
    "cashflow for more than 1 project\n",
    "Today you have 100 USD in your savings account and you save another\n",
    "\n",
    "10 USD in t1\n",
    "20 USD in t2\n",
    "50 USD in t3\n",
    "30 USD in t4\n",
    "25 USD in t5. (each cf at period´s end)\n",
    "Calculate the FV of your savings account after 5 years given an interest rate of 3% p.a.\n"
   ]
  },
  {
   "cell_type": "code",
   "execution_count": 1,
   "id": "4791f844",
   "metadata": {},
   "outputs": [
    {
     "data": {
      "text/plain": [
       "257.98203553"
      ]
     },
     "execution_count": 1,
     "metadata": {},
     "output_type": "execute_result"
    }
   ],
   "source": [
    "FV = 100 * 1.03**5 + 10 * 1.03**4 + 20 * 1.03**3 + 50 * 1.03**2 + 30 * 1.03 + 25\n",
    "FV"
   ]
  },
  {
   "cell_type": "markdown",
   "id": "b6977dbb",
   "metadata": {},
   "source": [
    "zero base indexing:"
   ]
  },
  {
   "cell_type": "code",
   "execution_count": 2,
   "id": "d769bf44",
   "metadata": {},
   "outputs": [
    {
     "data": {
      "text/plain": [
       "100"
      ]
     },
     "execution_count": 2,
     "metadata": {},
     "output_type": "execute_result"
    }
   ],
   "source": [
    "cf=[100,10,20,50,30,25]\n",
    "cf[0]"
   ]
  },
  {
   "cell_type": "markdown",
   "id": "7e64fe09",
   "metadata": {},
   "source": [
    "negative indexing:\n",
    "starts from the end of list from -1"
   ]
  },
  {
   "cell_type": "code",
   "execution_count": 3,
   "id": "9daa5866",
   "metadata": {},
   "outputs": [
    {
     "data": {
      "text/plain": [
       "25"
      ]
     },
     "execution_count": 3,
     "metadata": {},
     "output_type": "execute_result"
    }
   ],
   "source": [
    "cf[-1]"
   ]
  },
  {
   "cell_type": "code",
   "execution_count": 4,
   "id": "950c757a",
   "metadata": {},
   "outputs": [
    {
     "data": {
      "text/plain": [
       "50"
      ]
     },
     "execution_count": 4,
     "metadata": {},
     "output_type": "execute_result"
    }
   ],
   "source": [
    "cf[-3]"
   ]
  },
  {
   "cell_type": "code",
   "execution_count": 6,
   "id": "21489ebb",
   "metadata": {},
   "outputs": [
    {
     "data": {
      "text/plain": [
       "0"
      ]
     },
     "execution_count": 6,
     "metadata": {},
     "output_type": "execute_result"
    }
   ],
   "source": [
    "cf[-6]-cf[0]"
   ]
  },
  {
   "cell_type": "code",
   "execution_count": 9,
   "id": "d58a68d4",
   "metadata": {},
   "outputs": [],
   "source": [
    "n=[0,1,2,3,4,5]"
   ]
  },
  {
   "cell_type": "code",
   "execution_count": 8,
   "id": "c7dca1ac",
   "metadata": {},
   "outputs": [],
   "source": [
    "f=1.03"
   ]
  },
  {
   "cell_type": "code",
   "execution_count": 13,
   "id": "aeded55c",
   "metadata": {},
   "outputs": [],
   "source": [
    "FV = cf[0] * f**n[-1] + cf[1] * f**n[-2] + cf[2] * f**n[-3] + cf[3] * f**n[-4] + cf[4] * f**n[-5] + cf[5] * f**n[-6]"
   ]
  },
  {
   "cell_type": "code",
   "execution_count": 14,
   "id": "3d8f3592",
   "metadata": {},
   "outputs": [
    {
     "data": {
      "text/plain": [
       "257.98203553"
      ]
     },
     "execution_count": 14,
     "metadata": {},
     "output_type": "execute_result"
    }
   ],
   "source": [
    "FV"
   ]
  },
  {
   "cell_type": "markdown",
   "id": "f13eb092",
   "metadata": {},
   "source": [
    "How many USD do we save over the 5 years period (sum)?"
   ]
  },
  {
   "cell_type": "code",
   "execution_count": 16,
   "id": "c4656ffe",
   "metadata": {},
   "outputs": [
    {
     "name": "stdout",
     "output_type": "stream",
     "text": [
      "100\n",
      "110\n",
      "130\n",
      "180\n",
      "210\n",
      "235\n"
     ]
    }
   ],
   "source": [
    "total=0\n",
    "for i in cf:\n",
    "    total +=i\n",
    "    print(total)"
   ]
  },
  {
   "cell_type": "code",
   "execution_count": 17,
   "id": "21a55aa3",
   "metadata": {},
   "outputs": [
    {
     "data": {
      "text/plain": [
       "235"
      ]
     },
     "execution_count": 17,
     "metadata": {},
     "output_type": "execute_result"
    }
   ],
   "source": [
    "sum(cf)"
   ]
  },
  {
   "cell_type": "markdown",
   "id": "a3e767c9",
   "metadata": {},
   "source": [
    "Return all Cashflows in EUR by applying current USD/EUR Conversion Rate of 1.12 (1.12 USD per 1 EUR)."
   ]
  },
  {
   "cell_type": "code",
   "execution_count": 25,
   "id": "a11f143c",
   "metadata": {},
   "outputs": [
    {
     "name": "stdout",
     "output_type": "stream",
     "text": [
      "89.29\n",
      "8.93\n",
      "17.86\n",
      "44.64\n",
      "26.79\n",
      "22.32\n"
     ]
    }
   ],
   "source": [
    "for i in cf:\n",
    "    print(round(i/1.12,2))"
   ]
  },
  {
   "cell_type": "code",
   "execution_count": 28,
   "id": "115ef1d4",
   "metadata": {},
   "outputs": [
    {
     "data": {
      "text/plain": [
       "[1, 2, 3, 4, 5, 6, 7, 8, 9]"
      ]
     },
     "execution_count": 28,
     "metadata": {},
     "output_type": "execute_result"
    }
   ],
   "source": [
    "list(range(1,10))"
   ]
  },
  {
   "cell_type": "code",
   "execution_count": 31,
   "id": "73518962",
   "metadata": {},
   "outputs": [
    {
     "data": {
      "text/plain": [
       "range(3, 10)"
      ]
     },
     "execution_count": 31,
     "metadata": {},
     "output_type": "execute_result"
    }
   ],
   "source": [
    "range(3,10)"
   ]
  },
  {
   "cell_type": "code",
   "execution_count": 32,
   "id": "46d15ec4",
   "metadata": {},
   "outputs": [],
   "source": [
    "n=range(10)"
   ]
  },
  {
   "cell_type": "code",
   "execution_count": 34,
   "id": "d6662dc2",
   "metadata": {},
   "outputs": [
    {
     "data": {
      "text/plain": [
       "4"
      ]
     },
     "execution_count": 34,
     "metadata": {},
     "output_type": "execute_result"
    }
   ],
   "source": [
    "n[4]"
   ]
  },
  {
   "cell_type": "code",
   "execution_count": 35,
   "id": "f5ff8439",
   "metadata": {},
   "outputs": [
    {
     "data": {
      "text/plain": [
       "9"
      ]
     },
     "execution_count": 35,
     "metadata": {},
     "output_type": "execute_result"
    }
   ],
   "source": [
    "n[9]"
   ]
  },
  {
   "cell_type": "code",
   "execution_count": 37,
   "id": "fe20505f",
   "metadata": {},
   "outputs": [
    {
     "name": "stdout",
     "output_type": "stream",
     "text": [
      "0\n",
      "1\n",
      "2\n",
      "3\n",
      "4\n",
      "5\n",
      "6\n",
      "7\n",
      "8\n",
      "9\n"
     ]
    }
   ],
   "source": [
    "for i in n:\n",
    "    print(i)"
   ]
  },
  {
   "cell_type": "code",
   "execution_count": 40,
   "id": "0ac04609",
   "metadata": {},
   "outputs": [
    {
     "name": "stdout",
     "output_type": "stream",
     "text": [
      "0\n",
      "2\n",
      "4\n",
      "6\n",
      "8\n",
      "10\n",
      "12\n",
      "14\n",
      "16\n",
      "18\n"
     ]
    }
   ],
   "source": [
    "for i in n:\n",
    "    print(i*2)\n"
   ]
  },
  {
   "cell_type": "code",
   "execution_count": 45,
   "id": "29d8e408",
   "metadata": {},
   "outputs": [
    {
     "name": "stdout",
     "output_type": "stream",
     "text": [
      "45\n",
      "47\n",
      "49\n",
      "51\n",
      "53\n",
      "55\n",
      "57\n",
      "59\n",
      "61\n",
      "63\n"
     ]
    }
   ],
   "source": [
    "for i in n:\n",
    "    print(i*2+sum(n))\n",
    "    "
   ]
  },
  {
   "cell_type": "code",
   "execution_count": 43,
   "id": "af9657a0",
   "metadata": {},
   "outputs": [
    {
     "data": {
      "text/plain": [
       "45"
      ]
     },
     "execution_count": 43,
     "metadata": {},
     "output_type": "execute_result"
    }
   ],
   "source": [
    "sum(n)"
   ]
  },
  {
   "cell_type": "code",
   "execution_count": 47,
   "id": "3c049d08",
   "metadata": {},
   "outputs": [
    {
     "name": "stdout",
     "output_type": "stream",
     "text": [
      "0\n",
      "1\n",
      "8\n",
      "27\n",
      "64\n",
      "125\n",
      "216\n",
      "343\n",
      "512\n",
      "729\n"
     ]
    }
   ],
   "source": [
    "for i in n:\n",
    "    print(i**3)"
   ]
  },
  {
   "cell_type": "markdown",
   "id": "04a321b1",
   "metadata": {},
   "source": [
    "Future Values\n",
    "\n",
    "Today you have 100 USD in your savings account and you save another\n",
    "\n",
    "10 USD in t1\n",
    "20 USD in t2\n",
    "50 USD in t3\n",
    "30 USD in t4\n",
    "25 USD in t5. (each cf at period´s end)\n",
    "Calculate the FV of your savings account after 5 years given an interest rate of 3% p.a."
   ]
  },
  {
   "cell_type": "code",
   "execution_count": 48,
   "id": "956e1d9b",
   "metadata": {},
   "outputs": [
    {
     "data": {
      "text/plain": [
       "[100, 10, 20, 50, 30, 25]"
      ]
     },
     "execution_count": 48,
     "metadata": {},
     "output_type": "execute_result"
    }
   ],
   "source": [
    "cf"
   ]
  },
  {
   "cell_type": "code",
   "execution_count": 50,
   "id": "d4fe5e56",
   "metadata": {},
   "outputs": [
    {
     "data": {
      "text/plain": [
       "[0, 1, 2, 3, 4, 5]"
      ]
     },
     "execution_count": 50,
     "metadata": {},
     "output_type": "execute_result"
    }
   ],
   "source": [
    "n=list(range(6))\n",
    "n"
   ]
  },
  {
   "cell_type": "code",
   "execution_count": 51,
   "id": "7583c9cf",
   "metadata": {},
   "outputs": [
    {
     "data": {
      "text/plain": [
       "[5, 4, 3, 2, 1, 0]"
      ]
     },
     "execution_count": 51,
     "metadata": {},
     "output_type": "execute_result"
    }
   ],
   "source": [
    "n=n[::-1]\n",
    "n"
   ]
  },
  {
   "cell_type": "code",
   "execution_count": 52,
   "id": "5240eb9b",
   "metadata": {},
   "outputs": [
    {
     "data": {
      "text/plain": [
       "1.03"
      ]
     },
     "execution_count": 52,
     "metadata": {},
     "output_type": "execute_result"
    }
   ],
   "source": [
    "f"
   ]
  },
  {
   "cell_type": "code",
   "execution_count": 63,
   "id": "da734472",
   "metadata": {},
   "outputs": [
    {
     "name": "stdout",
     "output_type": "stream",
     "text": [
      "257.98\n"
     ]
    }
   ],
   "source": [
    "fv=0\n",
    "for i in range(6):\n",
    "    fv+= cf[i]*f**n[i]\n",
    "    #print(round(fv,2))\n",
    "\n",
    "print(round(fv,2))"
   ]
  },
  {
   "cell_type": "markdown",
   "id": "f80db175",
   "metadata": {},
   "source": [
    "Present Values\n",
    "\n",
    "Today you agreed on a payout plan that guarantees payouts of\n",
    "\n",
    "50 USD in t1,\n",
    "60 USD in t2,\n",
    "70 USD in t3,\n",
    "80 USD in t4,\n",
    "100 USD in t5. (each cf at period´s end)\n",
    "Calculate the Funding amount / PV that needs to be paid into the plan today (t0). Assume an interest rate of 4% p.a."
   ]
  },
  {
   "cell_type": "code",
   "execution_count": 65,
   "id": "796a04b0",
   "metadata": {},
   "outputs": [],
   "source": [
    "cf = [50, 60, 70, 80, 100]"
   ]
  },
  {
   "cell_type": "code",
   "execution_count": 66,
   "id": "733808b3",
   "metadata": {},
   "outputs": [],
   "source": [
    "f=1.04"
   ]
  },
  {
   "cell_type": "code",
   "execution_count": 69,
   "id": "d15193d5",
   "metadata": {},
   "outputs": [
    {
     "name": "stdout",
     "output_type": "stream",
     "text": [
      "48.08\n",
      "103.55\n",
      "165.78\n",
      "234.16\n",
      "316.36\n",
      "The PV is: 316.36\n"
     ]
    }
   ],
   "source": [
    "pv=0\n",
    "\n",
    "for i in range(5):\n",
    "    pv+=cf[i]/f**(i+1)\n",
    "    print(round(pv,2))\n",
    "\n",
    "print(f'The PV is: {round(pv,2)}')"
   ]
  },
  {
   "cell_type": "markdown",
   "id": "304d8d7d",
   "metadata": {},
   "source": [
    "Calculate an Investment Project´s NPV\n",
    "The XYZ Company evaluates to buy an additional machine that will increase future profits/cashflows by\n",
    "\n",
    "20 USD in t1,\n",
    "\n",
    "50 USD in t2,\n",
    "\n",
    "70 USD in t3,\n",
    "\n",
    "100 USD in t4,\n",
    "\n",
    "50 USD in t5. (each cf at period´s end)\n",
    "\n",
    "The machine costs 200 USD (Investment in to). Calculate the Project´s NPV and evaluate whether XYZ should pursue the project.\n",
    "XYZ´s required rate of return (Cost of Capital) is 6% p.a."
   ]
  },
  {
   "cell_type": "code",
   "execution_count": 71,
   "id": "8e262638",
   "metadata": {},
   "outputs": [
    {
     "name": "stdout",
     "output_type": "stream",
     "text": [
      "The NPV is: 38.71\n"
     ]
    }
   ],
   "source": [
    "npv=-200\n",
    "cf=[20,50,70,100,50]\n",
    "f=1.06\n",
    "\n",
    "for i in range(5):\n",
    "    npv+=cf[i]/f**(i+1)\n",
    "\n",
    "print(f'The NPV is: {round(npv,2)}')\n"
   ]
  },
  {
   "cell_type": "code",
   "execution_count": 73,
   "id": "950f6dcb",
   "metadata": {},
   "outputs": [
    {
     "name": "stdout",
     "output_type": "stream",
     "text": [
      "The NPV is: -11.29\n"
     ]
    }
   ],
   "source": [
    "npv=-250\n",
    "cf=[20,50,70,100,50]\n",
    "f=1.06\n",
    "\n",
    "for i in range(5):\n",
    "    npv+=cf[i]/f**(i+1)\n",
    "\n",
    "print(f'The NPV is: {round(npv,2)}')"
   ]
  },
  {
   "cell_type": "code",
   "execution_count": null,
   "id": "86cf3c0d",
   "metadata": {},
   "outputs": [],
   "source": []
  }
 ],
 "metadata": {
  "kernelspec": {
   "display_name": "Python 3 (ipykernel)",
   "language": "python",
   "name": "python3"
  },
  "language_info": {
   "codemirror_mode": {
    "name": "ipython",
    "version": 3
   },
   "file_extension": ".py",
   "mimetype": "text/x-python",
   "name": "python",
   "nbconvert_exporter": "python",
   "pygments_lexer": "ipython3",
   "version": "3.9.12"
  }
 },
 "nbformat": 4,
 "nbformat_minor": 5
}
