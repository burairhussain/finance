{
 "cells": [
  {
   "cell_type": "markdown",
   "id": "fc7ce1a2",
   "metadata": {},
   "source": [
    "# NESTED LISTS"
   ]
  },
  {
   "cell_type": "code",
   "execution_count": 1,
   "id": "d5ea4ba4",
   "metadata": {},
   "outputs": [],
   "source": [
    "proj1=[-200,120,44,55,24,50]\n",
    "proj2=[-1000,400,245,249,400]\n",
    "proj3=[-120,22,44,23]"
   ]
  },
  {
   "cell_type": "code",
   "execution_count": 2,
   "id": "f32571e4",
   "metadata": {},
   "outputs": [],
   "source": [
    "all_proj=[proj1,proj2,proj3]"
   ]
  },
  {
   "cell_type": "code",
   "execution_count": 3,
   "id": "e7ce8f55",
   "metadata": {},
   "outputs": [
    {
     "data": {
      "text/plain": [
       "[[-200, 120, 44, 55, 24, 50], [-1000, 400, 245, 249, 400], [-120, 22, 44, 23]]"
      ]
     },
     "execution_count": 3,
     "metadata": {},
     "output_type": "execute_result"
    }
   ],
   "source": [
    "all_proj"
   ]
  },
  {
   "cell_type": "code",
   "execution_count": 4,
   "id": "2a0ea59b",
   "metadata": {},
   "outputs": [
    {
     "data": {
      "text/plain": [
       "[-200, 120, 44, 55, 24, 50]"
      ]
     },
     "execution_count": 4,
     "metadata": {},
     "output_type": "execute_result"
    }
   ],
   "source": [
    "all_proj[0]"
   ]
  },
  {
   "cell_type": "code",
   "execution_count": 6,
   "id": "b48ce2a0",
   "metadata": {},
   "outputs": [
    {
     "data": {
      "text/plain": [
       "[-120, 22, 44, 23]"
      ]
     },
     "execution_count": 6,
     "metadata": {},
     "output_type": "execute_result"
    }
   ],
   "source": [
    "all_proj[-1]"
   ]
  },
  {
   "cell_type": "code",
   "execution_count": 7,
   "id": "4d414d5e",
   "metadata": {},
   "outputs": [
    {
     "data": {
      "text/plain": [
       "-200"
      ]
     },
     "execution_count": 7,
     "metadata": {},
     "output_type": "execute_result"
    }
   ],
   "source": [
    "all_proj[0][0]"
   ]
  },
  {
   "cell_type": "code",
   "execution_count": 8,
   "id": "036d349b",
   "metadata": {},
   "outputs": [
    {
     "data": {
      "text/plain": [
       "[[-200, 120, 44, 55, 24, 50], [-1000, 400, 245, 249, 400]]"
      ]
     },
     "execution_count": 8,
     "metadata": {},
     "output_type": "execute_result"
    }
   ],
   "source": [
    "all_proj[:2]"
   ]
  },
  {
   "cell_type": "code",
   "execution_count": 9,
   "id": "3ea5bcd6",
   "metadata": {},
   "outputs": [
    {
     "data": {
      "text/plain": [
       "[[-1000, 400, 245, 249, 400], [-120, 22, 44, 23]]"
      ]
     },
     "execution_count": 9,
     "metadata": {},
     "output_type": "execute_result"
    }
   ],
   "source": [
    "all_proj[1:]"
   ]
  },
  {
   "cell_type": "code",
   "execution_count": 10,
   "id": "b54f3e5e",
   "metadata": {},
   "outputs": [
    {
     "data": {
      "text/plain": [
       "[[-200, 120, 44, 55, 24, 50]]"
      ]
     },
     "execution_count": 10,
     "metadata": {},
     "output_type": "execute_result"
    }
   ],
   "source": [
    "all_proj[:-2]"
   ]
  },
  {
   "cell_type": "code",
   "execution_count": 11,
   "id": "6d7021d3",
   "metadata": {},
   "outputs": [
    {
     "data": {
      "text/plain": [
       "[-200, 120, 44, 55, 24, 50]"
      ]
     },
     "execution_count": 11,
     "metadata": {},
     "output_type": "execute_result"
    }
   ],
   "source": [
    "all_proj[:][0]"
   ]
  },
  {
   "cell_type": "markdown",
   "id": "87d4bdc7",
   "metadata": {},
   "source": [
    "initial investment of all projects:"
   ]
  },
  {
   "cell_type": "code",
   "execution_count": 12,
   "id": "f4d601c2",
   "metadata": {},
   "outputs": [],
   "source": [
    "initial=[]\n",
    "for i in all_proj:\n",
    "    initial.append(i[0])"
   ]
  },
  {
   "cell_type": "code",
   "execution_count": 13,
   "id": "eb38035d",
   "metadata": {},
   "outputs": [
    {
     "data": {
      "text/plain": [
       "[-200, -1000, -120]"
      ]
     },
     "execution_count": 13,
     "metadata": {},
     "output_type": "execute_result"
    }
   ],
   "source": [
    "initial"
   ]
  },
  {
   "cell_type": "markdown",
   "id": "ccec65c9",
   "metadata": {},
   "source": [
    "# 2d numpy array"
   ]
  },
  {
   "cell_type": "code",
   "execution_count": 14,
   "id": "1271b28a",
   "metadata": {},
   "outputs": [],
   "source": [
    "import numpy as np"
   ]
  },
  {
   "cell_type": "code",
   "execution_count": 37,
   "id": "349d3950",
   "metadata": {},
   "outputs": [],
   "source": [
    "cf1=[-200,50,44,42,14,63]\n",
    "cf2=[-120,24,51,5,12,35]\n",
    "cf3=[-1000,245,241,300,45,58]\n",
    "nl=[cf1,cf2,cf3]"
   ]
  },
  {
   "cell_type": "code",
   "execution_count": 44,
   "id": "6f8dc392",
   "metadata": {},
   "outputs": [
    {
     "data": {
      "text/plain": [
       "[[-200, 50, 44, 42, 14, 63],\n",
       " [-120, 24, 51, 5, 12, 35],\n",
       " [-1000, 245, 241, 300, 45, 58]]"
      ]
     },
     "execution_count": 44,
     "metadata": {},
     "output_type": "execute_result"
    }
   ],
   "source": [
    "nl"
   ]
  },
  {
   "cell_type": "code",
   "execution_count": 45,
   "id": "b421a7fc",
   "metadata": {},
   "outputs": [],
   "source": [
    "cfs=np.array(nl)"
   ]
  },
  {
   "cell_type": "code",
   "execution_count": 46,
   "id": "5d409676",
   "metadata": {},
   "outputs": [
    {
     "data": {
      "text/plain": [
       "array([[ -200,    50,    44,    42,    14,    63],\n",
       "       [ -120,    24,    51,     5,    12,    35],\n",
       "       [-1000,   245,   241,   300,    45,    58]])"
      ]
     },
     "execution_count": 46,
     "metadata": {},
     "output_type": "execute_result"
    }
   ],
   "source": [
    "cfs"
   ]
  },
  {
   "cell_type": "code",
   "execution_count": 47,
   "id": "4c7cacbd",
   "metadata": {},
   "outputs": [
    {
     "data": {
      "text/plain": [
       "numpy.ndarray"
      ]
     },
     "execution_count": 47,
     "metadata": {},
     "output_type": "execute_result"
    }
   ],
   "source": [
    "type(cfs)"
   ]
  },
  {
   "cell_type": "code",
   "execution_count": 48,
   "id": "e7d335c5",
   "metadata": {},
   "outputs": [
    {
     "data": {
      "text/plain": [
       "(3, 6)"
      ]
     },
     "execution_count": 48,
     "metadata": {},
     "output_type": "execute_result"
    }
   ],
   "source": [
    "cfs.shape"
   ]
  },
  {
   "cell_type": "code",
   "execution_count": 49,
   "id": "5197d6ac",
   "metadata": {},
   "outputs": [
    {
     "data": {
      "text/plain": [
       "array([-200,   50,   44,   42,   14,   63])"
      ]
     },
     "execution_count": 49,
     "metadata": {},
     "output_type": "execute_result"
    }
   ],
   "source": [
    "cfs[0]"
   ]
  },
  {
   "cell_type": "code",
   "execution_count": 50,
   "id": "86f206ac",
   "metadata": {},
   "outputs": [
    {
     "data": {
      "text/plain": [
       "array([-1000,   245,   241,   300,    45,    58])"
      ]
     },
     "execution_count": 50,
     "metadata": {},
     "output_type": "execute_result"
    }
   ],
   "source": [
    "cfs[-1]"
   ]
  },
  {
   "cell_type": "code",
   "execution_count": 51,
   "id": "5abe9f57",
   "metadata": {},
   "outputs": [
    {
     "data": {
      "text/plain": [
       "array([[ -120,    24,    51,     5,    12,    35],\n",
       "       [-1000,   245,   241,   300,    45,    58]])"
      ]
     },
     "execution_count": 51,
     "metadata": {},
     "output_type": "execute_result"
    }
   ],
   "source": [
    "cfs[1:]"
   ]
  },
  {
   "cell_type": "code",
   "execution_count": 52,
   "id": "59331fca",
   "metadata": {},
   "outputs": [
    {
     "data": {
      "text/plain": [
       "array([[-200,   50,   44,   42,   14,   63],\n",
       "       [-120,   24,   51,    5,   12,   35]])"
      ]
     },
     "execution_count": 52,
     "metadata": {},
     "output_type": "execute_result"
    }
   ],
   "source": [
    "cfs[:-1]"
   ]
  },
  {
   "cell_type": "code",
   "execution_count": 53,
   "id": "9915ea40",
   "metadata": {},
   "outputs": [
    {
     "data": {
      "text/plain": [
       "-200"
      ]
     },
     "execution_count": 53,
     "metadata": {},
     "output_type": "execute_result"
    }
   ],
   "source": [
    "cfs[0][0]"
   ]
  },
  {
   "cell_type": "code",
   "execution_count": 54,
   "id": "fc4aeb82",
   "metadata": {},
   "outputs": [
    {
     "data": {
      "text/plain": [
       "-200"
      ]
     },
     "execution_count": 54,
     "metadata": {},
     "output_type": "execute_result"
    }
   ],
   "source": [
    "cfs[0,0]"
   ]
  },
  {
   "cell_type": "code",
   "execution_count": 55,
   "id": "37c6ce9d",
   "metadata": {},
   "outputs": [
    {
     "data": {
      "text/plain": [
       "45"
      ]
     },
     "execution_count": 55,
     "metadata": {},
     "output_type": "execute_result"
    }
   ],
   "source": [
    "cfs[2,4]"
   ]
  },
  {
   "cell_type": "code",
   "execution_count": 56,
   "id": "22a4aa95",
   "metadata": {},
   "outputs": [
    {
     "data": {
      "text/plain": [
       "array([-1000,   245,   241,   300,    45,    58])"
      ]
     },
     "execution_count": 56,
     "metadata": {},
     "output_type": "execute_result"
    }
   ],
   "source": [
    "cfs[2]"
   ]
  },
  {
   "cell_type": "code",
   "execution_count": 58,
   "id": "a1f95396",
   "metadata": {},
   "outputs": [
    {
     "data": {
      "text/plain": [
       "array([300,  45,  58])"
      ]
     },
     "execution_count": 58,
     "metadata": {},
     "output_type": "execute_result"
    }
   ],
   "source": [
    "cfs[2,3:6]"
   ]
  },
  {
   "cell_type": "code",
   "execution_count": 60,
   "id": "2ccc22af",
   "metadata": {},
   "outputs": [
    {
     "data": {
      "text/plain": [
       "array([[ -200,    50,    44,    42,    14,    63],\n",
       "       [ -120,    24,    51,     5,    12,    35],\n",
       "       [-1000,   245,   241,   300,    45,    58]])"
      ]
     },
     "execution_count": 60,
     "metadata": {},
     "output_type": "execute_result"
    }
   ],
   "source": [
    "cfs"
   ]
  },
  {
   "cell_type": "code",
   "execution_count": 59,
   "id": "b4f92a8b",
   "metadata": {},
   "outputs": [
    {
     "data": {
      "text/plain": [
       "array([ -200,  -120, -1000])"
      ]
     },
     "execution_count": 59,
     "metadata": {},
     "output_type": "execute_result"
    }
   ],
   "source": [
    "cfs[:,0]"
   ]
  },
  {
   "cell_type": "code",
   "execution_count": 61,
   "id": "8c1c3b77",
   "metadata": {},
   "outputs": [
    {
     "data": {
      "text/plain": [
       "array([63, 35, 58])"
      ]
     },
     "execution_count": 61,
     "metadata": {},
     "output_type": "execute_result"
    }
   ],
   "source": [
    "cfs[:,5]"
   ]
  },
  {
   "cell_type": "code",
   "execution_count": 62,
   "id": "a15a10e0",
   "metadata": {},
   "outputs": [
    {
     "data": {
      "text/plain": [
       "array([63, 35, 58])"
      ]
     },
     "execution_count": 62,
     "metadata": {},
     "output_type": "execute_result"
    }
   ],
   "source": [
    "cfs[:,-1]"
   ]
  },
  {
   "cell_type": "code",
   "execution_count": 63,
   "id": "c84a4c98",
   "metadata": {},
   "outputs": [
    {
     "data": {
      "text/plain": [
       "array([[ -200,    50],\n",
       "       [ -120,    24],\n",
       "       [-1000,   245]])"
      ]
     },
     "execution_count": 63,
     "metadata": {},
     "output_type": "execute_result"
    }
   ],
   "source": [
    "cfs[:,:2]"
   ]
  },
  {
   "cell_type": "code",
   "execution_count": 68,
   "id": "8ff156d1",
   "metadata": {},
   "outputs": [
    {
     "data": {
      "text/plain": [
       "array([[14, 63],\n",
       "       [12, 35],\n",
       "       [45, 58]])"
      ]
     },
     "execution_count": 68,
     "metadata": {},
     "output_type": "execute_result"
    }
   ],
   "source": [
    "cfs[:,4:]"
   ]
  },
  {
   "cell_type": "code",
   "execution_count": 69,
   "id": "f13a9e20",
   "metadata": {},
   "outputs": [
    {
     "data": {
      "text/plain": [
       "array([245, 241, 300,  45,  58])"
      ]
     },
     "execution_count": 69,
     "metadata": {},
     "output_type": "execute_result"
    }
   ],
   "source": [
    "cfs[2,1:]"
   ]
  },
  {
   "cell_type": "code",
   "execution_count": 70,
   "id": "c65638a2",
   "metadata": {},
   "outputs": [
    {
     "data": {
      "text/plain": [
       "array([[ -120,    24],\n",
       "       [-1000,   245]])"
      ]
     },
     "execution_count": 70,
     "metadata": {},
     "output_type": "execute_result"
    }
   ],
   "source": [
    "cfs[-2:,:2]"
   ]
  },
  {
   "cell_type": "markdown",
   "id": "aef53295",
   "metadata": {},
   "source": [
    "# UNEVEN CASHFLOW TERMS:"
   ]
  },
  {
   "cell_type": "code",
   "execution_count": 73,
   "id": "11e5f964",
   "metadata": {},
   "outputs": [],
   "source": [
    "proj1=[-200,45,55,22,30,32]\n",
    "proj2=[-1000,350,230,260,276]\n",
    "proj3=[-120,23,24,53,51,64,8,11]"
   ]
  },
  {
   "cell_type": "code",
   "execution_count": 74,
   "id": "dd55c39a",
   "metadata": {},
   "outputs": [
    {
     "name": "stderr",
     "output_type": "stream",
     "text": [
      "C:\\Users\\aheed\\AppData\\Local\\Temp\\ipykernel_4436\\927387246.py:1: VisibleDeprecationWarning: Creating an ndarray from ragged nested sequences (which is a list-or-tuple of lists-or-tuples-or ndarrays with different lengths or shapes) is deprecated. If you meant to do this, you must specify 'dtype=object' when creating the ndarray.\n",
      "  array=np.array([proj1,proj2,proj3])\n"
     ]
    }
   ],
   "source": [
    "array=np.array([proj1,proj2,proj3])"
   ]
  },
  {
   "cell_type": "code",
   "execution_count": 75,
   "id": "01175436",
   "metadata": {},
   "outputs": [
    {
     "data": {
      "text/plain": [
       "array([list([-200, 45, 55, 22, 30, 32]),\n",
       "       list([-1000, 350, 230, 260, 276]),\n",
       "       list([-120, 23, 24, 53, 51, 64, 8, 11])], dtype=object)"
      ]
     },
     "execution_count": 75,
     "metadata": {},
     "output_type": "execute_result"
    }
   ],
   "source": [
    "array"
   ]
  },
  {
   "cell_type": "code",
   "execution_count": 76,
   "id": "6c106496",
   "metadata": {},
   "outputs": [
    {
     "data": {
      "text/plain": [
       "(3,)"
      ]
     },
     "execution_count": 76,
     "metadata": {},
     "output_type": "execute_result"
    }
   ],
   "source": [
    "array.shape"
   ]
  },
  {
   "cell_type": "code",
   "execution_count": 77,
   "id": "0e4b1ccc",
   "metadata": {},
   "outputs": [],
   "source": [
    "#add zero cashflows to projects w less terms\n",
    "proj1=[-200,45,55,22,30,32,0,0]\n",
    "proj2=[-1000,350,230,260,276,0,0,0]\n",
    "proj3=[-120,23,24,53,51,64,8,11]"
   ]
  },
  {
   "cell_type": "code",
   "execution_count": 127,
   "id": "c9d18574",
   "metadata": {},
   "outputs": [],
   "source": [
    "proj=np.array([proj1,proj2,proj3])"
   ]
  },
  {
   "cell_type": "code",
   "execution_count": 130,
   "id": "9d72b7cb",
   "metadata": {},
   "outputs": [
    {
     "data": {
      "text/plain": [
       "array([[ -680,   340,   230,   250,   214,     0,     0,     0],\n",
       "       [-1000,   350,   230,   260,   276,     0,     0,     0],\n",
       "       [ -120,    23,    24,    53,    51,    64,     8,    11]])"
      ]
     },
     "execution_count": 130,
     "metadata": {},
     "output_type": "execute_result"
    }
   ],
   "source": [
    "proj"
   ]
  },
  {
   "cell_type": "code",
   "execution_count": 129,
   "id": "821b87ca",
   "metadata": {},
   "outputs": [],
   "source": [
    "proj1=np.array([-680,340,230,250,214])"
   ]
  },
  {
   "cell_type": "code",
   "execution_count": 81,
   "id": "bf0ef0a8",
   "metadata": {},
   "outputs": [
    {
     "data": {
      "text/plain": [
       "5"
      ]
     },
     "execution_count": 81,
     "metadata": {},
     "output_type": "execute_result"
    }
   ],
   "source": [
    "proj1.size"
   ]
  },
  {
   "cell_type": "code",
   "execution_count": 100,
   "id": "c73a3b46",
   "metadata": {},
   "outputs": [],
   "source": [
    "proj1.resize(8)"
   ]
  },
  {
   "cell_type": "code",
   "execution_count": 101,
   "id": "d0000bd6",
   "metadata": {},
   "outputs": [
    {
     "data": {
      "text/plain": [
       "array([-680,  340,  230,  250,  214,    0,    0,    0])"
      ]
     },
     "execution_count": 101,
     "metadata": {},
     "output_type": "execute_result"
    }
   ],
   "source": [
    "proj1"
   ]
  },
  {
   "cell_type": "code",
   "execution_count": 104,
   "id": "4e6a91cb",
   "metadata": {},
   "outputs": [
    {
     "data": {
      "text/plain": [
       "array([[ -680,   340,   230,   250,   214,     0,     0,     0],\n",
       "       [-1000,   350,   230,   260,   276,     0,     0,     0],\n",
       "       [ -120,    23,    24,    53,    51,    64,     8,    11]])"
      ]
     },
     "execution_count": 104,
     "metadata": {},
     "output_type": "execute_result"
    }
   ],
   "source": [
    "proj"
   ]
  },
  {
   "cell_type": "code",
   "execution_count": 120,
   "id": "d6782b05",
   "metadata": {},
   "outputs": [
    {
     "data": {
      "text/plain": [
       "array([-680,  250,    0])"
      ]
     },
     "execution_count": 120,
     "metadata": {},
     "output_type": "execute_result"
    }
   ],
   "source": [
    "proj1[[0,3,-1]]"
   ]
  },
  {
   "cell_type": "code",
   "execution_count": 106,
   "id": "117b189a",
   "metadata": {},
   "outputs": [
    {
     "data": {
      "text/plain": [
       "array([-680, -120])"
      ]
     },
     "execution_count": 106,
     "metadata": {},
     "output_type": "execute_result"
    }
   ],
   "source": [
    "proj[[0,-1],0]"
   ]
  },
  {
   "cell_type": "code",
   "execution_count": 108,
   "id": "85eda0b7",
   "metadata": {},
   "outputs": [
    {
     "data": {
      "text/plain": [
       "array([-680,  230,    0])"
      ]
     },
     "execution_count": 108,
     "metadata": {},
     "output_type": "execute_result"
    }
   ],
   "source": [
    "proj[0,[0,2,-1]]"
   ]
  },
  {
   "cell_type": "code",
   "execution_count": 109,
   "id": "920c805c",
   "metadata": {},
   "outputs": [
    {
     "data": {
      "text/plain": [
       "array([230,  51])"
      ]
     },
     "execution_count": 109,
     "metadata": {},
     "output_type": "execute_result"
    }
   ],
   "source": [
    "proj[[1,2],[2,4]]"
   ]
  },
  {
   "cell_type": "code",
   "execution_count": 118,
   "id": "92a13364",
   "metadata": {},
   "outputs": [
    {
     "data": {
      "text/plain": [
       "[-1000, 350, 230, 260, 276, 0, 0, 0]"
      ]
     },
     "execution_count": 118,
     "metadata": {},
     "output_type": "execute_result"
    }
   ],
   "source": [
    "proj2"
   ]
  },
  {
   "cell_type": "code",
   "execution_count": 124,
   "id": "c0809e69",
   "metadata": {},
   "outputs": [],
   "source": [
    "proj2=np.array(proj2)"
   ]
  },
  {
   "cell_type": "code",
   "execution_count": 125,
   "id": "50dd3343",
   "metadata": {},
   "outputs": [
    {
     "data": {
      "text/plain": [
       "array([-1000,   260,     0])"
      ]
     },
     "execution_count": 125,
     "metadata": {},
     "output_type": "execute_result"
    }
   ],
   "source": [
    "proj2[[0,3,-1]]"
   ]
  },
  {
   "cell_type": "code",
   "execution_count": 126,
   "id": "9430f374",
   "metadata": {},
   "outputs": [],
   "source": [
    "proj3=np.array(proj3)"
   ]
  },
  {
   "cell_type": "code",
   "execution_count": 136,
   "id": "7291e99f",
   "metadata": {},
   "outputs": [
    {
     "data": {
      "text/plain": [
       "array([-680,  340,  230,  250,  214,    0,    0,    0])"
      ]
     },
     "execution_count": 136,
     "metadata": {},
     "output_type": "execute_result"
    }
   ],
   "source": [
    "proj[0]"
   ]
  },
  {
   "cell_type": "code",
   "execution_count": 144,
   "id": "fb676d56",
   "metadata": {},
   "outputs": [
    {
     "data": {
      "text/plain": [
       "array([ 0, 11])"
      ]
     },
     "execution_count": 144,
     "metadata": {},
     "output_type": "execute_result"
    }
   ],
   "source": [
    "proj[[0,2],[5,7]]"
   ]
  },
  {
   "cell_type": "markdown",
   "id": "cfd9c9ad",
   "metadata": {},
   "source": [
    "# CHANGING ELEMENTS IN ARRAY"
   ]
  },
  {
   "cell_type": "code",
   "execution_count": 145,
   "id": "2ef725d9",
   "metadata": {},
   "outputs": [],
   "source": [
    "proj[:,0]=-200"
   ]
  },
  {
   "cell_type": "code",
   "execution_count": 146,
   "id": "0d8da62a",
   "metadata": {},
   "outputs": [
    {
     "data": {
      "text/plain": [
       "array([[-200,  340,  230,  250,  214,    0,    0,    0],\n",
       "       [-200,  350,  230,  260,  276,    0,    0,    0],\n",
       "       [-200,   23,   24,   53,   51,   64,    8,   11]])"
      ]
     },
     "execution_count": 146,
     "metadata": {},
     "output_type": "execute_result"
    }
   ],
   "source": [
    "proj"
   ]
  },
  {
   "cell_type": "code",
   "execution_count": 147,
   "id": "7e56f90f",
   "metadata": {},
   "outputs": [],
   "source": [
    "proj[:,0]=proj[:,0]-10"
   ]
  },
  {
   "cell_type": "code",
   "execution_count": 148,
   "id": "c9f66236",
   "metadata": {},
   "outputs": [
    {
     "data": {
      "text/plain": [
       "array([[-210,  340,  230,  250,  214,    0,    0,    0],\n",
       "       [-210,  350,  230,  260,  276,    0,    0,    0],\n",
       "       [-210,   23,   24,   53,   51,   64,    8,   11]])"
      ]
     },
     "execution_count": 148,
     "metadata": {},
     "output_type": "execute_result"
    }
   ],
   "source": [
    "proj"
   ]
  },
  {
   "cell_type": "code",
   "execution_count": 149,
   "id": "09dcdcfd",
   "metadata": {},
   "outputs": [],
   "source": [
    "proj[:,0]=[-220,-120,-150]"
   ]
  },
  {
   "cell_type": "code",
   "execution_count": 150,
   "id": "ca22c51a",
   "metadata": {},
   "outputs": [
    {
     "data": {
      "text/plain": [
       "array([[-220,  340,  230,  250,  214,    0,    0,    0],\n",
       "       [-120,  350,  230,  260,  276,    0,    0,    0],\n",
       "       [-150,   23,   24,   53,   51,   64,    8,   11]])"
      ]
     },
     "execution_count": 150,
     "metadata": {},
     "output_type": "execute_result"
    }
   ],
   "source": [
    "proj"
   ]
  },
  {
   "cell_type": "code",
   "execution_count": 151,
   "id": "2170e169",
   "metadata": {},
   "outputs": [
    {
     "data": {
      "text/plain": [
       "array([-220, -120, -150])"
      ]
     },
     "execution_count": 151,
     "metadata": {},
     "output_type": "execute_result"
    }
   ],
   "source": [
    "initial=proj[:,0]\n",
    "initial"
   ]
  },
  {
   "cell_type": "code",
   "execution_count": 152,
   "id": "f06a133d",
   "metadata": {},
   "outputs": [],
   "source": [
    "initial[0]=-80"
   ]
  },
  {
   "cell_type": "code",
   "execution_count": 153,
   "id": "6cee21a2",
   "metadata": {},
   "outputs": [
    {
     "data": {
      "text/plain": [
       "array([[ -80,  340,  230,  250,  214,    0,    0,    0],\n",
       "       [-120,  350,  230,  260,  276,    0,    0,    0],\n",
       "       [-150,   23,   24,   53,   51,   64,    8,   11]])"
      ]
     },
     "execution_count": 153,
     "metadata": {},
     "output_type": "execute_result"
    }
   ],
   "source": [
    "proj"
   ]
  },
  {
   "cell_type": "code",
   "execution_count": 154,
   "id": "397b7d54",
   "metadata": {},
   "outputs": [
    {
     "data": {
      "text/plain": [
       "array([ 0,  0, 11])"
      ]
     },
     "execution_count": 154,
     "metadata": {},
     "output_type": "execute_result"
    }
   ],
   "source": [
    "proj5=proj[:,-1].copy()\n",
    "proj5"
   ]
  },
  {
   "cell_type": "code",
   "execution_count": 157,
   "id": "1129fd9d",
   "metadata": {},
   "outputs": [],
   "source": [
    "proj5[0]=45"
   ]
  },
  {
   "cell_type": "code",
   "execution_count": 158,
   "id": "60e8dc74",
   "metadata": {},
   "outputs": [],
   "source": [
    "proj5[1]=-2"
   ]
  },
  {
   "cell_type": "code",
   "execution_count": 159,
   "id": "4ce0a6d9",
   "metadata": {},
   "outputs": [
    {
     "data": {
      "text/plain": [
       "array([45, -2, 11])"
      ]
     },
     "execution_count": 159,
     "metadata": {},
     "output_type": "execute_result"
    }
   ],
   "source": [
    "proj5"
   ]
  },
  {
   "cell_type": "code",
   "execution_count": 160,
   "id": "4dc195ae",
   "metadata": {},
   "outputs": [
    {
     "data": {
      "text/plain": [
       "array([[ -80,  340,  230,  250,  214,    0,    0,    0],\n",
       "       [-120,  350,  230,  260,  276,    0,    0,    0],\n",
       "       [-150,   23,   24,   53,   51,   64,    8,   11]])"
      ]
     },
     "execution_count": 160,
     "metadata": {},
     "output_type": "execute_result"
    }
   ],
   "source": [
    "proj"
   ]
  },
  {
   "cell_type": "markdown",
   "id": "05b0d140",
   "metadata": {},
   "source": [
    "# ROW COLUMN WISE OPERATIONS"
   ]
  },
  {
   "cell_type": "markdown",
   "id": "4814ac80",
   "metadata": {},
   "source": [
    "axis=0 for columns\n",
    "\n",
    "axis=1 for rows"
   ]
  },
  {
   "cell_type": "code",
   "execution_count": 161,
   "id": "764a69d1",
   "metadata": {},
   "outputs": [
    {
     "data": {
      "text/plain": [
       "array([[ -80,  340,  230,  250,  214,    0,    0,    0],\n",
       "       [-120,  350,  230,  260,  276,    0,    0,    0],\n",
       "       [-150,   23,   24,   53,   51,   64,    8,   11]])"
      ]
     },
     "execution_count": 161,
     "metadata": {},
     "output_type": "execute_result"
    }
   ],
   "source": [
    "proj"
   ]
  },
  {
   "cell_type": "code",
   "execution_count": 197,
   "id": "933b6f76",
   "metadata": {},
   "outputs": [
    {
     "data": {
      "text/plain": [
       "array([-350,  713,  484,  563,  541,   64,    8,   11])"
      ]
     },
     "execution_count": 197,
     "metadata": {},
     "output_type": "execute_result"
    }
   ],
   "source": [
    "np.sum(proj,axis=0) #0 for column axis"
   ]
  },
  {
   "cell_type": "code",
   "execution_count": 167,
   "id": "62d29698",
   "metadata": {},
   "outputs": [
    {
     "data": {
      "text/plain": [
       "array([954, 996,  84])"
      ]
     },
     "execution_count": 167,
     "metadata": {},
     "output_type": "execute_result"
    }
   ],
   "source": [
    "np.sum(proj,axis=1) #for row axis=1"
   ]
  },
  {
   "cell_type": "code",
   "execution_count": 168,
   "id": "ac20cde8",
   "metadata": {},
   "outputs": [
    {
     "data": {
      "text/plain": [
       "array([[ -80,  260,  490,  740,  954,  954,  954,  954],\n",
       "       [-120,  230,  460,  720,  996,  996,  996,  996],\n",
       "       [-150, -127, -103,  -50,    1,   65,   73,   84]], dtype=int32)"
      ]
     },
     "execution_count": 168,
     "metadata": {},
     "output_type": "execute_result"
    }
   ],
   "source": [
    "np.cumsum(proj,axis=1)"
   ]
  },
  {
   "cell_type": "code",
   "execution_count": 169,
   "id": "367997ac",
   "metadata": {},
   "outputs": [
    {
     "data": {
      "text/plain": [
       "array([119.25, 124.5 ,  10.5 ])"
      ]
     },
     "execution_count": 169,
     "metadata": {},
     "output_type": "execute_result"
    }
   ],
   "source": [
    "np.mean(proj,axis=1)"
   ]
  },
  {
   "cell_type": "code",
   "execution_count": 170,
   "id": "8d06a712",
   "metadata": {},
   "outputs": [
    {
     "data": {
      "text/plain": [
       "array([-116.66666667,  237.66666667,  161.33333333,  187.66666667,\n",
       "        180.33333333,   21.33333333,    2.66666667,    3.66666667])"
      ]
     },
     "execution_count": 170,
     "metadata": {},
     "output_type": "execute_result"
    }
   ],
   "source": [
    "np.mean(proj,axis=0)"
   ]
  },
  {
   "cell_type": "code",
   "execution_count": 171,
   "id": "a7b60310",
   "metadata": {},
   "outputs": [
    {
     "data": {
      "text/plain": [
       "84.75"
      ]
     },
     "execution_count": 171,
     "metadata": {},
     "output_type": "execute_result"
    }
   ],
   "source": [
    "np.mean(proj)"
   ]
  },
  {
   "cell_type": "markdown",
   "id": "61240750",
   "metadata": {},
   "source": [
    "# RESHAPING AND TRANSPOSING"
   ]
  },
  {
   "cell_type": "code",
   "execution_count": 172,
   "id": "adca0771",
   "metadata": {},
   "outputs": [],
   "source": [
    "project_1 = [-200, 20, 50, 70, 100, 50, 0, 0]\n",
    "project_2 = [-50, 10, 25, 25, 50, 0, 0, 0]\n",
    "project_3 = [-1000, 200, 200, 300, 500, 500, 750, 250]"
   ]
  },
  {
   "cell_type": "code",
   "execution_count": 173,
   "id": "51ec4018",
   "metadata": {},
   "outputs": [],
   "source": [
    "projects = np.array([project_1, project_2, project_3])"
   ]
  },
  {
   "cell_type": "code",
   "execution_count": 174,
   "id": "5d578cb0",
   "metadata": {},
   "outputs": [
    {
     "data": {
      "text/plain": [
       "array([[ -200,    20,    50,    70,   100,    50,     0,     0],\n",
       "       [  -50,    10,    25,    25,    50,     0,     0,     0],\n",
       "       [-1000,   200,   200,   300,   500,   500,   750,   250]])"
      ]
     },
     "execution_count": 174,
     "metadata": {},
     "output_type": "execute_result"
    }
   ],
   "source": [
    "projects"
   ]
  },
  {
   "cell_type": "code",
   "execution_count": 175,
   "id": "974e1baa",
   "metadata": {},
   "outputs": [
    {
     "data": {
      "text/plain": [
       "(3, 8)"
      ]
     },
     "execution_count": 175,
     "metadata": {},
     "output_type": "execute_result"
    }
   ],
   "source": [
    "projects.shape"
   ]
  },
  {
   "cell_type": "code",
   "execution_count": 176,
   "id": "45710709",
   "metadata": {},
   "outputs": [
    {
     "data": {
      "text/plain": [
       "array([[ -200,    20,    50],\n",
       "       [   70,   100,    50],\n",
       "       [    0,     0,   -50],\n",
       "       [   10,    25,    25],\n",
       "       [   50,     0,     0],\n",
       "       [    0, -1000,   200],\n",
       "       [  200,   300,   500],\n",
       "       [  500,   750,   250]])"
      ]
     },
     "execution_count": 176,
     "metadata": {},
     "output_type": "execute_result"
    }
   ],
   "source": [
    "projects.reshape(8,3)"
   ]
  },
  {
   "cell_type": "code",
   "execution_count": 177,
   "id": "76ba2d70",
   "metadata": {},
   "outputs": [
    {
     "data": {
      "text/plain": [
       "array([[ -200,    20,    50,    70,   100,    50,     0,     0],\n",
       "       [  -50,    10,    25,    25,    50,     0,     0,     0],\n",
       "       [-1000,   200,   200,   300,   500,   500,   750,   250]])"
      ]
     },
     "execution_count": 177,
     "metadata": {},
     "output_type": "execute_result"
    }
   ],
   "source": [
    "projects"
   ]
  },
  {
   "cell_type": "code",
   "execution_count": 179,
   "id": "b0894d89",
   "metadata": {},
   "outputs": [
    {
     "data": {
      "text/plain": [
       "array([[ -200,   200,     0],\n",
       "       [  -50,    70,   500],\n",
       "       [-1000,    25,     0],\n",
       "       [   20,   300,     0],\n",
       "       [   10,   100,   750],\n",
       "       [  200,    50,     0],\n",
       "       [   50,   500,     0],\n",
       "       [   25,    50,   250]])"
      ]
     },
     "execution_count": 179,
     "metadata": {},
     "output_type": "execute_result"
    }
   ],
   "source": [
    "projects.reshape((8,3),order='f')"
   ]
  },
  {
   "cell_type": "markdown",
   "id": "cf98a278",
   "metadata": {},
   "source": [
    "transposing: moving project from row to column"
   ]
  },
  {
   "cell_type": "code",
   "execution_count": 181,
   "id": "36e8fb63",
   "metadata": {},
   "outputs": [
    {
     "data": {
      "text/plain": [
       "array([[ -200,   -50, -1000],\n",
       "       [   20,    10,   200],\n",
       "       [   50,    25,   200],\n",
       "       [   70,    25,   300],\n",
       "       [  100,    50,   500],\n",
       "       [   50,     0,   500],\n",
       "       [    0,     0,   750],\n",
       "       [    0,     0,   250]])"
      ]
     },
     "execution_count": 181,
     "metadata": {},
     "output_type": "execute_result"
    }
   ],
   "source": [
    "projects.transpose()"
   ]
  },
  {
   "cell_type": "code",
   "execution_count": 182,
   "id": "456cdf6f",
   "metadata": {},
   "outputs": [
    {
     "data": {
      "text/plain": [
       "array([[ -200,   -50, -1000],\n",
       "       [   20,    10,   200],\n",
       "       [   50,    25,   200],\n",
       "       [   70,    25,   300],\n",
       "       [  100,    50,   500],\n",
       "       [   50,     0,   500],\n",
       "       [    0,     0,   750],\n",
       "       [    0,     0,   250]])"
      ]
     },
     "execution_count": 182,
     "metadata": {},
     "output_type": "execute_result"
    }
   ],
   "source": [
    "projects.T"
   ]
  },
  {
   "cell_type": "markdown",
   "id": "4a054307",
   "metadata": {},
   "source": [
    "# CREATE 2D ARRAY FROM SCRATCH"
   ]
  },
  {
   "cell_type": "markdown",
   "id": "4fccb6a4",
   "metadata": {},
   "source": [
    "CREATE EMPTY ARRAY WHEN WE DONT KNOW THE ELEMENTS BUT KNOW THE SIZE, FOR EG WE HAVE 3 PROJECTS W 8 TIMESPANS"
   ]
  },
  {
   "cell_type": "code",
   "execution_count": 184,
   "id": "09709f04",
   "metadata": {},
   "outputs": [],
   "source": [
    "np.set_printoptions(precision=2, suppress= True)"
   ]
  },
  {
   "cell_type": "code",
   "execution_count": 185,
   "id": "dc16bdcc",
   "metadata": {},
   "outputs": [
    {
     "data": {
      "text/plain": [
       "array([[0., 0., 0., 0., 0., 0., 0., 0.],\n",
       "       [0., 0., 0., 0., 0., 0., 0., 0.],\n",
       "       [0., 0., 0., 0., 0., 0., 0., 0.]])"
      ]
     },
     "execution_count": 185,
     "metadata": {},
     "output_type": "execute_result"
    }
   ],
   "source": [
    "np.empty((3,8))"
   ]
  },
  {
   "cell_type": "code",
   "execution_count": 186,
   "id": "170d1a04",
   "metadata": {},
   "outputs": [
    {
     "data": {
      "text/plain": [
       "array([[1., 1., 1., 1., 1., 1., 1., 1.],\n",
       "       [1., 1., 1., 1., 1., 1., 1., 1.],\n",
       "       [1., 1., 1., 1., 1., 1., 1., 1.]])"
      ]
     },
     "execution_count": 186,
     "metadata": {},
     "output_type": "execute_result"
    }
   ],
   "source": [
    "np.ones((3,8))"
   ]
  },
  {
   "cell_type": "code",
   "execution_count": 187,
   "id": "2a4c00c3",
   "metadata": {},
   "outputs": [
    {
     "data": {
      "text/plain": [
       "array([[0., 0., 0., 0., 0., 0., 0., 0.],\n",
       "       [0., 0., 0., 0., 0., 0., 0., 0.],\n",
       "       [0., 0., 0., 0., 0., 0., 0., 0.]])"
      ]
     },
     "execution_count": 187,
     "metadata": {},
     "output_type": "execute_result"
    }
   ],
   "source": [
    "np.zeros((3,8))"
   ]
  },
  {
   "cell_type": "code",
   "execution_count": 193,
   "id": "40430edd",
   "metadata": {},
   "outputs": [],
   "source": [
    "throw=10\n",
    "sim=20"
   ]
  },
  {
   "cell_type": "code",
   "execution_count": 194,
   "id": "33fd1851",
   "metadata": {},
   "outputs": [
    {
     "data": {
      "text/plain": [
       "array([[1, 3, 5, 3, 3, 6, 2, 6, 3, 4],\n",
       "       [3, 3, 6, 4, 3, 3, 4, 6, 5, 4],\n",
       "       [1, 4, 4, 4, 3, 5, 6, 5, 3, 3],\n",
       "       [2, 1, 1, 5, 6, 5, 3, 3, 6, 5],\n",
       "       [5, 3, 5, 3, 2, 2, 5, 1, 2, 5],\n",
       "       [1, 6, 5, 5, 5, 3, 6, 5, 4, 5],\n",
       "       [2, 2, 5, 3, 2, 6, 6, 4, 5, 5],\n",
       "       [3, 5, 4, 3, 1, 6, 3, 3, 5, 5],\n",
       "       [6, 4, 1, 1, 6, 2, 6, 5, 5, 5],\n",
       "       [4, 2, 2, 4, 5, 2, 1, 2, 5, 4],\n",
       "       [3, 4, 4, 5, 6, 5, 4, 1, 6, 2],\n",
       "       [3, 5, 4, 3, 4, 1, 5, 6, 3, 3],\n",
       "       [3, 6, 5, 2, 4, 4, 2, 4, 6, 1],\n",
       "       [6, 1, 1, 3, 6, 2, 5, 1, 1, 3],\n",
       "       [3, 4, 1, 1, 1, 2, 3, 1, 2, 4],\n",
       "       [4, 2, 6, 3, 6, 1, 4, 4, 2, 2],\n",
       "       [1, 1, 2, 3, 2, 1, 6, 6, 3, 4],\n",
       "       [6, 4, 6, 3, 5, 5, 4, 3, 2, 5],\n",
       "       [5, 5, 6, 5, 4, 6, 3, 6, 5, 3],\n",
       "       [3, 4, 4, 4, 2, 3, 4, 2, 3, 1]])"
      ]
     },
     "execution_count": 194,
     "metadata": {},
     "output_type": "execute_result"
    }
   ],
   "source": [
    "simul=np.random.randint(1,7,throw*sim).reshape(sim,throw)\n",
    "simul"
   ]
  },
  {
   "cell_type": "code",
   "execution_count": 195,
   "id": "00c0ab30",
   "metadata": {},
   "outputs": [
    {
     "data": {
      "text/plain": [
       "array([3.6, 4.1, 3.8, 3.7, 3.3, 4.5, 4. , 3.8, 4.1, 3.1, 4. , 3.7, 3.7,\n",
       "       2.9, 2.2, 3.4, 2.9, 4.3, 4.8, 3. ])"
      ]
     },
     "execution_count": 195,
     "metadata": {},
     "output_type": "execute_result"
    }
   ],
   "source": [
    "simul.mean(axis=1)"
   ]
  },
  {
   "cell_type": "code",
   "execution_count": 196,
   "id": "a97051e7",
   "metadata": {},
   "outputs": [
    {
     "data": {
      "text/plain": [
       "array([3.25, 3.45, 3.85, 3.35, 3.8 , 3.5 , 4.1 , 3.7 , 3.8 , 3.65])"
      ]
     },
     "execution_count": 196,
     "metadata": {},
     "output_type": "execute_result"
    }
   ],
   "source": [
    "simul.mean(axis=0)"
   ]
  },
  {
   "cell_type": "markdown",
   "id": "827621a7",
   "metadata": {},
   "source": [
    "# ARITHMETIC AND VECTORIZED OPERATIONS"
   ]
  },
  {
   "cell_type": "code",
   "execution_count": 198,
   "id": "3985535b",
   "metadata": {},
   "outputs": [
    {
     "data": {
      "text/plain": [
       "array([[ -200,    20,    50,    70,   100,    50,     0,     0],\n",
       "       [  -50,    10,    25,    25,    50,     0,     0,     0],\n",
       "       [-1000,   200,   200,   300,   500,   500,   750,   250]])"
      ]
     },
     "execution_count": 198,
     "metadata": {},
     "output_type": "execute_result"
    }
   ],
   "source": [
    "projects"
   ]
  },
  {
   "cell_type": "markdown",
   "id": "18e65d5e",
   "metadata": {},
   "source": [
    "matrix and scalar:"
   ]
  },
  {
   "cell_type": "code",
   "execution_count": 199,
   "id": "c16d5ce7",
   "metadata": {},
   "outputs": [
    {
     "data": {
      "text/plain": [
       "array([[ -220. ,    22. ,    55. ,    77. ,   110. ,    55. ,     0. ,\n",
       "            0. ],\n",
       "       [  -55. ,    11. ,    27.5,    27.5,    55. ,     0. ,     0. ,\n",
       "            0. ],\n",
       "       [-1100. ,   220. ,   220. ,   330. ,   550. ,   550. ,   825. ,\n",
       "          275. ]])"
      ]
     },
     "execution_count": 199,
     "metadata": {},
     "output_type": "execute_result"
    }
   ],
   "source": [
    "projects*1.1"
   ]
  },
  {
   "cell_type": "code",
   "execution_count": 200,
   "id": "a3723342",
   "metadata": {},
   "outputs": [],
   "source": [
    "projects[0]=projects[0]*1.1"
   ]
  },
  {
   "cell_type": "code",
   "execution_count": 201,
   "id": "03bbf8da",
   "metadata": {},
   "outputs": [
    {
     "data": {
      "text/plain": [
       "array([[ -220,    22,    55,    77,   110,    55,     0,     0],\n",
       "       [  -50,    10,    25,    25,    50,     0,     0,     0],\n",
       "       [-1000,   200,   200,   300,   500,   500,   750,   250]])"
      ]
     },
     "execution_count": 201,
     "metadata": {},
     "output_type": "execute_result"
    }
   ],
   "source": [
    "projects"
   ]
  },
  {
   "cell_type": "markdown",
   "id": "307086f3",
   "metadata": {},
   "source": [
    "# matrix and vector"
   ]
  },
  {
   "cell_type": "code",
   "execution_count": 202,
   "id": "7e19f3e2",
   "metadata": {},
   "outputs": [],
   "source": [
    "a=np.array([10,20,30])"
   ]
  },
  {
   "cell_type": "code",
   "execution_count": 204,
   "id": "166172f1",
   "metadata": {},
   "outputs": [
    {
     "ename": "ValueError",
     "evalue": "operands could not be broadcast together with shapes (3,8) (3,) ",
     "output_type": "error",
     "traceback": [
      "\u001b[1;31m---------------------------------------------------------------------------\u001b[0m",
      "\u001b[1;31mValueError\u001b[0m                                Traceback (most recent call last)",
      "Input \u001b[1;32mIn [204]\u001b[0m, in \u001b[0;36m<cell line: 1>\u001b[1;34m()\u001b[0m\n\u001b[1;32m----> 1\u001b[0m \u001b[43mprojects\u001b[49m\u001b[38;5;241;43m+\u001b[39;49m\u001b[43ma\u001b[49m\n",
      "\u001b[1;31mValueError\u001b[0m: operands could not be broadcast together with shapes (3,8) (3,) "
     ]
    }
   ],
   "source": [
    "projects+a"
   ]
  },
  {
   "cell_type": "code",
   "execution_count": 205,
   "id": "92a4549c",
   "metadata": {},
   "outputs": [],
   "source": [
    "a=a.reshape((3,1))"
   ]
  },
  {
   "cell_type": "code",
   "execution_count": 206,
   "id": "0e9923cc",
   "metadata": {},
   "outputs": [
    {
     "data": {
      "text/plain": [
       "array([[-210,   32,   65,   87,  120,   65,   10,   10],\n",
       "       [ -30,   30,   45,   45,   70,   20,   20,   20],\n",
       "       [-970,  230,  230,  330,  530,  530,  780,  280]])"
      ]
     },
     "execution_count": 206,
     "metadata": {},
     "output_type": "execute_result"
    }
   ],
   "source": [
    "projects+a"
   ]
  },
  {
   "cell_type": "code",
   "execution_count": 207,
   "id": "190c93f0",
   "metadata": {},
   "outputs": [
    {
     "data": {
      "text/plain": [
       "(3, 8)"
      ]
     },
     "execution_count": 207,
     "metadata": {},
     "output_type": "execute_result"
    }
   ],
   "source": [
    "projects.shape"
   ]
  },
  {
   "cell_type": "code",
   "execution_count": 208,
   "id": "70fe53d2",
   "metadata": {},
   "outputs": [],
   "source": [
    "b=np.array([5,10,15,20,25,30,35,40])"
   ]
  },
  {
   "cell_type": "code",
   "execution_count": 209,
   "id": "2bc34a41",
   "metadata": {},
   "outputs": [
    {
     "data": {
      "text/plain": [
       "(8,)"
      ]
     },
     "execution_count": 209,
     "metadata": {},
     "output_type": "execute_result"
    }
   ],
   "source": [
    "b.shape"
   ]
  },
  {
   "cell_type": "code",
   "execution_count": 211,
   "id": "3c1c469f",
   "metadata": {},
   "outputs": [
    {
     "data": {
      "text/plain": [
       "array([[ -220,    22,    55,    77,   110,    55,     0,     0],\n",
       "       [  -50,    10,    25,    25,    50,     0,     0,     0],\n",
       "       [-1000,   200,   200,   300,   500,   500,   750,   250]])"
      ]
     },
     "execution_count": 211,
     "metadata": {},
     "output_type": "execute_result"
    }
   ],
   "source": [
    "projects"
   ]
  },
  {
   "cell_type": "code",
   "execution_count": 210,
   "id": "b186fe0e",
   "metadata": {},
   "outputs": [
    {
     "data": {
      "text/plain": [
       "array([[-215,   32,   70,   97,  135,   85,   35,   40],\n",
       "       [ -45,   20,   40,   45,   75,   30,   35,   40],\n",
       "       [-995,  210,  215,  320,  525,  530,  785,  290]])"
      ]
     },
     "execution_count": 210,
     "metadata": {},
     "output_type": "execute_result"
    }
   ],
   "source": [
    "projects+b"
   ]
  },
  {
   "cell_type": "markdown",
   "id": "16518f24",
   "metadata": {},
   "source": [
    "# KEEPDIM PARAMETER"
   ]
  },
  {
   "cell_type": "code",
   "execution_count": 212,
   "id": "e5fdca76",
   "metadata": {},
   "outputs": [],
   "source": [
    "np.set_printoptions(precision=2, suppress= True)"
   ]
  },
  {
   "cell_type": "code",
   "execution_count": 213,
   "id": "adb3ef4c",
   "metadata": {},
   "outputs": [],
   "source": [
    "project_1 = [-200, 20, 50, 70, 100, 50, 0, 0]\n",
    "project_2 = [-50, 10, 25, 25, 50, 0, 0, 0]\n",
    "project_3 = [-1000, 200, 200, 300, 500, 500, 750, 250]"
   ]
  },
  {
   "cell_type": "code",
   "execution_count": 214,
   "id": "814237fa",
   "metadata": {},
   "outputs": [
    {
     "data": {
      "text/plain": [
       "array([[ -200,    20,    50,    70,   100,    50,     0,     0],\n",
       "       [  -50,    10,    25,    25,    50,     0,     0,     0],\n",
       "       [-1000,   200,   200,   300,   500,   500,   750,   250]])"
      ]
     },
     "execution_count": 214,
     "metadata": {},
     "output_type": "execute_result"
    }
   ],
   "source": [
    "projects = np.array([project_1, project_2, project_3])\n",
    "projects"
   ]
  },
  {
   "cell_type": "code",
   "execution_count": 215,
   "id": "60b11339",
   "metadata": {},
   "outputs": [
    {
     "data": {
      "text/plain": [
       "array([[ 20,  50,  70, 100,  50,   0,   0],\n",
       "       [ 10,  25,  25,  50,   0,   0,   0],\n",
       "       [200, 200, 300, 500, 500, 750, 250]])"
      ]
     },
     "execution_count": 215,
     "metadata": {},
     "output_type": "execute_result"
    }
   ],
   "source": [
    "inflows = projects[:, 1:].copy()\n",
    "inflows"
   ]
  },
  {
   "cell_type": "code",
   "execution_count": 218,
   "id": "afe6eb9b",
   "metadata": {},
   "outputs": [
    {
     "data": {
      "text/plain": [
       "array([ 290,  110, 2700])"
      ]
     },
     "execution_count": 218,
     "metadata": {},
     "output_type": "execute_result"
    }
   ],
   "source": [
    "total=inflows.sum(axis=1)\n",
    "total"
   ]
  },
  {
   "cell_type": "code",
   "execution_count": 219,
   "id": "49b1b6d5",
   "metadata": {},
   "outputs": [
    {
     "data": {
      "text/plain": [
       "array([[0.07, 0.17, 0.24, 0.34, 0.17, 0.  , 0.  ],\n",
       "       [0.09, 0.23, 0.23, 0.45, 0.  , 0.  , 0.  ],\n",
       "       [0.07, 0.07, 0.11, 0.19, 0.19, 0.28, 0.09]])"
      ]
     },
     "execution_count": 219,
     "metadata": {},
     "output_type": "execute_result"
    }
   ],
   "source": [
    "inflows/total.reshape(3,1)"
   ]
  },
  {
   "cell_type": "markdown",
   "id": "c4f688ee",
   "metadata": {},
   "source": [
    "ALTERNATIVE METHOD:"
   ]
  },
  {
   "cell_type": "code",
   "execution_count": 221,
   "id": "a91bd960",
   "metadata": {},
   "outputs": [
    {
     "data": {
      "text/plain": [
       "array([[ 290],\n",
       "       [ 110],\n",
       "       [2700]])"
      ]
     },
     "execution_count": 221,
     "metadata": {},
     "output_type": "execute_result"
    }
   ],
   "source": [
    "inflows.sum(axis=1,keepdims=True)"
   ]
  },
  {
   "cell_type": "code",
   "execution_count": 220,
   "id": "8d875e62",
   "metadata": {},
   "outputs": [
    {
     "data": {
      "text/plain": [
       "array([[0.07, 0.17, 0.24, 0.34, 0.17, 0.  , 0.  ],\n",
       "       [0.09, 0.23, 0.23, 0.45, 0.  , 0.  , 0.  ],\n",
       "       [0.07, 0.07, 0.11, 0.19, 0.19, 0.28, 0.09]])"
      ]
     },
     "execution_count": 220,
     "metadata": {},
     "output_type": "execute_result"
    }
   ],
   "source": [
    "inflows/inflows.sum(axis=1,keepdims=True)"
   ]
  },
  {
   "cell_type": "markdown",
   "id": "f7176bac",
   "metadata": {},
   "source": [
    "# ADDING AND REMOVING ELEMENTS"
   ]
  },
  {
   "cell_type": "code",
   "execution_count": 222,
   "id": "b55488e6",
   "metadata": {},
   "outputs": [
    {
     "data": {
      "text/plain": [
       "array([-1000,   200,   200,   300,   500,   500,   750,    25])"
      ]
     },
     "execution_count": 222,
     "metadata": {},
     "output_type": "execute_result"
    }
   ],
   "source": [
    "cf = np.array([-1000, 200, 200, 300, 500, 500, 750, 25])\n",
    "cf"
   ]
  },
  {
   "cell_type": "code",
   "execution_count": 223,
   "id": "17c0a1e6",
   "metadata": {},
   "outputs": [
    {
     "data": {
      "text/plain": [
       "array([-1000,   200,   200,   300,   500,   500,   750,    25,    10])"
      ]
     },
     "execution_count": 223,
     "metadata": {},
     "output_type": "execute_result"
    }
   ],
   "source": [
    "np.append(cf,10)"
   ]
  },
  {
   "cell_type": "code",
   "execution_count": 224,
   "id": "286def31",
   "metadata": {},
   "outputs": [
    {
     "data": {
      "text/plain": [
       "array([-1000,   200,   200,   300,   500,   500,   750,    25])"
      ]
     },
     "execution_count": 224,
     "metadata": {},
     "output_type": "execute_result"
    }
   ],
   "source": [
    "cf"
   ]
  },
  {
   "cell_type": "code",
   "execution_count": 227,
   "id": "fbc80783",
   "metadata": {},
   "outputs": [
    {
     "data": {
      "text/plain": [
       "array([    0, -1000,   200,   200,   300,   500,   500,   750,    25])"
      ]
     },
     "execution_count": 227,
     "metadata": {},
     "output_type": "execute_result"
    }
   ],
   "source": [
    "np.insert(cf,obj=0,values=0)"
   ]
  },
  {
   "cell_type": "code",
   "execution_count": 228,
   "id": "59ba8e10",
   "metadata": {},
   "outputs": [
    {
     "data": {
      "text/plain": [
       "array([-1000,   200,   200,   300,   500,   500,   750,    25])"
      ]
     },
     "execution_count": 228,
     "metadata": {},
     "output_type": "execute_result"
    }
   ],
   "source": [
    "cf"
   ]
  },
  {
   "cell_type": "code",
   "execution_count": 230,
   "id": "ee0cbdd4",
   "metadata": {},
   "outputs": [
    {
     "data": {
      "text/plain": [
       "array([200, 200, 300, 500, 500, 750,  25])"
      ]
     },
     "execution_count": 230,
     "metadata": {},
     "output_type": "execute_result"
    }
   ],
   "source": [
    "np.delete(cf,0)"
   ]
  },
  {
   "cell_type": "code",
   "execution_count": 231,
   "id": "85a571f7",
   "metadata": {},
   "outputs": [
    {
     "data": {
      "text/plain": [
       "array([-1000,   200,   200,   300,   500,   500,   750,    25])"
      ]
     },
     "execution_count": 231,
     "metadata": {},
     "output_type": "execute_result"
    }
   ],
   "source": [
    "cf"
   ]
  },
  {
   "cell_type": "code",
   "execution_count": 232,
   "id": "1b9ebbdf",
   "metadata": {},
   "outputs": [
    {
     "data": {
      "text/plain": [
       "array([200, 200, 300, 500, 500, 750,  25])"
      ]
     },
     "execution_count": 232,
     "metadata": {},
     "output_type": "execute_result"
    }
   ],
   "source": [
    "cf[1:]"
   ]
  },
  {
   "cell_type": "code",
   "execution_count": 233,
   "id": "fef862eb",
   "metadata": {},
   "outputs": [
    {
     "data": {
      "text/plain": [
       "array([200, 200, 300, 500, 500, 750])"
      ]
     },
     "execution_count": 233,
     "metadata": {},
     "output_type": "execute_result"
    }
   ],
   "source": [
    "np.delete(cf,[0,7])"
   ]
  },
  {
   "cell_type": "markdown",
   "id": "1ced1441",
   "metadata": {},
   "source": [
    "# MERGING AND CONCATENATING"
   ]
  },
  {
   "cell_type": "code",
   "execution_count": 234,
   "id": "98871db1",
   "metadata": {},
   "outputs": [],
   "source": [
    "project_1 = [-200, 20, 50, 70, 100, 50, 0, 0]\n",
    "project_2 = [-50, 10, 25, 25, 50, 0, 0, 0]\n",
    "project_3 = [-1000, 200, 200, 300, 500, 500, 750, 250]"
   ]
  },
  {
   "cell_type": "code",
   "execution_count": 235,
   "id": "c5fbe015",
   "metadata": {},
   "outputs": [
    {
     "data": {
      "text/plain": [
       "array([[ -200,    20,    50,    70,   100,    50,     0,     0],\n",
       "       [  -50,    10,    25,    25,    50,     0,     0,     0],\n",
       "       [-1000,   200,   200,   300,   500,   500,   750,   250]])"
      ]
     },
     "execution_count": 235,
     "metadata": {},
     "output_type": "execute_result"
    }
   ],
   "source": [
    "projects = np.array([project_1, project_2, project_3])\n",
    "projects"
   ]
  },
  {
   "cell_type": "code",
   "execution_count": 236,
   "id": "4621bcb6",
   "metadata": {},
   "outputs": [
    {
     "data": {
      "text/plain": [
       "array([[  0],\n",
       "       [  0],\n",
       "       [200]])"
      ]
     },
     "execution_count": 236,
     "metadata": {},
     "output_type": "execute_result"
    }
   ],
   "source": [
    "t8=np.array([0,0,200]).reshape(3,1)\n",
    "t8"
   ]
  },
  {
   "cell_type": "code",
   "execution_count": 239,
   "id": "4814de71",
   "metadata": {},
   "outputs": [
    {
     "data": {
      "text/plain": [
       "array([[ -200,    20,    50,    70,   100,    50,     0,     0,     0],\n",
       "       [  -50,    10,    25,    25,    50,     0,     0,     0,     0],\n",
       "       [-1000,   200,   200,   300,   500,   500,   750,   250,   200]])"
      ]
     },
     "execution_count": 239,
     "metadata": {},
     "output_type": "execute_result"
    }
   ],
   "source": [
    "np.hstack((projects,t8))"
   ]
  },
  {
   "cell_type": "code",
   "execution_count": 242,
   "id": "545b018f",
   "metadata": {},
   "outputs": [],
   "source": [
    "p4=[-100,20,30,50,100,70,50,0]"
   ]
  },
  {
   "cell_type": "code",
   "execution_count": 246,
   "id": "c4f3d3fb",
   "metadata": {},
   "outputs": [],
   "source": [
    "projects=np.vstack((projects,p4))"
   ]
  },
  {
   "cell_type": "code",
   "execution_count": 247,
   "id": "949988d6",
   "metadata": {},
   "outputs": [
    {
     "data": {
      "text/plain": [
       "array([[ -200,    20,    50,    70,   100,    50,     0,     0],\n",
       "       [  -50,    10,    25,    25,    50,     0,     0,     0],\n",
       "       [-1000,   200,   200,   300,   500,   500,   750,   250],\n",
       "       [ -100,    20,    30,    50,   100,    70,    50,     0]])"
      ]
     },
     "execution_count": 247,
     "metadata": {},
     "output_type": "execute_result"
    }
   ],
   "source": [
    "projects"
   ]
  },
  {
   "cell_type": "code",
   "execution_count": null,
   "id": "f6c944e7",
   "metadata": {},
   "outputs": [],
   "source": []
  }
 ],
 "metadata": {
  "kernelspec": {
   "display_name": "Python 3 (ipykernel)",
   "language": "python",
   "name": "python3"
  },
  "language_info": {
   "codemirror_mode": {
    "name": "ipython",
    "version": 3
   },
   "file_extension": ".py",
   "mimetype": "text/x-python",
   "name": "python",
   "nbconvert_exporter": "python",
   "pygments_lexer": "ipython3",
   "version": "3.9.12"
  }
 },
 "nbformat": 4,
 "nbformat_minor": 5
}
