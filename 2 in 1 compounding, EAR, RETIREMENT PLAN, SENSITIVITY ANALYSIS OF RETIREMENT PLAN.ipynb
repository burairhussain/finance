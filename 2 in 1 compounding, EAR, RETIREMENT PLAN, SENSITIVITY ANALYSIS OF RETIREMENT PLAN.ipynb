{
 "cells": [
  {
   "cell_type": "markdown",
   "id": "3ec29a33",
   "metadata": {},
   "source": [
    "# COMPOUNDING FREQUENCY AND EAR:"
   ]
  },
  {
   "cell_type": "markdown",
   "id": "38700a8d",
   "metadata": {},
   "source": [
    "you have 100 USD, COMPUNDED QUARTERLY AT 3%"
   ]
  },
  {
   "cell_type": "code",
   "execution_count": 10,
   "id": "f4c56a18",
   "metadata": {},
   "outputs": [],
   "source": [
    "import numpy as np\n",
    "import numpy_financial as npf"
   ]
  },
  {
   "cell_type": "code",
   "execution_count": 1,
   "id": "adb3ef85",
   "metadata": {},
   "outputs": [],
   "source": [
    "pv=100\n",
    "r=0.03\n",
    "m=4\n",
    "n=2"
   ]
  },
  {
   "cell_type": "code",
   "execution_count": 3,
   "id": "7fdad34e",
   "metadata": {},
   "outputs": [
    {
     "data": {
      "text/plain": [
       "106.15988478182759"
      ]
     },
     "execution_count": 3,
     "metadata": {},
     "output_type": "execute_result"
    }
   ],
   "source": [
    "fv=pv*(1+r/m)**(n*m)\n",
    "fv"
   ]
  },
  {
   "cell_type": "code",
   "execution_count": 4,
   "id": "daeb519d",
   "metadata": {},
   "outputs": [
    {
     "data": {
      "text/plain": [
       "0.030339190664062654"
      ]
     },
     "execution_count": 4,
     "metadata": {},
     "output_type": "execute_result"
    }
   ],
   "source": [
    "ear= ((1+r/m)**m)-1\n",
    "ear"
   ]
  },
  {
   "cell_type": "code",
   "execution_count": 5,
   "id": "559481fe",
   "metadata": {},
   "outputs": [
    {
     "data": {
      "text/plain": [
       "3.0339190664062654"
      ]
     },
     "execution_count": 5,
     "metadata": {},
     "output_type": "execute_result"
    }
   ],
   "source": [
    "ear*100"
   ]
  },
  {
   "cell_type": "markdown",
   "id": "3f62ddf6",
   "metadata": {},
   "source": [
    "QUESTION: A-Z RETIREMENT PLAN\n",
    "\n",
    "retire in 35, will earn 4% in funding phase, 3% in payout phase, deposit how much in 35 years to get 2500 for next 25 years and a 100k fv at end"
   ]
  },
  {
   "cell_type": "markdown",
   "id": "da657036",
   "metadata": {},
   "source": [
    "PAYOUT PHASE:"
   ]
  },
  {
   "cell_type": "code",
   "execution_count": 6,
   "id": "1cad8fc2",
   "metadata": {},
   "outputs": [],
   "source": [
    "m=12\n",
    "r2=0.03\n",
    "cf2=2500\n",
    "n2=25\n",
    "fv2=100000\n"
   ]
  },
  {
   "cell_type": "code",
   "execution_count": 13,
   "id": "ebe04406",
   "metadata": {},
   "outputs": [
    {
     "data": {
      "text/plain": [
       "-575789.9978483317"
      ]
     },
     "execution_count": 13,
     "metadata": {},
     "output_type": "execute_result"
    }
   ],
   "source": [
    "pv2= npf.pv(rate=r2/m, nper=n2*m, pmt=cf2, fv=fv2,when='begin')\n",
    "pv2"
   ]
  },
  {
   "cell_type": "markdown",
   "id": "b52b38c2",
   "metadata": {},
   "source": [
    "FUNDING PHASE:"
   ]
  },
  {
   "cell_type": "code",
   "execution_count": 14,
   "id": "818825b1",
   "metadata": {},
   "outputs": [],
   "source": [
    "m=12\n",
    "r1=0.04\n",
    "n1=35\n",
    "fv1=-pv2\n",
    "pv1=0"
   ]
  },
  {
   "cell_type": "code",
   "execution_count": 16,
   "id": "941001a3",
   "metadata": {},
   "outputs": [
    {
     "data": {
      "text/plain": [
       "-630.1526790408823"
      ]
     },
     "execution_count": 16,
     "metadata": {},
     "output_type": "execute_result"
    }
   ],
   "source": [
    "cf1 = npf.pmt(rate=r1/m, nper=n1*m, pv=pv1, fv=fv1 )\n",
    "cf1"
   ]
  },
  {
   "cell_type": "markdown",
   "id": "c8aa792e",
   "metadata": {},
   "source": [
    "# SENSITIVITY ANALYSIS:\n"
   ]
  },
  {
   "cell_type": "markdown",
   "id": "be22a393",
   "metadata": {},
   "source": [
    "RELATION BW INTEREST RATE AND INCREASE IN PAYMENTS \n",
    "SINCE INTEREST RATE VARIES WE WILL USE A RANGE TO DETERMINE THE POSSIBLE INTEREST RATE OUTCOMES FOR THE PAYOUT PERIOD (FUNDING PERIOD RATE WAS FIXED) AND WE WILL CALCULATE HOW MUCH MONTHLY WE NEED TO PUT AS A RISK MEASURE TO END UP W OUR DESIRED OUTCOME "
   ]
  },
  {
   "cell_type": "code",
   "execution_count": 20,
   "id": "a1595bc7",
   "metadata": {},
   "outputs": [],
   "source": [
    "m=12\n",
    "n2=25\n",
    "cf2=2500\n",
    "fv2=100000\n",
    "r2=np.arange(0.005,0.065,0.005)"
   ]
  },
  {
   "cell_type": "code",
   "execution_count": 22,
   "id": "25edf4be",
   "metadata": {},
   "outputs": [
    {
     "data": {
      "text/plain": [
       "array([-793426.41897161, -741795.38006778, -694625.90517336,\n",
       "       -651486.6280425 , -611990.48665175, -575789.99784833,\n",
       "       -542573.04921771, -512059.15047025, -483996.09318006,\n",
       "       -458156.9734919 , -434337.5375343 , -412353.81381446])"
      ]
     },
     "execution_count": 22,
     "metadata": {},
     "output_type": "execute_result"
    }
   ],
   "source": [
    "pv2= npf.pv(rate=r2/m,nper=n2*m,pmt=cf2,fv=fv2,when='begin')\n",
    "pv2"
   ]
  },
  {
   "cell_type": "code",
   "execution_count": 23,
   "id": "c0557d27",
   "metadata": {},
   "outputs": [],
   "source": [
    "m=12\n",
    "n1=35\n",
    "fv1=-pv2\n",
    "r1=0.04\n",
    "pv1=0"
   ]
  },
  {
   "cell_type": "code",
   "execution_count": 25,
   "id": "a57aa6ee",
   "metadata": {},
   "outputs": [
    {
     "data": {
      "text/plain": [
       "array([-868.33704199, -811.8313062 , -760.20836887, -712.99613671,\n",
       "       -669.77100358, -630.15267904, -593.79958286, -560.40474253,\n",
       "       -529.69213759, -501.41344127, -475.34511525, -451.28581854])"
      ]
     },
     "execution_count": 25,
     "metadata": {},
     "output_type": "execute_result"
    }
   ],
   "source": [
    "cf1= npf.pmt(rate=r1/m,nper=n1*m,fv=fv1,pv=pv1)\n",
    "cf1"
   ]
  },
  {
   "cell_type": "code",
   "execution_count": 26,
   "id": "ac5c084c",
   "metadata": {},
   "outputs": [],
   "source": [
    "import matplotlib.pyplot as plt"
   ]
  },
  {
   "cell_type": "code",
   "execution_count": 27,
   "id": "142f974e",
   "metadata": {},
   "outputs": [
    {
     "data": {
      "text/plain": [
       "Text(0.5, 0, 'Interest Rate in Payout Phase')"
      ]
     },
     "execution_count": 27,
     "metadata": {},
     "output_type": "execute_result"
    },
    {
     "data": {
      "image/png": "[encoded data removed]",
      "text/plain": [
       "<Figure size 432x288 with 1 Axes>"
      ]
     },
     "metadata": {
      "needs_background": "light"
     },
     "output_type": "display_data"
    }
   ],
   "source": [
    "plt.plot(np.arange(0.005,0.065,0.005),np.abs(cf1))\n",
    "plt.grid()\n",
    "plt.ylabel('Required Monthly payment')\n",
    "plt.xlabel('Interest Rate in Payout Phase')"
   ]
  },
  {
   "cell_type": "code",
   "execution_count": null,
   "id": "e100f6a2",
   "metadata": {},
   "outputs": [],
   "source": []
  }
 ],
 "metadata": {
  "kernelspec": {
   "display_name": "Python 3 (ipykernel)",
   "language": "python",
   "name": "python3"
  },
  "language_info": {
   "codemirror_mode": {
    "name": "ipython",
    "version": 3
   },
   "file_extension": ".py",
   "mimetype": "text/x-python",
   "name": "python",
   "nbconvert_exporter": "python",
   "pygments_lexer": "ipython3",
   "version": "3.9.12"
  }
 },
 "nbformat": 4,
 "nbformat_minor": 5
}
