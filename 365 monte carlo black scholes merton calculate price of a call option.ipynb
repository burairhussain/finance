{
 "cells": [
  {
   "cell_type": "code",
   "execution_count": 1,
   "id": "e062d138",
   "metadata": {},
   "outputs": [],
   "source": [
    "import numpy as np\n",
    "import pandas as pd\n",
    "import yfinance as yf\n",
    "from scipy.stats import norm"
   ]
  },
  {
   "cell_type": "markdown",
   "id": "8ee239fa",
   "metadata": {},
   "source": [
    "S= stock price\n",
    "\n",
    "K= strike price\n",
    "\n",
    "r= risk free rate\n",
    "\n",
    "stdev= SD\n",
    "\n",
    "T= time horizon (years)"
   ]
  },
  {
   "cell_type": "code",
   "execution_count": 3,
   "id": "9257ea00",
   "metadata": {},
   "outputs": [],
   "source": [
    "def d1(S,K,r,stdev,T):\n",
    "    return(np.log(S/K)+(r+stdev**2/2)*T)/(stdev*np.sqrt(T))\n",
    "\n",
    "def d2(S,K,r,stdev,T):\n",
    "    return((np.log(S/K)+(r-stdev**2/2)*T)/(stdev*np.sqrt(T)))"
   ]
  },
  {
   "cell_type": "code",
   "execution_count": 4,
   "id": "f1cf4ff6",
   "metadata": {},
   "outputs": [
    {
     "data": {
      "text/plain": [
       "0.5"
      ]
     },
     "execution_count": 4,
     "metadata": {},
     "output_type": "execute_result"
    }
   ],
   "source": [
    "norm.cdf(0)"
   ]
  },
  {
   "cell_type": "code",
   "execution_count": 5,
   "id": "cc6d27bf",
   "metadata": {},
   "outputs": [
    {
     "data": {
      "text/plain": [
       "0.5987063256829237"
      ]
     },
     "execution_count": 5,
     "metadata": {},
     "output_type": "execute_result"
    }
   ],
   "source": [
    "norm.cdf(.25)"
   ]
  },
  {
   "cell_type": "code",
   "execution_count": 6,
   "id": "803c7560",
   "metadata": {},
   "outputs": [
    {
     "data": {
      "text/plain": [
       "0.7733726476231317"
      ]
     },
     "execution_count": 6,
     "metadata": {},
     "output_type": "execute_result"
    }
   ],
   "source": [
    "norm.cdf(.75)"
   ]
  },
  {
   "cell_type": "code",
   "execution_count": 9,
   "id": "75026500",
   "metadata": {},
   "outputs": [
    {
     "data": {
      "text/plain": [
       "1.0"
      ]
     },
     "execution_count": 9,
     "metadata": {},
     "output_type": "execute_result"
    }
   ],
   "source": [
    "norm.cdf(9)"
   ]
  },
  {
   "cell_type": "markdown",
   "id": "a1ba9154",
   "metadata": {},
   "source": [
    "cumulative distribution shows how data cumulates over time between 0 and 1, the paranthesis takes an argument and show how much data lies below that point"
   ]
  },
  {
   "cell_type": "markdown",
   "id": "6e81dd35",
   "metadata": {},
   "source": [
    "# BLACK SCHOLES FUNCTION\n",
    "\n",
    "C= SN(d1)-KE^-rt N(d2)"
   ]
  },
  {
   "cell_type": "code",
   "execution_count": 10,
   "id": "1b1fdc91",
   "metadata": {},
   "outputs": [],
   "source": [
    "def BSM (S,K,r,stdev,T):\n",
    "    return (S*norm.cdf(d1(S,K,r,stdev,T)))-(K*np.exp(-r*T)*norm.cdf(d2(S,K,r,stdev,T)))"
   ]
  },
  {
   "cell_type": "code",
   "execution_count": 11,
   "id": "271e2a8b",
   "metadata": {},
   "outputs": [
    {
     "name": "stdout",
     "output_type": "stream",
     "text": [
      "[*********************100%***********************]  1 of 1 completed\n"
     ]
    }
   ],
   "source": [
    "data= yf.download(['PG'], period='10Y')['Adj Close']"
   ]
  },
  {
   "cell_type": "markdown",
   "id": "5b71c82c",
   "metadata": {},
   "source": [
    "S (stock price):"
   ]
  },
  {
   "cell_type": "code",
   "execution_count": 12,
   "id": "7434fc0f",
   "metadata": {},
   "outputs": [
    {
     "data": {
      "text/plain": [
       "151.0500030517578"
      ]
     },
     "execution_count": 12,
     "metadata": {},
     "output_type": "execute_result"
    }
   ],
   "source": [
    "S= data.iloc[-1]\n",
    "S"
   ]
  },
  {
   "cell_type": "markdown",
   "id": "08c756f5",
   "metadata": {},
   "source": [
    "Standard Deviation:"
   ]
  },
  {
   "cell_type": "code",
   "execution_count": 13,
   "id": "bb9ced3f",
   "metadata": {},
   "outputs": [],
   "source": [
    "log_returns=np.log(1+data.pct_change())\n"
   ]
  },
  {
   "cell_type": "code",
   "execution_count": 14,
   "id": "01ed6d2e",
   "metadata": {},
   "outputs": [
    {
     "data": {
      "text/plain": [
       "0.18280692850690627"
      ]
     },
     "execution_count": 14,
     "metadata": {},
     "output_type": "execute_result"
    }
   ],
   "source": [
    "stdev=log_returns.std()*250**0.5\n",
    "stdev"
   ]
  },
  {
   "cell_type": "markdown",
   "id": "46b4fcb1",
   "metadata": {},
   "source": [
    "r= 3.98% yield on us treasury (risk free asset)\n",
    "\n",
    "K is assumed\n",
    "\n",
    "T is measured in years"
   ]
  },
  {
   "cell_type": "code",
   "execution_count": 34,
   "id": "ca292515",
   "metadata": {},
   "outputs": [],
   "source": [
    "r= 0.039 \n",
    "K = 152\n",
    "T= 1 "
   ]
  },
  {
   "cell_type": "code",
   "execution_count": 35,
   "id": "6d45af59",
   "metadata": {},
   "outputs": [
    {
     "data": {
      "text/plain": [
       "0.2704470456831065"
      ]
     },
     "execution_count": 35,
     "metadata": {},
     "output_type": "execute_result"
    }
   ],
   "source": [
    "d1(S,K,r,stdev,T)"
   ]
  },
  {
   "cell_type": "code",
   "execution_count": 36,
   "id": "a30386b0",
   "metadata": {},
   "outputs": [
    {
     "data": {
      "text/plain": [
       "0.08764011717620021"
      ]
     },
     "execution_count": 36,
     "metadata": {},
     "output_type": "execute_result"
    }
   ],
   "source": [
    "d2(S,K,r,stdev,T)"
   ]
  },
  {
   "cell_type": "code",
   "execution_count": 37,
   "id": "5e053e16",
   "metadata": {},
   "outputs": [
    {
     "data": {
      "text/plain": [
       "13.428022693716954"
      ]
     },
     "execution_count": 37,
     "metadata": {},
     "output_type": "execute_result"
    }
   ],
   "source": [
    "BSM(S,K,r,stdev,T)"
   ]
  },
  {
   "cell_type": "code",
   "execution_count": null,
   "id": "aa30b8c5",
   "metadata": {},
   "outputs": [],
   "source": []
  }
 ],
 "metadata": {
  "kernelspec": {
   "display_name": "Python 3 (ipykernel)",
   "language": "python",
   "name": "python3"
  },
  "language_info": {
   "codemirror_mode": {
    "name": "ipython",
    "version": 3
   },
   "file_extension": ".py",
   "mimetype": "text/x-python",
   "name": "python",
   "nbconvert_exporter": "python",
   "pygments_lexer": "ipython3",
   "version": "3.9.12"
  }
 },
 "nbformat": 4,
 "nbformat_minor": 5
}
