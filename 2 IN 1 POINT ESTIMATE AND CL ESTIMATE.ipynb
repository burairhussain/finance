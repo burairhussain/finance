{
 "cells": [
  {
   "cell_type": "code",
   "execution_count": 1,
   "id": "3aaff231",
   "metadata": {},
   "outputs": [],
   "source": [
    "import numpy as np\n",
    "import scipy.stats as stats"
   ]
  },
  {
   "cell_type": "markdown",
   "id": "5b619fbb",
   "metadata": {},
   "source": [
    "# POINT ESTIMATE VS CL ESTIMATE (known variance)"
   ]
  },
  {
   "cell_type": "markdown",
   "id": "ce3196df",
   "metadata": {},
   "source": [
    "The ABC Company produces screws. The length of the screws follows a Normal Distribution with a (population) standard deviation of 2 millimeters (mm). Based on a recently drawn sample (sample size = 50), construct a 90% Confidence Interval for the true population mean length. The sample mean is 99.917 mm and the sample standard deviation is 2.448 mm."
   ]
  },
  {
   "cell_type": "code",
   "execution_count": 2,
   "id": "a8ff267b",
   "metadata": {},
   "outputs": [],
   "source": [
    "sample=np.loadtxt('C:/Users/aheed/Desktop/sample2.csv', delimiter=\",\",usecols=1)"
   ]
  },
  {
   "cell_type": "code",
   "execution_count": 3,
   "id": "8e99dbe3",
   "metadata": {},
   "outputs": [
    {
     "data": {
      "text/plain": [
       "array([100.4069954 , 101.43079045,  98.84149326,  98.45355494,\n",
       "        95.61244132,  98.43592051, 104.34960474,  97.90296881,\n",
       "       104.957636  ,  99.95355054,  98.18226282,  99.24754824,\n",
       "       101.35820527,  98.14250527, 101.17967576,  97.84166502,\n",
       "        99.49050833, 101.29087711, 103.56550808, 101.50557823,\n",
       "       101.9821351 ,  97.04801517,  99.69721272, 101.98667218,\n",
       "       103.91852333,  98.0203612 ,  98.65272123,  97.48361449,\n",
       "        99.63694563,  97.55579159, 102.08625286, 102.86862412,\n",
       "       101.71066068, 104.2501521 , 100.08505419,  99.85140304,\n",
       "       100.37711222,  98.7996946 ,  98.21538551,  98.97332189,\n",
       "       100.807207  , 100.84038122, 101.93488604,  94.67300023,\n",
       "        99.23880286, 104.86169027,  97.11113056,  97.65858683,\n",
       "        95.40038645,  97.9989434 ])"
      ]
     },
     "execution_count": 3,
     "metadata": {},
     "output_type": "execute_result"
    }
   ],
   "source": [
    "sample"
   ]
  },
  {
   "cell_type": "code",
   "execution_count": 4,
   "id": "f4a77db1",
   "metadata": {},
   "outputs": [],
   "source": [
    "sample_size=sample.size"
   ]
  },
  {
   "cell_type": "code",
   "execution_count": 5,
   "id": "2f62dedb",
   "metadata": {},
   "outputs": [],
   "source": [
    "pop_std=2"
   ]
  },
  {
   "cell_type": "markdown",
   "id": "9316b5be",
   "metadata": {},
   "source": [
    "POINT ESTIMATE:"
   ]
  },
  {
   "cell_type": "code",
   "execution_count": 7,
   "id": "6bb342a5",
   "metadata": {},
   "outputs": [],
   "source": [
    "point_e=sample.mean()"
   ]
  },
  {
   "cell_type": "code",
   "execution_count": 8,
   "id": "13dba25c",
   "metadata": {},
   "outputs": [
    {
     "data": {
      "text/plain": [
       "99.91747917620003"
      ]
     },
     "execution_count": 8,
     "metadata": {},
     "output_type": "execute_result"
    }
   ],
   "source": [
    "point_e"
   ]
  },
  {
   "cell_type": "markdown",
   "id": "6ccbcba1",
   "metadata": {},
   "source": [
    "STANDARD ERROR"
   ]
  },
  {
   "cell_type": "code",
   "execution_count": 13,
   "id": "e455f749",
   "metadata": {},
   "outputs": [
    {
     "data": {
      "text/plain": [
       "0.282842712474619"
      ]
     },
     "execution_count": 13,
     "metadata": {},
     "output_type": "execute_result"
    }
   ],
   "source": [
    "stderr=pop_std/np.sqrt(sample_size)\n",
    "stderr"
   ]
  },
  {
   "cell_type": "code",
   "execution_count": 14,
   "id": "c5c803a1",
   "metadata": {},
   "outputs": [],
   "source": [
    "conf=0.90"
   ]
  },
  {
   "cell_type": "code",
   "execution_count": 15,
   "id": "9576090b",
   "metadata": {},
   "outputs": [],
   "source": [
    "left_z,right_z=stats.norm.interval(conf)"
   ]
  },
  {
   "cell_type": "code",
   "execution_count": 16,
   "id": "1fd97865",
   "metadata": {},
   "outputs": [
    {
     "data": {
      "text/plain": [
       "-1.6448536269514729"
      ]
     },
     "execution_count": 16,
     "metadata": {},
     "output_type": "execute_result"
    }
   ],
   "source": [
    "left_z"
   ]
  },
  {
   "cell_type": "code",
   "execution_count": 18,
   "id": "d3010372",
   "metadata": {},
   "outputs": [
    {
     "data": {
      "text/plain": [
       "1.6448536269514722"
      ]
     },
     "execution_count": 18,
     "metadata": {},
     "output_type": "execute_result"
    }
   ],
   "source": [
    "right_z"
   ]
  },
  {
   "cell_type": "markdown",
   "id": "24f142ab",
   "metadata": {},
   "source": [
    "CONFIDENCE LEVEL INTERVAL"
   ]
  },
  {
   "cell_type": "code",
   "execution_count": 20,
   "id": "7b7055cc",
   "metadata": {},
   "outputs": [
    {
     "data": {
      "text/plain": [
       "(99.45224431472936, 100.3827140376707)"
      ]
     },
     "execution_count": 20,
     "metadata": {},
     "output_type": "execute_result"
    }
   ],
   "source": [
    "confinterval=(point_e+left_z*stderr,point_e+right_z*stderr)\n",
    "confinterval"
   ]
  },
  {
   "cell_type": "code",
   "execution_count": 23,
   "id": "eac8a58e",
   "metadata": {},
   "outputs": [
    {
     "data": {
      "text/plain": [
       "(99.45224431472936, 100.3827140376707)"
      ]
     },
     "execution_count": 23,
     "metadata": {},
     "output_type": "execute_result"
    }
   ],
   "source": [
    "stats.norm.interval(conf,loc=point_e,scale=stderr)"
   ]
  },
  {
   "cell_type": "markdown",
   "id": "8d7581fd",
   "metadata": {},
   "source": [
    "# POINT ESTIMATE V CL (UNKNOWN VARIANCE)"
   ]
  },
  {
   "cell_type": "markdown",
   "id": "58ff93b7",
   "metadata": {},
   "source": [
    "The ABC Company produces screws. The length of the screws follows a Normal Distribution. Based on a recently drawn sample (sample size = 50), construct a 90% Confidence Interval for the true population mean length. The sample mean is 99.917 mm and the sample standard deviation is 2.448 mm"
   ]
  },
  {
   "cell_type": "code",
   "execution_count": 26,
   "id": "26c5e6d9",
   "metadata": {},
   "outputs": [],
   "source": [
    "pointestmean=sample.mean()"
   ]
  },
  {
   "cell_type": "code",
   "execution_count": 27,
   "id": "c7d07464",
   "metadata": {},
   "outputs": [],
   "source": [
    "pointeststd=sample.std(ddof=1)"
   ]
  },
  {
   "cell_type": "code",
   "execution_count": 28,
   "id": "3515f6e7",
   "metadata": {},
   "outputs": [
    {
     "data": {
      "text/plain": [
       "0.3461949492079571"
      ]
     },
     "execution_count": 28,
     "metadata": {},
     "output_type": "execute_result"
    }
   ],
   "source": [
    "stderr=pointeststd/np.sqrt(sample_size)\n",
    "stderr"
   ]
  },
  {
   "cell_type": "code",
   "execution_count": 29,
   "id": "fe721f09",
   "metadata": {},
   "outputs": [],
   "source": [
    "conf=.90"
   ]
  },
  {
   "cell_type": "code",
   "execution_count": 30,
   "id": "e3fbfaf9",
   "metadata": {},
   "outputs": [],
   "source": [
    "left_t,right_t=stats.t.interval(conf,df=49)"
   ]
  },
  {
   "cell_type": "code",
   "execution_count": 31,
   "id": "f8fb190c",
   "metadata": {},
   "outputs": [
    {
     "data": {
      "text/plain": [
       "-1.6765508919142635"
      ]
     },
     "execution_count": 31,
     "metadata": {},
     "output_type": "execute_result"
    }
   ],
   "source": [
    "left_t"
   ]
  },
  {
   "cell_type": "code",
   "execution_count": 32,
   "id": "11f29604",
   "metadata": {},
   "outputs": [
    {
     "data": {
      "text/plain": [
       "1.6765508919142629"
      ]
     },
     "execution_count": 32,
     "metadata": {},
     "output_type": "execute_result"
    }
   ],
   "source": [
    "right_t"
   ]
  },
  {
   "cell_type": "markdown",
   "id": "a6df5945",
   "metadata": {},
   "source": [
    "CI ESTIMATE:"
   ]
  },
  {
   "cell_type": "code",
   "execution_count": 33,
   "id": "62745325",
   "metadata": {},
   "outputs": [],
   "source": [
    "confinterval=(pointestmean+left_t*stderr,pointestmean+right_t*stderr)"
   ]
  },
  {
   "cell_type": "code",
   "execution_count": 34,
   "id": "24eb24ac",
   "metadata": {},
   "outputs": [
    {
     "data": {
      "text/plain": [
       "(99.33706572532923, 100.49789262707084)"
      ]
     },
     "execution_count": 34,
     "metadata": {},
     "output_type": "execute_result"
    }
   ],
   "source": [
    "confinterval"
   ]
  },
  {
   "cell_type": "code",
   "execution_count": 35,
   "id": "ee698bc4",
   "metadata": {},
   "outputs": [
    {
     "data": {
      "text/plain": [
       "(99.33706572532923, 100.49789262707084)"
      ]
     },
     "execution_count": 35,
     "metadata": {},
     "output_type": "execute_result"
    }
   ],
   "source": [
    "stats.t.interval(conf,loc=pointestmean,scale=stderr,df=49)"
   ]
  },
  {
   "cell_type": "markdown",
   "id": "8d760e28",
   "metadata": {},
   "source": [
    "# UNKNOWN POP VARIANCE"
   ]
  },
  {
   "cell_type": "markdown",
   "id": "38ee7b9b",
   "metadata": {},
   "source": [
    "The __S&P 500__, or just the S&P, is a stock market index that measures the stock performance of 500 large companies listed on stock exchanges in the United States. The S&P 500 is a __capitalization-weighted__ index and the performance of the 10 largest companies in the index account for 21.8% of the performance of the index. <br><br>\n",
    "You have a random sample with 50 stocks/companies and their annual returns for the year 2017 (__sample size = 50__). Estimate the (__equally-weighted__) mean return for the whole S&P 500 population for the year 2017 by constructing a __95% Confidence Interval__. Assume a __sample mean of 25.32%__ and a __sample standard deviation of 30.50%__.  "
   ]
  },
  {
   "cell_type": "code",
   "execution_count": 36,
   "id": "1b1f7fd0",
   "metadata": {},
   "outputs": [],
   "source": [
    "sample=np.loadtxt('C:/Users/aheed/Desktop/sample.csv', delimiter=\",\",usecols=1)"
   ]
  },
  {
   "cell_type": "code",
   "execution_count": 37,
   "id": "18341bb6",
   "metadata": {},
   "outputs": [
    {
     "data": {
      "text/plain": [
       "array([ 0.41576819,  0.15943993,  0.48012232,  0.57522782, -0.03451387,\n",
       "        0.13844277,  0.17431897,  0.37182448,  0.34250291,  0.06699958,\n",
       "        0.0982179 , -0.01147507,  0.49115226,  0.10660878,  0.94879205,\n",
       "       -0.12201533,  0.04721855, -0.07336731,  0.2923796 ,  0.70641987,\n",
       "        0.42263036,  0.38171074, -0.12320499,  0.24007071,  0.19244604,\n",
       "        0.25205737, -0.00221189,  0.89433453, -0.09650582,  0.20288154,\n",
       "        0.09163142,  0.37535726,  0.10399562,  0.18938513, -0.12747465,\n",
       "        0.14833447,  0.24391856,  0.2305725 , -0.09347443,  1.32300163,\n",
       "        0.11514778,  0.70218553,  0.35575652, -0.00843012,  0.50274579,\n",
       "        0.26261244,  0.12447579, -0.09328358, -0.02459508,  0.69915894])"
      ]
     },
     "execution_count": 37,
     "metadata": {},
     "output_type": "execute_result"
    }
   ],
   "source": [
    "sample"
   ]
  },
  {
   "cell_type": "code",
   "execution_count": 38,
   "id": "08acfee4",
   "metadata": {},
   "outputs": [
    {
     "data": {
      "text/plain": [
       "0.25318589009450754"
      ]
     },
     "execution_count": 38,
     "metadata": {},
     "output_type": "execute_result"
    }
   ],
   "source": [
    "pointe=sample.mean()\n",
    "pointe"
   ]
  },
  {
   "cell_type": "code",
   "execution_count": 39,
   "id": "7468cbdd",
   "metadata": {},
   "outputs": [
    {
     "data": {
      "text/plain": [
       "0.3049655312879426"
      ]
     },
     "execution_count": 39,
     "metadata": {},
     "output_type": "execute_result"
    }
   ],
   "source": [
    "pointestd=sample.std(ddof=1)\n",
    "pointestd"
   ]
  },
  {
   "cell_type": "code",
   "execution_count": 40,
   "id": "78e06934",
   "metadata": {},
   "outputs": [],
   "source": [
    "stderror=pointestd/np.sqrt(sample_size)"
   ]
  },
  {
   "cell_type": "code",
   "execution_count": 41,
   "id": "16865f79",
   "metadata": {},
   "outputs": [],
   "source": [
    "conf=.95"
   ]
  },
  {
   "cell_type": "code",
   "execution_count": 43,
   "id": "f3feb554",
   "metadata": {},
   "outputs": [
    {
     "data": {
      "text/plain": [
       "(0.16651564518175055, 0.3398561350072645)"
      ]
     },
     "execution_count": 43,
     "metadata": {},
     "output_type": "execute_result"
    }
   ],
   "source": [
    "stats.t.interval(conf,loc=pointe,scale=stderror,df=49)"
   ]
  },
  {
   "cell_type": "markdown",
   "id": "816c2d81",
   "metadata": {},
   "source": [
    "# STUDENT T VS NORMAL DISTRIBUTION"
   ]
  },
  {
   "cell_type": "code",
   "execution_count": 48,
   "id": "41835b4c",
   "metadata": {},
   "outputs": [],
   "source": [
    "import matplotlib.pyplot as plt"
   ]
  },
  {
   "cell_type": "code",
   "execution_count": 44,
   "id": "9cdfdb20",
   "metadata": {},
   "outputs": [],
   "source": [
    "x=np.linspace(-5,5,1000)"
   ]
  },
  {
   "cell_type": "code",
   "execution_count": 45,
   "id": "0dca6987",
   "metadata": {},
   "outputs": [],
   "source": [
    "t2=stats.t.pdf(x,df=1)\n",
    "t5=stats.t.pdf(x,df=4)\n",
    "t30=stats.t.pdf(x,df=29)\n",
    "t1000=stats.t.pdf(x,df=999)"
   ]
  },
  {
   "cell_type": "code",
   "execution_count": 46,
   "id": "e745f64f",
   "metadata": {},
   "outputs": [],
   "source": [
    "n=stats.norm.pdf(x)"
   ]
  },
  {
   "cell_type": "code",
   "execution_count": 54,
   "id": "acc21f8b",
   "metadata": {},
   "outputs": [
    {
     "data": {
      "image/png": "[encoded data removed]",
      "text/plain": [
       "<Figure size 864x576 with 1 Axes>"
      ]
     },
     "metadata": {
      "needs_background": "light"
     },
     "output_type": "display_data"
    }
   ],
   "source": [
    "plt.figure(figsize = (12, 8))\n",
    "plt.plot(x, t2, linewidth = 2, label = \"Student´s t (Sample: 2)\")\n",
    "plt.plot(x, t5, linewidth = 2, label = \"Student´s t (Sample: 5)\")\n",
    "plt.plot(x, t30, linewidth = 2, label = \"Student´s t (Sample: 30)\")\n",
    "plt.plot(x, t1000, linewidth = 2, label = \"Student´s t (Sample: 1000)\")\n",
    "plt.plot(x, n, linewidth = 2, label = \"Standard Normal\")\n",
    "plt.title(\"Student´s t-Distribution\", fontsize = 20)\n",
    "plt.ylabel(\"pdf\", fontsize = 15)\n",
    "plt.legend(fontsize = 15)\n",
    "plt.show()"
   ]
  },
  {
   "cell_type": "markdown",
   "id": "3f2bf2e0",
   "metadata": {},
   "source": [
    "# BOOTSTRAPPING:"
   ]
  },
  {
   "cell_type": "code",
   "execution_count": 55,
   "id": "578a447a",
   "metadata": {},
   "outputs": [],
   "source": [
    "sample=np.loadtxt('C:/Users/aheed/Desktop/sample.csv', delimiter=\",\",usecols=1)"
   ]
  },
  {
   "cell_type": "code",
   "execution_count": 56,
   "id": "264f0a38",
   "metadata": {},
   "outputs": [
    {
     "data": {
      "text/plain": [
       "0.25318589009450754"
      ]
     },
     "execution_count": 56,
     "metadata": {},
     "output_type": "execute_result"
    }
   ],
   "source": [
    "sample.mean()"
   ]
  },
  {
   "cell_type": "code",
   "execution_count": 57,
   "id": "fa675b57",
   "metadata": {},
   "outputs": [
    {
     "data": {
      "text/plain": [
       "50"
      ]
     },
     "execution_count": 57,
     "metadata": {},
     "output_type": "execute_result"
    }
   ],
   "source": [
    "sample_size=sample.size\n",
    "sample_size"
   ]
  },
  {
   "cell_type": "code",
   "execution_count": 58,
   "id": "935d98b9",
   "metadata": {},
   "outputs": [],
   "source": [
    "sims=1000000"
   ]
  },
  {
   "cell_type": "code",
   "execution_count": 59,
   "id": "bfa1d97e",
   "metadata": {},
   "outputs": [],
   "source": [
    "np.random.seed(123)\n",
    "bootstrap=[]\n",
    "for i in range(sims):\n",
    "    bootstrap.append(np.random.choice(sample,size=sample_size,replace=True).mean())"
   ]
  },
  {
   "cell_type": "code",
   "execution_count": 60,
   "id": "5ca692c8",
   "metadata": {},
   "outputs": [
    {
     "data": {
      "text/plain": [
       "1000000"
      ]
     },
     "execution_count": 60,
     "metadata": {},
     "output_type": "execute_result"
    }
   ],
   "source": [
    "len(bootstrap)"
   ]
  },
  {
   "cell_type": "code",
   "execution_count": 61,
   "id": "19ef2cb0",
   "metadata": {},
   "outputs": [
    {
     "data": {
      "image/png": "[encoded data removed]",
      "text/plain": [
       "<Figure size 864x576 with 1 Axes>"
      ]
     },
     "metadata": {
      "needs_background": "light"
     },
     "output_type": "display_data"
    }
   ],
   "source": [
    "plt.figure(figsize = (12, 8))\n",
    "plt.hist(bootstrap, bins = 1000)\n",
    "plt.grid()\n",
    "plt.xticks(np.arange(0, 0.5, 0.05))\n",
    "plt.ylabel(\"Absolute Frequency\", fontsize = 13)\n",
    "plt.xlabel(\"Mean Return\", fontsize = 13)\n",
    "plt.show()"
   ]
  },
  {
   "cell_type": "code",
   "execution_count": 64,
   "id": "dcbbc853",
   "metadata": {},
   "outputs": [
    {
     "data": {
      "text/plain": [
       "array([0.17313384, 0.34055822])"
      ]
     },
     "execution_count": 64,
     "metadata": {},
     "output_type": "execute_result"
    }
   ],
   "source": [
    "np.percentile(bootstrap,[2.5,97.5]) #97.5-2.5=95% confidence interval"
   ]
  },
  {
   "cell_type": "code",
   "execution_count": null,
   "id": "e17f0f46",
   "metadata": {},
   "outputs": [],
   "source": []
  }
 ],
 "metadata": {
  "kernelspec": {
   "display_name": "Python 3 (ipykernel)",
   "language": "python",
   "name": "python3"
  },
  "language_info": {
   "codemirror_mode": {
    "name": "ipython",
    "version": 3
   },
   "file_extension": ".py",
   "mimetype": "text/x-python",
   "name": "python",
   "nbconvert_exporter": "python",
   "pygments_lexer": "ipython3",
   "version": "3.9.12"
  }
 },
 "nbformat": 4,
 "nbformat_minor": 5
}
