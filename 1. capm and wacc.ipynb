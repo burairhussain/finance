{
 "cells": [
  {
   "cell_type": "code",
   "execution_count": 1,
   "id": "327f3622",
   "metadata": {},
   "outputs": [],
   "source": [
    "import numpy as np\n",
    "import pandas as pd\n",
    "from scipy import stats\n",
    "\n",
    "\n"
   ]
  },
  {
   "cell_type": "code",
   "execution_count": 3,
   "id": "7cc99c12",
   "metadata": {},
   "outputs": [
    {
     "name": "stdout",
     "output_type": "stream",
     "text": [
      "Beta: 0.7428571428571428\n",
      "Expected Return: 0.04714285714285714\n"
     ]
    }
   ],
   "source": [
    "# Example data CAPM\n",
    "returns = np.array([0.05, 0.03, 0.02, 0.04])  # Historical returns of the asset\n",
    "market_returns = np.array([0.07, 0.04, 0.03, 0.05])  # Historical returns of the market\n",
    "\n",
    "# Calculate the excess returns\n",
    "excess_returns = returns - 0.01  # Assuming risk-free rate of 1%\n",
    "\n",
    "# Calculate the slope (beta) using linear regression\n",
    "beta, alpha, r_value, p_value, std_err = stats.linregress(market_returns, excess_returns)\n",
    "\n",
    "# Calculate the expected return using CAPM formula\n",
    "expected_return = 0.01 + beta * (0.06 - 0.01)  # Assuming market risk premium of 6%\n",
    "\n",
    "print(\"Beta:\", beta)\n",
    "print(\"Expected Return:\", expected_return)"
   ]
  },
  {
   "cell_type": "markdown",
   "id": "ff4c287d",
   "metadata": {},
   "source": [
    "# WACC"
   ]
  },
  {
   "cell_type": "code",
   "execution_count": 14,
   "id": "d224558b",
   "metadata": {},
   "outputs": [
    {
     "name": "stdout",
     "output_type": "stream",
     "text": [
      "WACC: 9.87 %\n"
     ]
    }
   ],
   "source": [
    "\n",
    "# Example data\n",
    "equity = 1000000  # Market value of equity\n",
    "debt = 500000  # Market value of debt\n",
    "equity_cost = 0.12  # Cost of equity (in decimal)\n",
    "debt_cost = 0.08  # Cost of debt (in decimal)\n",
    "tax_rate = 0.3  # Corporate tax rate\n",
    "\n",
    "# Calculate weights of equity and debt\n",
    "total_value = equity + debt\n",
    "equity_weight = equity / total_value\n",
    "debt_weight = debt / total_value\n",
    "\n",
    "# Calculate WACC\n",
    "wacc = equity_weight * equity_cost + debt_weight * debt_cost * (1 - tax_rate)\n",
    "\n",
    "print(\"WACC:\", round(wacc,4)*100, '%')\n",
    "\n"
   ]
  },
  {
   "cell_type": "code",
   "execution_count": null,
   "id": "405db0cd",
   "metadata": {},
   "outputs": [],
   "source": []
  }
 ],
 "metadata": {
  "kernelspec": {
   "display_name": "Python 3 (ipykernel)",
   "language": "python",
   "name": "python3"
  },
  "language_info": {
   "codemirror_mode": {
    "name": "ipython",
    "version": 3
   },
   "file_extension": ".py",
   "mimetype": "text/x-python",
   "name": "python",
   "nbconvert_exporter": "python",
   "pygments_lexer": "ipython3",
   "version": "3.9.12"
  }
 },
 "nbformat": 4,
 "nbformat_minor": 5
}
