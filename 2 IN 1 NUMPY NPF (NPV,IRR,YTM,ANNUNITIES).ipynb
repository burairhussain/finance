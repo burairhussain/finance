{
 "cells": [
  {
   "cell_type": "code",
   "execution_count": 11,
   "id": "75dbad83",
   "metadata": {},
   "outputs": [
    {
     "name": "stdout",
     "output_type": "stream",
     "text": [
      "Requirement already satisfied: numpy-financial in c:\\users\\aheed\\anaconda3\\lib\\site-packages (1.0.0)\n",
      "Requirement already satisfied: numpy>=1.15 in c:\\users\\aheed\\anaconda3\\lib\\site-packages (from numpy-financial) (1.21.5)\n"
     ]
    }
   ],
   "source": [
    "!pip install numpy-financial"
   ]
  },
  {
   "cell_type": "code",
   "execution_count": 5,
   "id": "6480912c",
   "metadata": {},
   "outputs": [],
   "source": [
    "import numpy_financial as npf\n",
    "import numpy as np\n",
    "\n",
    "\n"
   ]
  },
  {
   "cell_type": "markdown",
   "id": "3d36ba7c",
   "metadata": {},
   "source": [
    "# IRR"
   ]
  },
  {
   "cell_type": "code",
   "execution_count": 6,
   "id": "3163cbdd",
   "metadata": {},
   "outputs": [],
   "source": [
    "cf=np.array([-200,20,50,70,100,50])\n",
    "r=0.06"
   ]
  },
  {
   "cell_type": "code",
   "execution_count": 7,
   "id": "4c7c6853",
   "metadata": {},
   "outputs": [
    {
     "data": {
      "text/plain": [
       "38.71337130837991"
      ]
     },
     "execution_count": 7,
     "metadata": {},
     "output_type": "execute_result"
    }
   ],
   "source": [
    "npf.npv(r,cf)"
   ]
  },
  {
   "cell_type": "code",
   "execution_count": 8,
   "id": "c2d2eb71",
   "metadata": {},
   "outputs": [
    {
     "data": {
      "text/plain": [
       "0.1190693988331708"
      ]
     },
     "execution_count": 8,
     "metadata": {},
     "output_type": "execute_result"
    }
   ],
   "source": [
    "npf.irr(cf)"
   ]
  },
  {
   "cell_type": "code",
   "execution_count": 10,
   "id": "8fae699d",
   "metadata": {},
   "outputs": [
    {
     "data": {
      "text/plain": [
       "True"
      ]
     },
     "execution_count": 10,
     "metadata": {},
     "output_type": "execute_result"
    }
   ],
   "source": [
    "npf.irr(cf)>r"
   ]
  },
  {
   "cell_type": "markdown",
   "id": "12927bbd",
   "metadata": {},
   "source": [
    "# YTM"
   ]
  },
  {
   "cell_type": "markdown",
   "id": "b81cacf2",
   "metadata": {},
   "source": [
    "1OY BOND 5% COUPON RATE, TODAY PRICE=107.5"
   ]
  },
  {
   "cell_type": "code",
   "execution_count": 23,
   "id": "a4e58e70",
   "metadata": {},
   "outputs": [],
   "source": [
    "cf=[5]*9"
   ]
  },
  {
   "cell_type": "code",
   "execution_count": 24,
   "id": "5fe89fae",
   "metadata": {},
   "outputs": [],
   "source": [
    "cf[-1]=cf[-1]+100"
   ]
  },
  {
   "cell_type": "code",
   "execution_count": 25,
   "id": "636db7e2",
   "metadata": {},
   "outputs": [],
   "source": [
    "cf.insert(0,-107.5)"
   ]
  },
  {
   "cell_type": "code",
   "execution_count": 26,
   "id": "aef6a5c5",
   "metadata": {},
   "outputs": [
    {
     "data": {
      "text/plain": [
       "[-107.5, 5, 5, 5, 5, 5, 5, 5, 5, 105]"
      ]
     },
     "execution_count": 26,
     "metadata": {},
     "output_type": "execute_result"
    }
   ],
   "source": [
    "cf"
   ]
  },
  {
   "cell_type": "code",
   "execution_count": 27,
   "id": "81f963cc",
   "metadata": {},
   "outputs": [
    {
     "data": {
      "text/plain": [
       "0.039916847253554044"
      ]
     },
     "execution_count": 27,
     "metadata": {},
     "output_type": "execute_result"
    }
   ],
   "source": [
    "npf.irr(cf)"
   ]
  },
  {
   "cell_type": "markdown",
   "id": "549fb957",
   "metadata": {},
   "source": [
    "# ANNUITIES "
   ]
  },
  {
   "cell_type": "markdown",
   "id": "7f9bdaf9",
   "metadata": {},
   "source": [
    "SAVE 2000 PA AT 3% INTEREST FOR 25 YEARS"
   ]
  },
  {
   "cell_type": "code",
   "execution_count": null,
   "id": "ca57fcea",
   "metadata": {},
   "outputs": [],
   "source": []
  },
  {
   "cell_type": "code",
   "execution_count": 34,
   "id": "ee318764",
   "metadata": {},
   "outputs": [],
   "source": [
    "pv=0\n",
    "n=25\n",
    "r=0.03\n",
    "cf=2000"
   ]
  },
  {
   "cell_type": "code",
   "execution_count": 35,
   "id": "42298319",
   "metadata": {},
   "outputs": [
    {
     "data": {
      "text/plain": [
       "-72918.52864361441"
      ]
     },
     "execution_count": 35,
     "metadata": {},
     "output_type": "execute_result"
    }
   ],
   "source": [
    "fv= npf.fv(rate=r,nper=n,pmt=cf,pv=pv)\n",
    "fv"
   ]
  },
  {
   "cell_type": "markdown",
   "id": "9c00b84e",
   "metadata": {},
   "source": [
    "change initial pv to 10000"
   ]
  },
  {
   "cell_type": "code",
   "execution_count": 36,
   "id": "4ed5bd68",
   "metadata": {},
   "outputs": [],
   "source": [
    "pv=10000"
   ]
  },
  {
   "cell_type": "code",
   "execution_count": 37,
   "id": "c96c2fa6",
   "metadata": {},
   "outputs": [
    {
     "data": {
      "text/plain": [
       "-93856.30794015658"
      ]
     },
     "execution_count": 37,
     "metadata": {},
     "output_type": "execute_result"
    }
   ],
   "source": [
    "fv=npf.fv(rate=r,nper=n,pmt=cf,pv=pv)\n",
    "fv"
   ]
  },
  {
   "cell_type": "code",
   "execution_count": null,
   "id": "d1dd0fe8",
   "metadata": {},
   "outputs": [],
   "source": []
  },
  {
   "cell_type": "markdown",
   "id": "80077b37",
   "metadata": {},
   "source": [
    "this shows that fv of 10k is around 21k \n",
    "to check we can calculate fv of 10k only"
   ]
  },
  {
   "cell_type": "code",
   "execution_count": 41,
   "id": "0a6dc32b",
   "metadata": {},
   "outputs": [],
   "source": [
    "val=10000*(1+r)**n"
   ]
  },
  {
   "cell_type": "code",
   "execution_count": 42,
   "id": "f84f5169",
   "metadata": {},
   "outputs": [
    {
     "data": {
      "text/plain": [
       "20937.77929654216"
      ]
     },
     "execution_count": 42,
     "metadata": {},
     "output_type": "execute_result"
    }
   ],
   "source": [
    "val"
   ]
  },
  {
   "cell_type": "code",
   "execution_count": 43,
   "id": "cf9a9bc2",
   "metadata": {},
   "outputs": [
    {
     "data": {
      "text/plain": [
       "-20937.77929654216"
      ]
     },
     "execution_count": 43,
     "metadata": {},
     "output_type": "execute_result"
    }
   ],
   "source": [
    "val1=npf.fv(rate=r,nper=n,pmt=0,pv=pv)\n",
    "val1"
   ]
  },
  {
   "cell_type": "markdown",
   "id": "cc1c2c31",
   "metadata": {},
   "source": [
    "ANNUITY CASE:\n",
    "    FUNDING=100,000\n",
    "    5K PAYOUTS FOR AT 3% INTEREST\n",
    "    VALUE OF REMAINING FV AFTER 25 YEARS"
   ]
  },
  {
   "cell_type": "code",
   "execution_count": 65,
   "id": "eba2205b",
   "metadata": {},
   "outputs": [],
   "source": [
    "pv=-100000\n",
    "cf=-5000\n",
    "r=0.03"
   ]
  },
  {
   "cell_type": "markdown",
   "id": "571e55c5",
   "metadata": {},
   "source": [
    "intuition: what is the total time period for us to get all our money back (will use it to calculate fv):"
   ]
  },
  {
   "cell_type": "code",
   "execution_count": 147,
   "id": "8111668c",
   "metadata": {},
   "outputs": [],
   "source": [
    "pv=-100000\n",
    "cf=-5000\n",
    "r=0.03"
   ]
  },
  {
   "cell_type": "code",
   "execution_count": 141,
   "id": "ae9dee56",
   "metadata": {},
   "outputs": [
    {
     "data": {
      "text/plain": [
       "array(30.99891276)"
      ]
     },
     "execution_count": 141,
     "metadata": {},
     "output_type": "execute_result"
    }
   ],
   "source": [
    "npf.nper(rate=r,pmt=cf,pv=100000,fv=0)"
   ]
  },
  {
   "cell_type": "markdown",
   "id": "1ac51020",
   "metadata": {},
   "source": [
    "30.998 is total payback period, will use to calculate total fv"
   ]
  },
  {
   "cell_type": "code",
   "execution_count": 148,
   "id": "b5668b8c",
   "metadata": {},
   "outputs": [
    {
     "data": {
      "text/plain": [
       "499982.0135821306"
      ]
     },
     "execution_count": 148,
     "metadata": {},
     "output_type": "execute_result"
    }
   ],
   "source": [
    "npf.fv(rate=r,nper=30.998,pmt=cf,pv=pv)\n"
   ]
  },
  {
   "cell_type": "markdown",
   "id": "f48f0c3d",
   "metadata": {},
   "source": [
    "first understand the mechanics of payout phase:"
   ]
  },
  {
   "cell_type": "code",
   "execution_count": 45,
   "id": "7c117487",
   "metadata": {},
   "outputs": [
    {
     "data": {
      "text/plain": [
       "98000.0"
      ]
     },
     "execution_count": 45,
     "metadata": {},
     "output_type": "execute_result"
    }
   ],
   "source": [
    "pv*(1+r)-cf"
   ]
  },
  {
   "cell_type": "markdown",
   "id": "93296a2e",
   "metadata": {},
   "source": [
    "that is what the contract is worth after a raise of 3% interest and a payout of 5k at end of year1"
   ]
  },
  {
   "cell_type": "code",
   "execution_count": 47,
   "id": "b2492870",
   "metadata": {},
   "outputs": [
    {
     "data": {
      "text/plain": [
       "95940.0"
      ]
     },
     "execution_count": 47,
     "metadata": {},
     "output_type": "execute_result"
    }
   ],
   "source": [
    "(pv*(1+r)-cf)*(1+r)-cf"
   ]
  },
  {
   "cell_type": "markdown",
   "id": "b1f82fb3",
   "metadata": {},
   "source": [
    "this is the contract worth after second year payment"
   ]
  },
  {
   "cell_type": "code",
   "execution_count": 48,
   "id": "86d2179d",
   "metadata": {},
   "outputs": [],
   "source": [
    "pv=-100000\n",
    "cf=5000\n",
    "n=25\n",
    "r=0.03"
   ]
  },
  {
   "cell_type": "code",
   "execution_count": 49,
   "id": "6d357d01",
   "metadata": {},
   "outputs": [
    {
     "data": {
      "text/plain": [
       "27081.47135638559"
      ]
     },
     "execution_count": 49,
     "metadata": {},
     "output_type": "execute_result"
    }
   ],
   "source": [
    "fv=npf.fv(rate=r,nper=25,pmt=cf,pv=pv)\n",
    "fv"
   ]
  },
  {
   "cell_type": "markdown",
   "id": "d0153835",
   "metadata": {},
   "source": [
    "that is the worth of contract after 25 years of 5k payments "
   ]
  },
  {
   "cell_type": "markdown",
   "id": "b700b781",
   "metadata": {},
   "source": [
    "LETS ASSUME YOU WANT A 100K WORTH CONTRACT AT END OF 25 YEARS, YOU HAVE 3% INTEREST RATE AND 0 INVESTED, SO U NEED TO CALCULATE HOW MUCH YOU NEED TO GIVE ANNUALLY "
   ]
  },
  {
   "cell_type": "code",
   "execution_count": 56,
   "id": "5ca14746",
   "metadata": {},
   "outputs": [],
   "source": [
    "pv=0\n",
    "fv=100000\n",
    "r=0.03\n",
    "n=25"
   ]
  },
  {
   "cell_type": "code",
   "execution_count": 57,
   "id": "695e9b43",
   "metadata": {},
   "outputs": [
    {
     "data": {
      "text/plain": [
       "-2742.7871039127763"
      ]
     },
     "execution_count": 57,
     "metadata": {},
     "output_type": "execute_result"
    }
   ],
   "source": [
    "cf=npf.pmt(rate=r,nper=n,pv=pv,fv=fv)\n",
    "cf"
   ]
  },
  {
   "cell_type": "markdown",
   "id": "b7cf1e03",
   "metadata": {},
   "source": [
    "to confirm lets calculate fv based on the above cf"
   ]
  },
  {
   "cell_type": "code",
   "execution_count": 58,
   "id": "55bdaf87",
   "metadata": {},
   "outputs": [
    {
     "data": {
      "text/plain": [
       "99999.99999999999"
      ]
     },
     "execution_count": 58,
     "metadata": {},
     "output_type": "execute_result"
    }
   ],
   "source": [
    "npf.fv(rate=r,nper=25,pmt=cf,pv=0)"
   ]
  },
  {
   "cell_type": "markdown",
   "id": "8eee98c6",
   "metadata": {},
   "source": [
    "N PAYMENTS OF 2.5K AT 3% INTEREST TO GET FV OF 100K"
   ]
  },
  {
   "cell_type": "code",
   "execution_count": 97,
   "id": "5e3cf6b9",
   "metadata": {},
   "outputs": [],
   "source": [
    "pv=0\n",
    "r=0.03\n",
    "cf=-2500\n",
    "fv=100000"
   ]
  },
  {
   "cell_type": "code",
   "execution_count": 98,
   "id": "74ede3d4",
   "metadata": {},
   "outputs": [
    {
     "data": {
      "text/plain": [
       "array(26.67419857)"
      ]
     },
     "execution_count": 98,
     "metadata": {},
     "output_type": "execute_result"
    }
   ],
   "source": [
    "npf.nper(rate=r,pmt=cf,pv=pv,fv=fv)"
   ]
  },
  {
   "cell_type": "code",
   "execution_count": 100,
   "id": "b8625e0b",
   "metadata": {},
   "outputs": [
    {
     "data": {
      "text/plain": [
       "100000.00002164196"
      ]
     },
     "execution_count": 100,
     "metadata": {},
     "output_type": "execute_result"
    }
   ],
   "source": [
    "npf.fv(rate=r,nper=26.67419857,pmt=cf,pv=0)"
   ]
  },
  {
   "cell_type": "markdown",
   "id": "2678fe8a",
   "metadata": {},
   "source": [
    "AT RETIREMENT YOUR CONTRACT IS ANNUITY WORTH X USD. AT 3% INTEREST YOU RECEIVE 5K PAYOUTS AND FV AT 25 YEARS IS 20K, FIND PV"
   ]
  },
  {
   "cell_type": "code",
   "execution_count": 102,
   "id": "00846b4b",
   "metadata": {},
   "outputs": [],
   "source": [
    "fv=20000\n",
    "r=0.03\n",
    "n=25\n",
    "cf=5000"
   ]
  },
  {
   "cell_type": "code",
   "execution_count": 105,
   "id": "bec3668c",
   "metadata": {},
   "outputs": [
    {
     "data": {
      "text/plain": [
       "-96617.84984162332"
      ]
     },
     "execution_count": 105,
     "metadata": {},
     "output_type": "execute_result"
    }
   ],
   "source": [
    "pv=npf.pv(rate=r,nper=n,pmt=cf,fv=fv)\n",
    "pv"
   ]
  },
  {
   "cell_type": "markdown",
   "id": "ad4677d3",
   "metadata": {},
   "source": [
    "this means we hae to pay 96618 which returns 5k at 3% annually"
   ]
  },
  {
   "cell_type": "code",
   "execution_count": 118,
   "id": "a250bf04",
   "metadata": {},
   "outputs": [
    {
     "data": {
      "text/plain": [
       "0.0025"
      ]
     },
     "execution_count": 118,
     "metadata": {},
     "output_type": "execute_result"
    }
   ],
   "source": [
    "0.03/12"
   ]
  },
  {
   "cell_type": "code",
   "execution_count": null,
   "id": "df12127e",
   "metadata": {},
   "outputs": [],
   "source": []
  }
 ],
 "metadata": {
  "kernelspec": {
   "display_name": "Python 3 (ipykernel)",
   "language": "python",
   "name": "python3"
  },
  "language_info": {
   "codemirror_mode": {
    "name": "ipython",
    "version": 3
   },
   "file_extension": ".py",
   "mimetype": "text/x-python",
   "name": "python",
   "nbconvert_exporter": "python",
   "pygments_lexer": "ipython3",
   "version": "3.9.12"
  }
 },
 "nbformat": 4,
 "nbformat_minor": 5
}
