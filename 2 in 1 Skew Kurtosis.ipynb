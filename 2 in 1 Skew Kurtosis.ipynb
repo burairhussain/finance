{
 "cells": [
  {
   "cell_type": "code",
   "execution_count": 1,
   "id": "d1e17e29",
   "metadata": {},
   "outputs": [],
   "source": [
    "import numpy as np\n",
    "np.set_printoptions(precision=4,suppress=True)\n",
    "import matplotlib.pyplot as plt"
   ]
  },
  {
   "cell_type": "code",
   "execution_count": 2,
   "id": "cad01ace",
   "metadata": {},
   "outputs": [],
   "source": [
    "pop=np.loadtxt('C:/Users/aheed/Desktop/SP500.csv', delimiter=\",\",usecols=1)"
   ]
  },
  {
   "cell_type": "code",
   "execution_count": 3,
   "id": "72cd7031",
   "metadata": {},
   "outputs": [],
   "source": [
    "pop=pop*100\n"
   ]
  },
  {
   "cell_type": "code",
   "execution_count": 4,
   "id": "e3fea820",
   "metadata": {},
   "outputs": [
    {
     "data": {
      "text/plain": [
       "array([ 46.993 ,  11.4371, -41.0537,  46.1147,  54.4395,  17.4319,\n",
       "        66.3206,  48.5811,  30.7009,  70.2186,  22.5971, -12.2015,\n",
       "        14.0202,  10.9322,  41.643 ,  12.4476,  16.852 ,  -6.7986,\n",
       "        26.1207, -22.1085,  -8.7735,  -3.8284,   8.5936,  21.786 ,\n",
       "        -2.4595,  48.5711, 131.1349, -17.1532,  41.2709,  24.3125,\n",
       "        -2.2558,  58.4134,  11.0066,  -9.3474,  49.1152,  41.2595,\n",
       "        18.9385,  52.7582,  35.0019,  55.9564, 143.4432,  59.574 ,\n",
       "        56.5069,  20.147 ,  29.4192, -33.4804,  14.0871,  30.6548,\n",
       "        50.2746,  17.511 ,  46.9795,  15.8328,  75.3531,   0.7113,\n",
       "        45.3301,  63.5716,  26.4373,  34.0578,  -9.9292,  89.4335,\n",
       "        33.5747,  45.7826,   5.7422,  60.464 ,  29.3023,   9.4745,\n",
       "        52.8659, -51.3006,  12.3387,  13.6767,  18.5313,  34.995 ,\n",
       "         0.8527,   4.8597,  36.6214,  21.6223,  14.6093,  29.5385,\n",
       "         3.3789,  25.2061,  -4.7535, -14.8673,  69.9159,  10.604 ,\n",
       "        68.6155,  37.5357,  -7.2619,  27.9359,  27.4875,  65.8208,\n",
       "        33.4037,  35.9919,  -9.8402,  42.263 ,  35.1334,  17.8221,\n",
       "        13.5325,  21.608 ,  16.6852,  52.2528,  -1.0297,  15.2965,\n",
       "        23.9293,  27.4556,  15.9861,  26.6147, -23.3992,  29.2456,\n",
       "        13.6473,  78.5487,  15.0974,  14.1449,  22.4315,  24.5527,\n",
       "         9.4735,  16.2451,   8.6292, -20.4399,  46.4635,  55.9206,\n",
       "        49.3281,  26.7373,  53.1033,  34.8477, -29.857 ,  26.7535,\n",
       "        23.7345,  -8.1232,   6.3636,  13.2881,   5.8363,  13.8443,\n",
       "        24.472 ,  51.8925,   6.7   ,  25.5704,   7.1708,  86.8643,\n",
       "        19.2446,   3.1568, -18.351 , -20.9485, -17.5729,  15.917 ,\n",
       "        39.0386,  34.7761,   2.4473,  32.0407,  11.1156,   8.3612,\n",
       "        12.5389,  -9.3497,  59.7082,  33.3926,  27.1135,  14.4685,\n",
       "        15.2959,  -0.2622, -12.1545,  66.3485,  23.1751,  25.0045,\n",
       "         6.7359,  26.8067,  -0.9167,  14.3944,   3.8151,  43.0592,\n",
       "        17.7672,  10.7799,  -6.2999,  20.2882,  11.0454,  22.1488,\n",
       "         5.7292,  13.2185,   2.9678,  24.9258,  16.39  ,  53.3768,\n",
       "        28.021 ,  43.7453,  34.0172,  -1.1301,  -9.3284,  24.3919,\n",
       "        23.391 ,  12.4954,  28.8201, -12.3205,  35.9737,  67.3802,\n",
       "        -5.9692,  -6.5442, -11.8773,  45.0531,  34.9058,  17.8327,\n",
       "       -44.7663,   0.0419,  -4.0149,  22.9799,  31.8088,  17.6521,\n",
       "        35.5757,  32.9295,  -0.5547,  44.4172,  51.7825,  22.8501,\n",
       "         6.3938,   1.7223,  -9.6506,  16.8402,  10.1362,  -3.0598,\n",
       "        18.6706, -12.2476,  41.3559, -23.7919,  56.3492,  18.1112,\n",
       "        27.9657,  43.0926, -12.7871,   6.5553,  32.3757, -16.4858,\n",
       "         6.7658,  41.5768,  14.0496,   4.5389,  -7.8669,   5.3609,\n",
       "         9.7457,  21.5851,  -7.5727,  25.062 ,  33.3504,  46.5356,\n",
       "        29.5171,  70.642 ,  -5.545 ,  27.5064,  27.2677,  37.6669,\n",
       "         9.1971, -13.883 , 116.9284,  28.7311,  18.8566,  16.1638,\n",
       "        72.6383,  21.8462,  36.2486,  20.4351,  18.4506,  -7.4775,\n",
       "        15.7193,  13.9182,  31.7414,  21.2742,   0.8493,  23.9309,\n",
       "        -1.1475,  -7.7737,  10.3996,  13.7544, -10.9482, -27.8617,\n",
       "        33.5409,   5.7308, -12.7475,  -0.4038,  10.6609, -20.4578,\n",
       "         9.8218,  24.0071,   6.8332,  -8.5358,  26.2612,  -2.3527,\n",
       "        49.8223,  24.2483,  38.2356,  31.9908,  32.6917,  14.8334,\n",
       "        28.4508,  15.9952,  12.4571,  30.6805,  74.0944,  31.3202,\n",
       "        49.1413,  28.6081, -29.6565,  46.5956,   2.6961,  -7.284 ,\n",
       "        64.163 ,  38.9627,  41.4065,  36.9914,  11.036 ,  56.5822,\n",
       "        -3.4514,  13.3652,   5.2675,  15.8169,  38.1711,   9.1932,\n",
       "        37.3196,  -0.2212,  20.4172,  31.8083,  42.7379,   5.6049,\n",
       "       -12.5128,  31.0427,  -4.4165,  -2.1953,  24.1893,  60.6245,\n",
       "        37.6569,   8.9878,   9.3077,  48.0122,  87.5912,  35.5458,\n",
       "        10.9043, -23.4367,  25.2057,  14.4666,  30.7467,  10.1262,\n",
       "        55.0565,  15.944 ,  23.0572, 386.7156, -13.23  ,  31.9589,\n",
       "        -3.7927, 132.3002,  34.0798,  56.8472,  12.1729,   6.8212,\n",
       "        81.2816, -30.7951,  40.678 ,  41.4485,  -0.8003,  -6.8978,\n",
       "       -14.4284,  22.9649, -13.6022,   3.4115,  11.8265,  -3.4091,\n",
       "        11.2363,  17.3655,  14.6134,  11.5148,  21.9495,   9.2769,\n",
       "        58.6479,  42.5571,  80.9032,  42.1245,  40.2109,  22.2012,\n",
       "        15.4771,  23.367 ,  25.9426,   9.1631,  23.2799,  -9.1043,\n",
       "         4.7219,  10.4939,  -6.4877,  17.0582,  52.0501,  12.2238,\n",
       "        -4.0096,  86.5214,  -1.8098,  26.3038,  45.3925,   2.2458,\n",
       "         0.3336,   2.4163,  20.3343,  13.8581,  28.9158,  14.8029,\n",
       "        36.4867,  46.0938,  37.7442,  41.4682,  22.3323,  18.5101,\n",
       "        32.2887,  58.2026,   3.4402,  30.1495,   8.734 ,  52.5787,\n",
       "        36.182 ,  -2.983 , -19.726 ,  -6.1553,   1.7691,  44.8182,\n",
       "        -2.2362,  -3.3376,  57.5228,   6.2401,  17.7575,  25.5919,\n",
       "         9.6149,  49.0901,  47.9554,  27.1765,   6.4516,  29.238 ,\n",
       "        17.455 ,   9.6803,  -8.5822, -15.6613,  10.3069,  37.1824,\n",
       "        54.4027,  -9.6636,  34.2503,   1.7838,  34.5712,  10.433 ,\n",
       "        26.2993, -25.6847,  39.4233,  10.7989,  -1.3982,  31.4364,\n",
       "       122.7227,  47.3006,  43.1273,  16.5362, -47.0799, -50.327 ,\n",
       "        -7.5192,   5.5921,   6.552 , -12.2696,  37.7531,  24.9488,\n",
       "        29.3403,   3.9341,  62.8244,   4.3021,  16.3747,  46.142 ,\n",
       "        41.1787,  38.6943, -12.2222,  34.5287,   2.5729,  -7.3367,\n",
       "        18.2703,  50.4404, 103.4207,  -4.0147,  -0.843 ,  -1.9152,\n",
       "        43.7533, -12.2523,  46.71  ,  17.0419,  13.2651,  -4.7214,\n",
       "        10.0889,  -7.2234,  23.2336,  21.7036,  -2.0873,  42.8675,\n",
       "        24.5027, -12.477 ,  17.1818,  94.8792, -10.2208,  18.2064,\n",
       "        11.678 ,  -7.3344,  14.0308,  26.7391,  37.7221,  28.8647,\n",
       "        18.0994,  34.5787])"
      ]
     },
     "execution_count": 4,
     "metadata": {},
     "output_type": "execute_result"
    }
   ],
   "source": [
    "pop"
   ]
  },
  {
   "cell_type": "code",
   "execution_count": 5,
   "id": "e0f610f4",
   "metadata": {},
   "outputs": [
    {
     "data": {
      "text/plain": [
       "<function matplotlib.pyplot.show(close=None, block=None)>"
      ]
     },
     "execution_count": 5,
     "metadata": {},
     "output_type": "execute_result"
    },
    {
     "data": {
      "image/png": "[encoded data removed]",
      "text/plain": [
       "<Figure size 864x576 with 1 Axes>"
      ]
     },
     "metadata": {
      "needs_background": "light"
     },
     "output_type": "display_data"
    }
   ],
   "source": [
    "plt.figure(figsize=(12,8))\n",
    "plt.hist(pop,bins=75)\n",
    "plt.title('Absolute Frequencies Population')\n",
    "plt.xlabel('2017 Stock Returns in %')\n",
    "plt.ylabel('Absolute Frequency')\n",
    "plt.xticks(np.arange(-100,401,25))\n",
    "plt.show\n"
   ]
  },
  {
   "cell_type": "code",
   "execution_count": 6,
   "id": "4536cd19",
   "metadata": {},
   "outputs": [],
   "source": [
    "import scipy.stats as stats"
   ]
  },
  {
   "cell_type": "code",
   "execution_count": 7,
   "id": "d8512d36",
   "metadata": {},
   "outputs": [
    {
     "data": {
      "text/plain": [
       "3.69215566312915"
      ]
     },
     "execution_count": 7,
     "metadata": {},
     "output_type": "execute_result"
    }
   ],
   "source": [
    "stats.skew(pop)"
   ]
  },
  {
   "cell_type": "code",
   "execution_count": 8,
   "id": "ac8c75a6",
   "metadata": {},
   "outputs": [
    {
     "data": {
      "text/plain": [
       "38.01022437524736"
      ]
     },
     "execution_count": 8,
     "metadata": {},
     "output_type": "execute_result"
    }
   ],
   "source": [
    "stats.kurtosis(pop,fisher=True)"
   ]
  },
  {
   "cell_type": "code",
   "execution_count": 9,
   "id": "11b8c5b7",
   "metadata": {},
   "outputs": [
    {
     "data": {
      "text/plain": [
       "41.01022437524736"
      ]
     },
     "execution_count": 9,
     "metadata": {},
     "output_type": "execute_result"
    }
   ],
   "source": [
    "stats.kurtosis(pop,fisher=False)"
   ]
  },
  {
   "cell_type": "code",
   "execution_count": null,
   "id": "054c0198",
   "metadata": {},
   "outputs": [],
   "source": []
  }
 ],
 "metadata": {
  "kernelspec": {
   "display_name": "Python 3 (ipykernel)",
   "language": "python",
   "name": "python3"
  },
  "language_info": {
   "codemirror_mode": {
    "name": "ipython",
    "version": 3
   },
   "file_extension": ".py",
   "mimetype": "text/x-python",
   "name": "python",
   "nbconvert_exporter": "python",
   "pygments_lexer": "ipython3",
   "version": "3.9.12"
  }
 },
 "nbformat": 4,
 "nbformat_minor": 5
}
