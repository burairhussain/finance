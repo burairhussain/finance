{
 "cells": [
  {
   "cell_type": "markdown",
   "id": "47385de8",
   "metadata": {},
   "source": [
    "__ANALYSING THE PAST DATA__"
   ]
  },
  {
   "cell_type": "code",
   "execution_count": 1,
   "id": "ef65a5bd",
   "metadata": {},
   "outputs": [],
   "source": [
    "import numpy as np\n",
    "import scipy.stats as stats\n",
    "import matplotlib.pyplot as plt\n",
    "np.set_printoptions(precision=4,suppress=True)"
   ]
  },
  {
   "cell_type": "code",
   "execution_count": 2,
   "id": "00a3351e",
   "metadata": {},
   "outputs": [],
   "source": [
    "sp_returns=np.loadtxt('C:/Users/aheed/Desktop/spreturns.csv', delimiter=\",\",usecols=1)"
   ]
  },
  {
   "cell_type": "code",
   "execution_count": 3,
   "id": "b74edd11",
   "metadata": {},
   "outputs": [
    {
     "data": {
      "text/plain": [
       "array([ 0.0012, -0.0061,  0.0022, ...,  0.0086, -0.0012,  0.0085])"
      ]
     },
     "execution_count": 3,
     "metadata": {},
     "output_type": "execute_result"
    }
   ],
   "source": [
    "sp_returns"
   ]
  },
  {
   "cell_type": "code",
   "execution_count": 4,
   "id": "870d64d7",
   "metadata": {},
   "outputs": [
    {
     "data": {
      "text/plain": [
       "3019"
      ]
     },
     "execution_count": 4,
     "metadata": {},
     "output_type": "execute_result"
    }
   ],
   "source": [
    "sp_returns.size"
   ]
  },
  {
   "cell_type": "code",
   "execution_count": 14,
   "id": "40a04340",
   "metadata": {},
   "outputs": [
    {
     "data": {
      "text/plain": [
       "0.000267148957332019"
      ]
     },
     "execution_count": 14,
     "metadata": {},
     "output_type": "execute_result"
    }
   ],
   "source": [
    "sp_returns.mean()"
   ]
  },
  {
   "cell_type": "code",
   "execution_count": 9,
   "id": "abd7156c",
   "metadata": {},
   "outputs": [
    {
     "data": {
      "text/plain": [
       "0.012484905249216954"
      ]
     },
     "execution_count": 9,
     "metadata": {},
     "output_type": "execute_result"
    }
   ],
   "source": [
    "sp_returns.std()"
   ]
  },
  {
   "cell_type": "code",
   "execution_count": 10,
   "id": "db4d8f0a",
   "metadata": {},
   "outputs": [],
   "source": [
    "x=np.linspace(-.1,.01,1000)"
   ]
  },
  {
   "cell_type": "code",
   "execution_count": 15,
   "id": "35188c33",
   "metadata": {},
   "outputs": [],
   "source": [
    "y=stats.norm.pdf(x,loc=sp_returns.mean(),scale=sp_returns.std())"
   ]
  },
  {
   "cell_type": "code",
   "execution_count": 16,
   "id": "259cc985",
   "metadata": {},
   "outputs": [
    {
     "data": {
      "text/plain": [
       "Text(0.5, 1.0, 'Normality pf sp 500 daily returns')"
      ]
     },
     "execution_count": 16,
     "metadata": {},
     "output_type": "execute_result"
    },
    {
     "data": {
      "image/png": "[encoded data removed]",
      "text/plain": [
       "<Figure size 864x576 with 1 Axes>"
      ]
     },
     "metadata": {
      "needs_background": "light"
     },
     "output_type": "display_data"
    }
   ],
   "source": [
    "plt.figure(figsize=(12,8))\n",
    "plt.hist(sp_returns,density=True,bins=200,label='SP 500 Daily Returns 07-18')\n",
    "plt.plot(x,y,label='Normal Distribution')\n",
    "plt.legend(fontsize=12)\n",
    "plt.xlabel('daily returns')\n",
    "plt.title('Normality pf sp 500 daily returns')"
   ]
  },
  {
   "cell_type": "code",
   "execution_count": 17,
   "id": "d4f37e66",
   "metadata": {},
   "outputs": [
    {
     "data": {
      "text/plain": [
       "-0.11775154454078195"
      ]
     },
     "execution_count": 17,
     "metadata": {},
     "output_type": "execute_result"
    }
   ],
   "source": [
    "stats.skew(sp_returns)"
   ]
  },
  {
   "cell_type": "markdown",
   "id": "9db71d97",
   "metadata": {},
   "source": [
    "left skewed distribution"
   ]
  },
  {
   "cell_type": "code",
   "execution_count": 18,
   "id": "e93b8ae7",
   "metadata": {},
   "outputs": [
    {
     "data": {
      "text/plain": [
       "SkewtestResult(statistic=-2.6388253414879306, pvalue=0.008319383050798986)"
      ]
     },
     "execution_count": 18,
     "metadata": {},
     "output_type": "execute_result"
    }
   ],
   "source": [
    "stats.skewtest(sp_returns)"
   ]
  },
  {
   "cell_type": "markdown",
   "id": "53147191",
   "metadata": {},
   "source": [
    "reject null skew diff from zero"
   ]
  },
  {
   "cell_type": "code",
   "execution_count": 20,
   "id": "58236771",
   "metadata": {},
   "outputs": [
    {
     "data": {
      "text/plain": [
       "10.901383580974628"
      ]
     },
     "execution_count": 20,
     "metadata": {},
     "output_type": "execute_result"
    }
   ],
   "source": [
    "stats.kurtosis(sp_returns)"
   ]
  },
  {
   "cell_type": "markdown",
   "id": "ff79965c",
   "metadata": {},
   "source": [
    " kurtosis value of 10.9 suggests a highly leptokurtic distribution. This indicates that the distribution has heavy tails and may have more extreme values or a more pronounced peak compared to a normal distribution"
   ]
  },
  {
   "cell_type": "code",
   "execution_count": 21,
   "id": "e83e18b9",
   "metadata": {},
   "outputs": [
    {
     "data": {
      "text/plain": [
       "KurtosistestResult(statistic=23.721394870015782, pvalue=2.169130089232272e-124)"
      ]
     },
     "execution_count": 21,
     "metadata": {},
     "output_type": "execute_result"
    }
   ],
   "source": [
    "stats.kurtosistest(sp_returns)"
   ]
  },
  {
   "cell_type": "markdown",
   "id": "a5f7364c",
   "metadata": {},
   "source": [
    "fat tailed and not normally distributed"
   ]
  },
  {
   "cell_type": "code",
   "execution_count": 22,
   "id": "9a58a054",
   "metadata": {},
   "outputs": [
    {
     "data": {
      "text/plain": [
       "NormaltestResult(statistic=569.66797376209, pvalue=1.9868781741023174e-124)"
      ]
     },
     "execution_count": 22,
     "metadata": {},
     "output_type": "execute_result"
    }
   ],
   "source": [
    "stats.normaltest(sp_returns)"
   ]
  },
  {
   "cell_type": "markdown",
   "id": "f3a58d26",
   "metadata": {},
   "source": [
    "small p value means not normally distributed"
   ]
  },
  {
   "cell_type": "markdown",
   "id": "25893e49",
   "metadata": {},
   "source": [
    "# VAR PARAMETRIC METHOD"
   ]
  },
  {
   "cell_type": "markdown",
   "id": "3d6d0eae",
   "metadata": {},
   "source": [
    "paramteric assumes a normality of return but stock returns dont follow normal distribution"
   ]
  },
  {
   "cell_type": "markdown",
   "id": "86769c52",
   "metadata": {},
   "source": [
    "The Investment Fund ABC currently has a __1,000,000 USD__ position in the __S&P 500 Index__. The Risk Manager of the Fund wants to estimate the __tail risk__ (extreme negative outcomes) of this position based on __historical data__ (and forecasts).<br><br>Calculate the __minimum loss__ over a __one-day period__ that will occur with __1%__ probability: __1% Value-at-Risk (VaR) of 1,000,000 USD over a one-day period__. Use the __parametric method__."
   ]
  },
  {
   "cell_type": "code",
   "execution_count": 23,
   "id": "c1aa6509",
   "metadata": {},
   "outputs": [
    {
     "data": {
      "text/plain": [
       "array([ 0.0012, -0.0061,  0.0022, ...,  0.0086, -0.0012,  0.0085])"
      ]
     },
     "execution_count": 23,
     "metadata": {},
     "output_type": "execute_result"
    }
   ],
   "source": [
    "sp_returns"
   ]
  },
  {
   "cell_type": "markdown",
   "id": "aa47cfe8",
   "metadata": {},
   "source": [
    "__1% var of 1 million over 1day period:__ "
   ]
  },
  {
   "cell_type": "code",
   "execution_count": 27,
   "id": "a5e3c1c8",
   "metadata": {},
   "outputs": [],
   "source": [
    "initial=1000000\n",
    "probability=0.01"
   ]
  },
  {
   "cell_type": "code",
   "execution_count": 25,
   "id": "dcef8fff",
   "metadata": {},
   "outputs": [],
   "source": [
    "mean=sp_returns.mean()"
   ]
  },
  {
   "cell_type": "code",
   "execution_count": 26,
   "id": "3476163e",
   "metadata": {},
   "outputs": [],
   "source": [
    "std=sp_returns.std()"
   ]
  },
  {
   "cell_type": "code",
   "execution_count": 29,
   "id": "92ffa03d",
   "metadata": {},
   "outputs": [
    {
     "data": {
      "text/plain": [
       "-28777.083826785176"
      ]
     },
     "execution_count": 29,
     "metadata": {},
     "output_type": "execute_result"
    }
   ],
   "source": [
    "stats.norm.ppf(q=probability,loc=mean,scale=std)*initial"
   ]
  },
  {
   "cell_type": "markdown",
   "id": "faab776f",
   "metadata": {},
   "source": [
    "__1% Daily var is 28,777 USD__"
   ]
  },
  {
   "cell_type": "markdown",
   "id": "0b835729",
   "metadata": {},
   "source": [
    "__ __"
   ]
  },
  {
   "cell_type": "markdown",
   "id": "497cbea2",
   "metadata": {},
   "source": [
    "___USING DAILY MEAN OF 0%___"
   ]
  },
  {
   "cell_type": "code",
   "execution_count": 31,
   "id": "cb48563d",
   "metadata": {},
   "outputs": [
    {
     "data": {
      "text/plain": [
       "-29044.232784117194"
      ]
     },
     "execution_count": 31,
     "metadata": {},
     "output_type": "execute_result"
    }
   ],
   "source": [
    "stats.norm.ppf(q=probability,loc=0,scale=std)*initial"
   ]
  },
  {
   "cell_type": "markdown",
   "id": "c24b53a0",
   "metadata": {},
   "source": [
    "__1% daily var is 29044 USD__"
   ]
  },
  {
   "cell_type": "markdown",
   "id": "0243d9a1",
   "metadata": {},
   "source": [
    "common practice to use 0 as mean"
   ]
  },
  {
   "cell_type": "markdown",
   "id": "b6a897d0",
   "metadata": {},
   "source": [
    "__ __"
   ]
  },
  {
   "cell_type": "markdown",
   "id": "8f22f84c",
   "metadata": {},
   "source": [
    "__Using mean return forecast__"
   ]
  },
  {
   "cell_type": "code",
   "execution_count": 34,
   "id": "6a3b80b4",
   "metadata": {},
   "outputs": [],
   "source": [
    "annual=-0.05\n",
    "#assume a -5% return for sp that year"
   ]
  },
  {
   "cell_type": "code",
   "execution_count": 35,
   "id": "e738cd7a",
   "metadata": {},
   "outputs": [],
   "source": [
    "daily=(1+annual)**(1/252)-1"
   ]
  },
  {
   "cell_type": "code",
   "execution_count": 36,
   "id": "9cc4d787",
   "metadata": {},
   "outputs": [
    {
     "data": {
      "text/plain": [
       "-29247.7568892742"
      ]
     },
     "execution_count": 36,
     "metadata": {},
     "output_type": "execute_result"
    }
   ],
   "source": [
    "stats.norm.ppf(q=probability,loc=daily,scale=std)*initial"
   ]
  },
  {
   "cell_type": "markdown",
   "id": "eaaa21c1",
   "metadata": {},
   "source": [
    "__1% daily var is 29247 USD__"
   ]
  },
  {
   "cell_type": "markdown",
   "id": "2bc85b89",
   "metadata": {},
   "source": [
    "__ __"
   ]
  },
  {
   "cell_type": "markdown",
   "id": "34cc767c",
   "metadata": {},
   "source": [
    "# VaR USING HISTORICAL METHOD"
   ]
  },
  {
   "cell_type": "markdown",
   "id": "ddc56d9c",
   "metadata": {},
   "source": [
    "The Investment Fund ABC currently has a __1,000,000 USD__ position in the __S&P 500 Index__. The Risk Manager of the Fund wants to estimate the __tail risk__ (extreme negative outcomes) of this position based on __historical data__ (and forecasts).<br><br>Calculate the __minimum loss__ over a __one-day period__ that will occur with __1%__ probability: __1% Value-at-Risk (VaR) of 1,000,000 USD over a one-day period__. Use the __historical method__."
   ]
  },
  {
   "cell_type": "markdown",
   "id": "f451816a",
   "metadata": {},
   "source": [
    "__1% of VaR using historical method:__"
   ]
  },
  {
   "cell_type": "code",
   "execution_count": 37,
   "id": "10e703f6",
   "metadata": {},
   "outputs": [
    {
     "data": {
      "text/plain": [
       "array([ 0.0012, -0.0061,  0.0022, ...,  0.0086, -0.0012,  0.0085])"
      ]
     },
     "execution_count": 37,
     "metadata": {},
     "output_type": "execute_result"
    }
   ],
   "source": [
    "sp_returns"
   ]
  },
  {
   "cell_type": "code",
   "execution_count": 39,
   "id": "b8be6322",
   "metadata": {},
   "outputs": [
    {
     "data": {
      "text/plain": [
       "1000000"
      ]
     },
     "execution_count": 39,
     "metadata": {},
     "output_type": "execute_result"
    }
   ],
   "source": [
    "initial"
   ]
  },
  {
   "cell_type": "code",
   "execution_count": 40,
   "id": "53287e9a",
   "metadata": {},
   "outputs": [
    {
     "data": {
      "text/plain": [
       "0.01"
      ]
     },
     "execution_count": 40,
     "metadata": {},
     "output_type": "execute_result"
    }
   ],
   "source": [
    "probability"
   ]
  },
  {
   "cell_type": "code",
   "execution_count": 42,
   "id": "171e95eb",
   "metadata": {},
   "outputs": [
    {
     "data": {
      "text/plain": [
       "Text(0.5, 1.0, 'sp 500 daily returns')"
      ]
     },
     "execution_count": 42,
     "metadata": {},
     "output_type": "execute_result"
    },
    {
     "data": {
      "image/png": "[encoded data removed]",
      "text/plain": [
       "<Figure size 864x576 with 1 Axes>"
      ]
     },
     "metadata": {
      "needs_background": "light"
     },
     "output_type": "display_data"
    }
   ],
   "source": [
    "plt.figure(figsize=(12,8))\n",
    "plt.hist(sp_returns,density=True,bins=200,label='SP 500 Daily Returns 07-18')\n",
    "plt.legend(fontsize=12)\n",
    "plt.xlabel('daily returns')\n",
    "plt.title('sp 500 daily returns')"
   ]
  },
  {
   "cell_type": "code",
   "execution_count": 43,
   "id": "57fd7023",
   "metadata": {},
   "outputs": [
    {
     "data": {
      "text/plain": [
       "-0.037385006376324616"
      ]
     },
     "execution_count": 43,
     "metadata": {},
     "output_type": "execute_result"
    }
   ],
   "source": [
    "np.percentile(sp_returns,probability*100)"
   ]
  },
  {
   "cell_type": "markdown",
   "id": "421b4afe",
   "metadata": {},
   "source": [
    "we want data that lies below 99% of values so we calculate first percentile"
   ]
  },
  {
   "cell_type": "code",
   "execution_count": 45,
   "id": "e08b59ec",
   "metadata": {},
   "outputs": [
    {
     "data": {
      "text/plain": [
       "-37385.006376324614"
      ]
     },
     "execution_count": 45,
     "metadata": {},
     "output_type": "execute_result"
    }
   ],
   "source": [
    "var_h=np.percentile(sp_returns,probability*100)*initial\n",
    "var_h"
   ]
  },
  {
   "cell_type": "markdown",
   "id": "7296fe96",
   "metadata": {},
   "source": [
    "__daily VaR for our porfolio at 1% is 37.3k USD__"
   ]
  },
  {
   "cell_type": "code",
   "execution_count": null,
   "id": "ce5be4ad",
   "metadata": {},
   "outputs": [],
   "source": []
  }
 ],
 "metadata": {
  "kernelspec": {
   "display_name": "Python 3 (ipykernel)",
   "language": "python",
   "name": "python3"
  },
  "language_info": {
   "codemirror_mode": {
    "name": "ipython",
    "version": 3
   },
   "file_extension": ".py",
   "mimetype": "text/x-python",
   "name": "python",
   "nbconvert_exporter": "python",
   "pygments_lexer": "ipython3",
   "version": "3.9.12"
  }
 },
 "nbformat": 4,
 "nbformat_minor": 5
}
