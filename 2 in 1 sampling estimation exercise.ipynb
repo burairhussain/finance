{
 "cells": [
  {
   "cell_type": "markdown",
   "metadata": {},
   "source": [
    "# Coding Exercises (Part 2)"
   ]
  },
  {
   "cell_type": "markdown",
   "metadata": {},
   "source": [
    "Now, you will have the opportunity to practice what you have learned. <br>\n",
    "__Follow the instructions__ and insert your code! "
   ]
  },
  {
   "cell_type": "markdown",
   "metadata": {},
   "source": [
    "The correct answer is provided below your coding cell. There you can check whether your code is correct."
   ]
  },
  {
   "cell_type": "markdown",
   "metadata": {},
   "source": [
    "If you need some help or if you want to check your code, you can also have a look at the __solutions__."
   ]
  },
  {
   "cell_type": "markdown",
   "metadata": {},
   "source": [
    "### Have Fun!"
   ]
  },
  {
   "cell_type": "markdown",
   "metadata": {},
   "source": [
    "--------------------------------------------------------------------------------------------------------------"
   ]
  },
  {
   "cell_type": "markdown",
   "metadata": {},
   "source": [
    "## Exercise 3: Sampling and Estimation"
   ]
  },
  {
   "cell_type": "markdown",
   "metadata": {},
   "source": [
    "1. Import numpy and the S&P500 price returns (in %) for the year 2018 for the complete population (size = 500). "
   ]
  },
  {
   "cell_type": "code",
   "execution_count": 1,
   "metadata": {},
   "outputs": [],
   "source": [
    "# run the cell\n",
    "import numpy as np\n",
    "np.set_printoptions(precision=4, suppress= True)"
   ]
  },
  {
   "cell_type": "code",
   "execution_count": 2,
   "metadata": {
    "scrolled": true
   },
   "outputs": [
    {
     "data": {
      "text/plain": [
       "array([ 0.4699,  0.1144, -0.4105,  0.4611,  0.5444,  0.1743,  0.6632,\n",
       "        0.4858,  0.307 ,  0.7022,  0.226 , -0.122 ,  0.1402,  0.1093,\n",
       "        0.4164,  0.1245,  0.1685, -0.068 ,  0.2612, -0.2211, -0.0877,\n",
       "       -0.0383,  0.0859,  0.2179, -0.0246,  0.4857,  1.3113, -0.1715,\n",
       "        0.4127,  0.2431, -0.0226,  0.5841,  0.1101, -0.0935,  0.4912,\n",
       "        0.4126,  0.1894,  0.5276,  0.35  ,  0.5596,  1.4344,  0.5957,\n",
       "        0.5651,  0.2015,  0.2942, -0.3348,  0.1409,  0.3065,  0.5027,\n",
       "        0.1751,  0.4698,  0.1583,  0.7535,  0.0071,  0.4533,  0.6357,\n",
       "        0.2644,  0.3406, -0.0993,  0.8943,  0.3357,  0.4578,  0.0574,\n",
       "        0.6046,  0.293 ,  0.0947,  0.5287, -0.513 ,  0.1234,  0.1368,\n",
       "        0.1853,  0.35  ,  0.0085,  0.0486,  0.3662,  0.2162,  0.1461,\n",
       "        0.2954,  0.0338,  0.2521, -0.0475, -0.1487,  0.6992,  0.106 ,\n",
       "        0.6862,  0.3754, -0.0726,  0.2794,  0.2749,  0.6582,  0.334 ,\n",
       "        0.3599, -0.0984,  0.4226,  0.3513,  0.1782,  0.1353,  0.2161,\n",
       "        0.1669,  0.5225, -0.0103,  0.153 ,  0.2393,  0.2746,  0.1599,\n",
       "        0.2661, -0.234 ,  0.2925,  0.1365,  0.7855,  0.151 ,  0.1414,\n",
       "        0.2243,  0.2455,  0.0947,  0.1625,  0.0863, -0.2044,  0.4646,\n",
       "        0.5592,  0.4933,  0.2674,  0.531 ,  0.3485, -0.2986,  0.2675,\n",
       "        0.2373, -0.0812,  0.0636,  0.1329,  0.0584,  0.1384,  0.2447,\n",
       "        0.5189,  0.067 ,  0.2557,  0.0717,  0.8686,  0.1924,  0.0316,\n",
       "       -0.1835, -0.2095, -0.1757,  0.1592,  0.3904,  0.3478,  0.0245,\n",
       "        0.3204,  0.1112,  0.0836,  0.1254, -0.0935,  0.5971,  0.3339,\n",
       "        0.2711,  0.1447,  0.153 , -0.0026, -0.1215,  0.6635,  0.2318,\n",
       "        0.25  ,  0.0674,  0.2681, -0.0092,  0.1439,  0.0382,  0.4306,\n",
       "        0.1777,  0.1078, -0.063 ,  0.2029,  0.1105,  0.2215,  0.0573,\n",
       "        0.1322,  0.0297,  0.2493,  0.1639,  0.5338,  0.2802,  0.4375,\n",
       "        0.3402, -0.0113, -0.0933,  0.2439,  0.2339,  0.125 ,  0.2882,\n",
       "       -0.1232,  0.3597,  0.6738, -0.0597, -0.0654, -0.1188,  0.4505,\n",
       "        0.3491,  0.1783, -0.4477,  0.0004, -0.0401,  0.2298,  0.3181,\n",
       "        0.1765,  0.3558,  0.3293, -0.0055,  0.4442,  0.5178,  0.2285,\n",
       "        0.0639,  0.0172, -0.0965,  0.1684,  0.1014, -0.0306,  0.1867,\n",
       "       -0.1225,  0.4136, -0.2379,  0.5635,  0.1811,  0.2797,  0.4309,\n",
       "       -0.1279,  0.0656,  0.3238, -0.1649,  0.0677,  0.4158,  0.1405,\n",
       "        0.0454, -0.0787,  0.0536,  0.0975,  0.2159, -0.0757,  0.2506,\n",
       "        0.3335,  0.4654,  0.2952,  0.7064, -0.0555,  0.2751,  0.2727,\n",
       "        0.3767,  0.092 , -0.1388,  1.1693,  0.2873,  0.1886,  0.1616,\n",
       "        0.7264,  0.2185,  0.3625,  0.2044,  0.1845, -0.0748,  0.1572,\n",
       "        0.1392,  0.3174,  0.2127,  0.0085,  0.2393, -0.0115, -0.0777,\n",
       "        0.104 ,  0.1375, -0.1095, -0.2786,  0.3354,  0.0573, -0.1275,\n",
       "       -0.004 ,  0.1066, -0.2046,  0.0982,  0.2401,  0.0683, -0.0854,\n",
       "        0.2626, -0.0235,  0.4982,  0.2425,  0.3824,  0.3199,  0.3269,\n",
       "        0.1483,  0.2845,  0.16  ,  0.1246,  0.3068,  0.7409,  0.3132,\n",
       "        0.4914,  0.2861, -0.2966,  0.466 ,  0.027 , -0.0728,  0.6416,\n",
       "        0.3896,  0.4141,  0.3699,  0.1104,  0.5658, -0.0345,  0.1337,\n",
       "        0.0527,  0.1582,  0.3817,  0.0919,  0.3732, -0.0022,  0.2042,\n",
       "        0.3181,  0.4274,  0.056 , -0.1251,  0.3104, -0.0442, -0.022 ,\n",
       "        0.2419,  0.6062,  0.3766,  0.0899,  0.0931,  0.4801,  0.8759,\n",
       "        0.3555,  0.109 , -0.2344,  0.2521,  0.1447,  0.3075,  0.1013,\n",
       "        0.5506,  0.1594,  0.2306,  3.8672, -0.1323,  0.3196, -0.0379,\n",
       "        1.323 ,  0.3408,  0.5685,  0.1217,  0.0682,  0.8128, -0.308 ,\n",
       "        0.4068,  0.4145, -0.008 , -0.069 , -0.1443,  0.2296, -0.136 ,\n",
       "        0.0341,  0.1183, -0.0341,  0.1124,  0.1737,  0.1461,  0.1151,\n",
       "        0.2195,  0.0928,  0.5865,  0.4256,  0.809 ,  0.4212,  0.4021,\n",
       "        0.222 ,  0.1548,  0.2337,  0.2594,  0.0916,  0.2328, -0.091 ,\n",
       "        0.0472,  0.1049, -0.0649,  0.1706,  0.5205,  0.1222, -0.0401,\n",
       "        0.8652, -0.0181,  0.263 ,  0.4539,  0.0225,  0.0033,  0.0242,\n",
       "        0.2033,  0.1386,  0.2892,  0.148 ,  0.3649,  0.4609,  0.3774,\n",
       "        0.4147,  0.2233,  0.1851,  0.3229,  0.582 ,  0.0344,  0.3015,\n",
       "        0.0873,  0.5258,  0.3618, -0.0298, -0.1973, -0.0616,  0.0177,\n",
       "        0.4482, -0.0224, -0.0334,  0.5752,  0.0624,  0.1776,  0.2559,\n",
       "        0.0961,  0.4909,  0.4796,  0.2718,  0.0645,  0.2924,  0.1746,\n",
       "        0.0968, -0.0858, -0.1566,  0.1031,  0.3718,  0.544 , -0.0966,\n",
       "        0.3425,  0.0178,  0.3457,  0.1043,  0.263 , -0.2568,  0.3942,\n",
       "        0.108 , -0.014 ,  0.3144,  1.2272,  0.473 ,  0.4313,  0.1654,\n",
       "       -0.4708, -0.5033, -0.0752,  0.0559,  0.0655, -0.1227,  0.3775,\n",
       "        0.2495,  0.2934,  0.0393,  0.6282,  0.043 ,  0.1637,  0.4614,\n",
       "        0.4118,  0.3869, -0.1222,  0.3453,  0.0257, -0.0734,  0.1827,\n",
       "        0.5044,  1.0342, -0.0401, -0.0084, -0.0192,  0.4375, -0.1225,\n",
       "        0.4671,  0.1704,  0.1327, -0.0472,  0.1009, -0.0722,  0.2323,\n",
       "        0.217 , -0.0209,  0.4287,  0.245 , -0.1248,  0.1718,  0.9488,\n",
       "       -0.1022,  0.1821,  0.1168, -0.0733,  0.1403,  0.2674,  0.3772,\n",
       "        0.2886,  0.181 ,  0.3458])"
      ]
     },
     "execution_count": 2,
     "metadata": {},
     "output_type": "execute_result"
    }
   ],
   "source": [
    "# run the cell\n",
    "pop=np.loadtxt('C:/Users/aheed/Desktop/SP500.csv', delimiter=\",\",usecols=1)\n",
    "pop"
   ]
  },
  {
   "cell_type": "markdown",
   "metadata": {},
   "source": [
    "2. Draw a __random sample__ with sample size __50__ and __save__ the sample. Use the random __seed 123__."
   ]
  },
  {
   "cell_type": "code",
   "execution_count": 3,
   "metadata": {},
   "outputs": [],
   "source": [
    "sample_size = 50\n"
   ]
  },
  {
   "cell_type": "code",
   "execution_count": 4,
   "metadata": {},
   "outputs": [],
   "source": [
    "np.random.seed(123)\n",
    "sample = np.random.choice(pop, sample_size, replace = False)"
   ]
  },
  {
   "cell_type": "code",
   "execution_count": 5,
   "metadata": {},
   "outputs": [
    {
     "data": {
      "text/plain": [
       "array([ 0.4158,  0.1594,  0.4801,  0.5752, -0.0345,  0.1384,  0.1743,\n",
       "        0.3718,  0.3425,  0.067 ,  0.0982, -0.0115,  0.4912,  0.1066,\n",
       "        0.9488, -0.122 ,  0.0472, -0.0734,  0.2924,  0.7064,  0.4226,\n",
       "        0.3817, -0.1232,  0.2401,  0.1924,  0.2521, -0.0022,  0.8943,\n",
       "       -0.0965,  0.2029,  0.0916,  0.3754,  0.104 ,  0.1894, -0.1275,\n",
       "        0.1483,  0.2439,  0.2306, -0.0935,  1.323 ,  0.1151,  0.7022,\n",
       "        0.3558, -0.0084,  0.5027,  0.2626,  0.1245, -0.0933, -0.0246,\n",
       "        0.6992])"
      ]
     },
     "execution_count": 5,
     "metadata": {},
     "output_type": "execute_result"
    }
   ],
   "source": [
    "sample"
   ]
  },
  {
   "cell_type": "code",
   "execution_count": null,
   "metadata": {},
   "outputs": [],
   "source": []
  },
  {
   "cell_type": "markdown",
   "metadata": {},
   "source": [
    "++++ __From this point, assume that you only have the sample. You don´t know anything about the population.__++++ "
   ]
  },
  {
   "cell_type": "markdown",
   "metadata": {},
   "source": [
    "3. Calculate and save the __sample mean__ (point estimate of the mean)."
   ]
  },
  {
   "cell_type": "code",
   "execution_count": 6,
   "metadata": {},
   "outputs": [
    {
     "data": {
      "text/plain": [
       "0.25318589009450754"
      ]
     },
     "execution_count": 6,
     "metadata": {},
     "output_type": "execute_result"
    }
   ],
   "source": [
    "POE=sample.mean()\n",
    "POE"
   ]
  },
  {
   "cell_type": "markdown",
   "metadata": {},
   "source": [
    "(result: -3.8301530353346083)"
   ]
  },
  {
   "cell_type": "code",
   "execution_count": null,
   "metadata": {},
   "outputs": [],
   "source": []
  },
  {
   "cell_type": "markdown",
   "metadata": {},
   "source": [
    "4. Calculate and save the __sample standard deviation__ (point estimate of the std)."
   ]
  },
  {
   "cell_type": "code",
   "execution_count": 7,
   "metadata": {},
   "outputs": [
    {
     "data": {
      "text/plain": [
       "0.3049655312879426"
      ]
     },
     "execution_count": 7,
     "metadata": {},
     "output_type": "execute_result"
    }
   ],
   "source": [
    "point_est_std = sample.std(ddof = 1)\n",
    "point_est_std"
   ]
  },
  {
   "cell_type": "markdown",
   "metadata": {},
   "source": [
    "(result: 24.56795822088298)"
   ]
  },
  {
   "cell_type": "code",
   "execution_count": null,
   "metadata": {},
   "outputs": [],
   "source": []
  },
  {
   "cell_type": "markdown",
   "metadata": {},
   "source": [
    "5. Calculate the __Standard Error__ of the sample mean."
   ]
  },
  {
   "cell_type": "code",
   "execution_count": 8,
   "metadata": {},
   "outputs": [
    {
     "data": {
      "text/plain": [
       "0.04387781692192243"
      ]
     },
     "execution_count": 8,
     "metadata": {},
     "output_type": "execute_result"
    }
   ],
   "source": [
    "stderr=pop.std()/np.sqrt(sample_size)\n",
    "stderr"
   ]
  },
  {
   "cell_type": "markdown",
   "metadata": {},
   "source": [
    "(result: 3.4744339715788284)"
   ]
  },
  {
   "cell_type": "code",
   "execution_count": null,
   "metadata": {},
   "outputs": [],
   "source": []
  },
  {
   "cell_type": "markdown",
   "metadata": {},
   "source": [
    "6. Estimate the (__equally-weighted__) mean return for the whole S&P 500 population for the year 2018 by constructing a __90% Confidence Interval__."
   ]
  },
  {
   "cell_type": "code",
   "execution_count": 9,
   "metadata": {},
   "outputs": [],
   "source": [
    "import scipy.stats as stats"
   ]
  },
  {
   "cell_type": "code",
   "execution_count": 10,
   "metadata": {
    "scrolled": true
   },
   "outputs": [],
   "source": [
    "conf=0.90\n"
   ]
  },
  {
   "cell_type": "code",
   "execution_count": 13,
   "metadata": {},
   "outputs": [
    {
     "data": {
      "text/plain": [
       "(0.17962249699880772, 0.32674928319020735)"
      ]
     },
     "execution_count": 13,
     "metadata": {},
     "output_type": "execute_result"
    }
   ],
   "source": [
    "stats.t.interval(conf, loc = POE, scale = stderr, df = sample_size - 1)"
   ]
  },
  {
   "cell_type": "markdown",
   "metadata": {},
   "source": [
    "(result: (-9.655218409282309, 1.9949123386130907))"
   ]
  },
  {
   "cell_type": "code",
   "execution_count": null,
   "metadata": {},
   "outputs": [],
   "source": []
  },
  {
   "cell_type": "markdown",
   "metadata": {},
   "source": [
    "7. __Same as Q6__. This time, construct the 90% Confidence Interval with __Bootstrapping__. Use __100,000 simulations__ and the random __seed 123__."
   ]
  },
  {
   "cell_type": "code",
   "execution_count": 14,
   "metadata": {},
   "outputs": [],
   "source": [
    "sims=1000000"
   ]
  },
  {
   "cell_type": "code",
   "execution_count": 15,
   "metadata": {},
   "outputs": [
    {
     "data": {
      "text/plain": [
       "50"
      ]
     },
     "execution_count": 15,
     "metadata": {},
     "output_type": "execute_result"
    }
   ],
   "source": [
    "sample_size=sample.size\n",
    "sample_size"
   ]
  },
  {
   "cell_type": "code",
   "execution_count": 16,
   "metadata": {},
   "outputs": [
    {
     "data": {
      "text/plain": [
       "0.25318589009450754"
      ]
     },
     "execution_count": 16,
     "metadata": {},
     "output_type": "execute_result"
    }
   ],
   "source": [
    "sample.mean()"
   ]
  },
  {
   "cell_type": "code",
   "execution_count": null,
   "metadata": {},
   "outputs": [],
   "source": [
    "np.random.seed(123)\n",
    "bootstrap=[]\n",
    "for i in range(sims):\n",
    "    bootstrap.append(np.random.choice(sample,size=sample_size,replace=True).mean())"
   ]
  },
  {
   "cell_type": "markdown",
   "metadata": {},
   "source": [
    "(result: array([-9.404 ,  1.9449]))"
   ]
  },
  {
   "cell_type": "code",
   "execution_count": null,
   "metadata": {},
   "outputs": [],
   "source": [
    "plt.figure(figsize = (12, 8))\n",
    "plt.hist(bootstrap, bins = 1000)\n",
    "plt.grid()\n",
    "plt.xticks(np.arange(0, 0.5, 0.05))\n",
    "plt.ylabel(\"Absolute Frequency\", fontsize = 13)\n",
    "plt.xlabel(\"Mean Return\", fontsize = 13)\n",
    "plt.show()"
   ]
  },
  {
   "cell_type": "markdown",
   "metadata": {},
   "source": [
    "# Well Done!"
   ]
  },
  {
   "cell_type": "markdown",
   "metadata": {},
   "source": [
    "---------------------------------------------------------------------------------------------------------------------"
   ]
  },
  {
   "cell_type": "markdown",
   "metadata": {},
   "source": [
    "# Solutions (Stop here if you want to code on your own!)"
   ]
  },
  {
   "cell_type": "markdown",
   "metadata": {},
   "source": [
    "# ++++++++++++++++++++++++++++++++++++++++++++++++++++++++++++++"
   ]
  },
  {
   "cell_type": "markdown",
   "metadata": {},
   "source": [
    "1. Import numpy and the S&P500 price returns (in %) for the year 2018 for the complete population (size = 500). "
   ]
  },
  {
   "cell_type": "code",
   "execution_count": null,
   "metadata": {},
   "outputs": [],
   "source": [
    "# run the cell\n",
    "import numpy as np\n",
    "np.set_printoptions(precision=4, suppress= True)"
   ]
  },
  {
   "cell_type": "code",
   "execution_count": null,
   "metadata": {
    "scrolled": true
   },
   "outputs": [],
   "source": [
    "# run the cell\n",
    "pop = np.loadtxt(\"SP500_2018.csv\", delimiter = \",\", usecols = 1)\n",
    "pop"
   ]
  },
  {
   "cell_type": "markdown",
   "metadata": {},
   "source": [
    "2. Draw a __random sample__ with sample size __50__ and __save__ the sample. Use the random __seed 123__."
   ]
  },
  {
   "cell_type": "code",
   "execution_count": null,
   "metadata": {},
   "outputs": [],
   "source": [
    "sample_size = 50"
   ]
  },
  {
   "cell_type": "code",
   "execution_count": null,
   "metadata": {},
   "outputs": [],
   "source": [
    "np.random.seed(123)\n",
    "sample = np.random.choice(pop, sample_size, replace = False)"
   ]
  },
  {
   "cell_type": "code",
   "execution_count": null,
   "metadata": {},
   "outputs": [],
   "source": [
    "sample"
   ]
  },
  {
   "cell_type": "code",
   "execution_count": null,
   "metadata": {},
   "outputs": [],
   "source": []
  },
  {
   "cell_type": "markdown",
   "metadata": {},
   "source": [
    "++++ __From this point, assume that you only have the sample. You don´t know anything about the population.__++++ "
   ]
  },
  {
   "cell_type": "markdown",
   "metadata": {},
   "source": [
    "3. Calculate and save the __sample mean__ (point estimate of the mean)."
   ]
  },
  {
   "cell_type": "code",
   "execution_count": null,
   "metadata": {},
   "outputs": [],
   "source": [
    "point_est_mean = sample.mean()\n",
    "point_est_mean"
   ]
  },
  {
   "cell_type": "markdown",
   "metadata": {},
   "source": [
    "(result: -3.8301530353346083)"
   ]
  },
  {
   "cell_type": "code",
   "execution_count": null,
   "metadata": {},
   "outputs": [],
   "source": []
  },
  {
   "cell_type": "markdown",
   "metadata": {},
   "source": [
    "4. Calculate and save the __sample standard deviation__ (point estimate of the std)."
   ]
  },
  {
   "cell_type": "code",
   "execution_count": null,
   "metadata": {},
   "outputs": [],
   "source": [
    "point_est_std = sample.std(ddof = 1)\n",
    "point_est_std"
   ]
  },
  {
   "cell_type": "markdown",
   "metadata": {},
   "source": [
    "(result: 24.56795822088298)"
   ]
  },
  {
   "cell_type": "code",
   "execution_count": null,
   "metadata": {},
   "outputs": [],
   "source": []
  },
  {
   "cell_type": "markdown",
   "metadata": {},
   "source": [
    "5. Calculate the __Standard Error__ of the sample mean."
   ]
  },
  {
   "cell_type": "code",
   "execution_count": null,
   "metadata": {},
   "outputs": [],
   "source": [
    "standard_error = point_est_std / np.sqrt(sample_size)\n",
    "standard_error"
   ]
  },
  {
   "cell_type": "markdown",
   "metadata": {},
   "source": [
    "(result: 3.4744339715788284)"
   ]
  },
  {
   "cell_type": "code",
   "execution_count": null,
   "metadata": {},
   "outputs": [],
   "source": []
  },
  {
   "cell_type": "markdown",
   "metadata": {},
   "source": [
    "6. Estimate the (__equally-weighted__) mean return for the whole S&P 500 population for the year 2018 by constructing a __90% Confidence Interval__."
   ]
  },
  {
   "cell_type": "code",
   "execution_count": null,
   "metadata": {},
   "outputs": [],
   "source": [
    "import scipy.stats as stats"
   ]
  },
  {
   "cell_type": "code",
   "execution_count": null,
   "metadata": {
    "scrolled": true
   },
   "outputs": [],
   "source": [
    "conf = 0.9"
   ]
  },
  {
   "cell_type": "code",
   "execution_count": null,
   "metadata": {},
   "outputs": [],
   "source": [
    "stats.t.interval(conf, loc = point_est_mean, scale = standard_error, df = sample_size - 1)"
   ]
  },
  {
   "cell_type": "markdown",
   "metadata": {},
   "source": [
    "(result: (-9.655218409282309, 1.9949123386130907))"
   ]
  },
  {
   "cell_type": "code",
   "execution_count": null,
   "metadata": {},
   "outputs": [],
   "source": []
  },
  {
   "cell_type": "markdown",
   "metadata": {},
   "source": [
    "7. __Same as Q6__. This time, construct the 90% Confidence Interval with __Bootstrapping__. Use __100,000 simulations__ and the random __seed 123__."
   ]
  },
  {
   "cell_type": "code",
   "execution_count": null,
   "metadata": {},
   "outputs": [],
   "source": [
    "sims = 100000"
   ]
  },
  {
   "cell_type": "code",
   "execution_count": null,
   "metadata": {},
   "outputs": [],
   "source": [
    "np.random.seed(123)\n",
    "bootstrap = []\n",
    "for i in range(sims):\n",
    "    bootstrap.append(np.random.choice(sample, size = sample_size, replace = True).mean())"
   ]
  },
  {
   "cell_type": "code",
   "execution_count": null,
   "metadata": {},
   "outputs": [],
   "source": [
    "bootstrap"
   ]
  },
  {
   "cell_type": "code",
   "execution_count": null,
   "metadata": {},
   "outputs": [],
   "source": [
    "np.percentile(bootstrap, [5, 95])"
   ]
  },
  {
   "cell_type": "markdown",
   "metadata": {},
   "source": [
    "(result: array([-9.404 ,  1.9449]))"
   ]
  },
  {
   "cell_type": "code",
   "execution_count": null,
   "metadata": {},
   "outputs": [],
   "source": []
  }
 ],
 "metadata": {
  "kernelspec": {
   "display_name": "Python 3 (ipykernel)",
   "language": "python",
   "name": "python3"
  },
  "language_info": {
   "codemirror_mode": {
    "name": "ipython",
    "version": 3
   },
   "file_extension": ".py",
   "mimetype": "text/x-python",
   "name": "python",
   "nbconvert_exporter": "python",
   "pygments_lexer": "ipython3",
   "version": "3.9.12"
  }
 },
 "nbformat": 4,
 "nbformat_minor": 2
}
